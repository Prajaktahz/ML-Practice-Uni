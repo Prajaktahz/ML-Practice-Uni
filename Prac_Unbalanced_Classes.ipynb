{
  "nbformat": 4,
  "nbformat_minor": 0,
  "metadata": {
    "colab": {
      "provenance": [],
      "include_colab_link": true
    },
    "kernelspec": {
      "name": "python3",
      "display_name": "Python 3"
    }
  },
  "cells": [
    {
      "cell_type": "markdown",
      "metadata": {
        "id": "view-in-github",
        "colab_type": "text"
      },
      "source": [
        "<a href=\"https://colab.research.google.com/github/Prajaktahz/ML-Practice-Uni/blob/main/Prac_Unbalanced_Classes.ipynb\" target=\"_parent\"><img src=\"https://colab.research.google.com/assets/colab-badge.svg\" alt=\"Open In Colab\"/></a>"
      ]
    },
    {
      "cell_type": "markdown",
      "metadata": {
        "id": "HUgzWuRs3Od2"
      },
      "source": [
        "![alt text](http://www.cs.nott.ac.uk/~pszgss/teaching/nlab.png)\n",
        "# ML Practical: Unbalanced classes\n",
        "\n",
        "Task: We'll again be predicting wine quality and using the modified dataset located:\n",
        "`http://www.cs.nott.ac.uk/~pszgss/teaching/ML/Prac2/winequality-red.csv`\n",
        "\n",
        "Recall we aim to predict the quality of wine (1-10) from a set of measured factors (based on physicochemical tests from samples from a glass) which include:\n",
        "```\n",
        "fixed acidity\n",
        "volatile acidity\n",
        "citric acid\n",
        "residual sugar\n",
        "chlorides\n",
        "free sulfur dioxide\n",
        "total sulfur dioxide\n",
        "density\n",
        "pH\n",
        "sulphates\n",
        "alcohol\n",
        "```\n",
        "The dataset still contains the same missing values. You will need to deal with these in a simlar way to last practical. **You should finish the previous practical before starting this one.** This goes for most practicals in this module.\n",
        "\n",
        "Today we'll be addressing a slightly different problem: **Predicting if a wine is of high quality**. We will define high quality as a rating of >=7. Given most wine is not high quality, this means we have an unbalanced dataset.\n",
        "\n",
        "The practical will take you, step-by-step through dealing with an unbalanced set in three ways:\n",
        "1. Varying the probability threshold\n",
        "2. Using weights in the classifier\n",
        "3. Resampling using SMOTE\n",
        "\n",
        "Ok. Let's start....\n"
      ]
    },
    {
      "cell_type": "markdown",
      "metadata": {
        "id": "QI3btGAY6JyZ"
      },
      "source": [
        "## Step 1\n",
        "Let's load the data as a pandas dataframe\n",
        "\n",
        "As always let's call either .head() or .describe() or both to check our load worked like we expected."
      ]
    },
    {
      "cell_type": "code",
      "metadata": {
        "id": "Rrs80LCuaBNa"
      },
      "source": [
        "import pandas as pd\n",
        "df = pd.read_csv('http://www.cs.nott.ac.uk/~pszgss/teaching/ML/Prac2/winequality-red.csv')"
      ],
      "execution_count": 155,
      "outputs": []
    },
    {
      "cell_type": "code",
      "source": [
        "df.isnull().sum()"
      ],
      "metadata": {
        "colab": {
          "base_uri": "https://localhost:8080/"
        },
        "id": "oxr6sasV8xko",
        "outputId": "371021cd-00e0-4496-a464-0dcc82f2f51e"
      },
      "execution_count": 156,
      "outputs": [
        {
          "output_type": "execute_result",
          "data": {
            "text/plain": [
              "fixed acidity            0\n",
              "volatile acidity         0\n",
              "citric acid              0\n",
              "residual sugar          14\n",
              "chlorides                0\n",
              "free sulfur dioxide      0\n",
              "total sulfur dioxide     0\n",
              "density                  0\n",
              "pH                       0\n",
              "sulphates                0\n",
              "alcohol                  0\n",
              "quality                  0\n",
              "dtype: int64"
            ]
          },
          "metadata": {},
          "execution_count": 156
        }
      ]
    },
    {
      "cell_type": "code",
      "source": [
        "df.quality.nunique()"
      ],
      "metadata": {
        "colab": {
          "base_uri": "https://localhost:8080/"
        },
        "id": "lFGV1BTk80_E",
        "outputId": "b7ddda13-b849-478f-b2df-caccc40eb7ee"
      },
      "execution_count": 157,
      "outputs": [
        {
          "output_type": "execute_result",
          "data": {
            "text/plain": [
              "6"
            ]
          },
          "metadata": {},
          "execution_count": 157
        }
      ]
    },
    {
      "cell_type": "markdown",
      "metadata": {
        "id": "h8RxWn3Z6l2m"
      },
      "source": [
        "## Step 2\n",
        "We're going to do a standard prediction task so we need to split our data into input features and the output feature. **Let's call them X and y as is convention.**\n",
        "\n",
        "At this point we need to convert y, our output feature, into a binary output feature replace quality ratings >=7 with **True** and everything else with **False**."
      ]
    },
    {
      "cell_type": "code",
      "source": [
        "df.shape"
      ],
      "metadata": {
        "colab": {
          "base_uri": "https://localhost:8080/"
        },
        "id": "f2faHGXi8u28",
        "outputId": "6c0ba955-52ae-4c9a-f19d-518b5a6d73ff"
      },
      "execution_count": 158,
      "outputs": [
        {
          "output_type": "execute_result",
          "data": {
            "text/plain": [
              "(1599, 12)"
            ]
          },
          "metadata": {},
          "execution_count": 158
        }
      ]
    },
    {
      "cell_type": "code",
      "metadata": {
        "id": "oyxpEnYL6Tvb"
      },
      "source": [
        "X = df.drop(columns = ['quality'])\n",
        "y = df.quality >= 7"
      ],
      "execution_count": 159,
      "outputs": []
    },
    {
      "cell_type": "code",
      "source": [
        "y.nunique()"
      ],
      "metadata": {
        "colab": {
          "base_uri": "https://localhost:8080/"
        },
        "id": "RZgUMH7C85ML",
        "outputId": "ac644adb-8876-4568-dacc-7e26a4c9d4b5"
      },
      "execution_count": 160,
      "outputs": [
        {
          "output_type": "execute_result",
          "data": {
            "text/plain": [
              "2"
            ]
          },
          "metadata": {},
          "execution_count": 160
        }
      ]
    },
    {
      "cell_type": "markdown",
      "metadata": {
        "id": "i1DS88Hn7inj"
      },
      "source": [
        "## Step 3\n",
        "Now since we know we are going to do a classification task we should think about evaluation.\n",
        "\n",
        "Since we've not got to the advanced evaluation lectures and to focus on the content of this practical (unbalanced classes) we are going to do the simpliest possible form of evaluation, a single test train split. **Remember: in the real world (and any coureworks) this is not acceptable.** But for now, that's what we're going to do.\n",
        "\n",
        "So go ahead. Make a single test train split.\n",
        "\n",
        "**NOTE 1:** Since we have an unbalanced target class we need to be careful that we don't accidentally randomly sample such that we have no high quality wine in our test set. That would make our task way to easy! Therefore we are going to tell the `train_test_split(..)` function to sample in a stratified way based on the class labels.\n",
        "\n",
        "**NOTE 2:** So you can follow along with the solution later I'd recommend a `test_size of 0.33` and a `random_state of 42`. I'd also use the standard names for the output, i.e. `X_train, X_test, y_train, y_test`."
      ]
    },
    {
      "cell_type": "code",
      "metadata": {
        "id": "KVBYm11refsB"
      },
      "source": [
        "from sklearn.model_selection import train_test_split\n",
        "X_train, X_test, y_train, y_test = train_test_split( X, y, test_size=0.33, random_state=42, stratify = y)"
      ],
      "execution_count": 161,
      "outputs": []
    },
    {
      "cell_type": "markdown",
      "metadata": {
        "id": "bWAAUtHJ9CLC"
      },
      "source": [
        "## Step 4\n",
        "Ok, so now to use your skills from last week. Fit a RandomForestClassifer.\n",
        "\n",
        "So we are consistent (and to prevent some other issues associated with the fact we won't evaluate things 100% correctly in this practical for simplicity)\n",
        "\n",
        "**MAKE SURE YOU USE THE FOLLOWING PARAMETERS FOR YOUR RandomForestClassifier**:\n",
        "\n",
        "`RandomForestClassifier(max_depth = 10, random_state=42)`\n",
        "\n",
        "Use the parameters throughout this practical.\n",
        "\n",
        "**HINT 1:** I'd suggest using a pipeline.\n",
        "\n",
        "**HINT 2:** Remember what a RandomForestClassifier can handle and what it can't."
      ]
    },
    {
      "cell_type": "code",
      "metadata": {
        "id": "yXPvURtR61Xm"
      },
      "source": [
        "from sklearn.ensemble import RandomForestClassifier\n",
        "from sklearn.impute import KNNImputer\n",
        "from sklearn.pipeline import Pipeline"
      ],
      "execution_count": 162,
      "outputs": []
    },
    {
      "cell_type": "code",
      "metadata": {
        "id": "0VCPuTffNeQt"
      },
      "source": [
        "ki =  KNNImputer(n_neighbors = 3)\n",
        "rf = RandomForestClassifier(max_depth = 10, random_state=42)\n",
        "m = Pipeline(steps = [('imputer',ki), ('predictor',rf)])"
      ],
      "execution_count": 163,
      "outputs": []
    },
    {
      "cell_type": "code",
      "source": [
        "m.fit(X_train, y_train)"
      ],
      "metadata": {
        "colab": {
          "base_uri": "https://localhost:8080/",
          "height": 124
        },
        "id": "6Eoaado28jYf",
        "outputId": "59fd980f-aeb7-4d02-ce08-9f4413463f05"
      },
      "execution_count": 164,
      "outputs": [
        {
          "output_type": "execute_result",
          "data": {
            "text/plain": [
              "Pipeline(steps=[('imputer', KNNImputer(n_neighbors=3)),\n",
              "                ('predictor',\n",
              "                 RandomForestClassifier(max_depth=10, random_state=42))])"
            ],
            "text/html": [
              "<style>#sk-container-id-2 {color: black;background-color: white;}#sk-container-id-2 pre{padding: 0;}#sk-container-id-2 div.sk-toggleable {background-color: white;}#sk-container-id-2 label.sk-toggleable__label {cursor: pointer;display: block;width: 100%;margin-bottom: 0;padding: 0.3em;box-sizing: border-box;text-align: center;}#sk-container-id-2 label.sk-toggleable__label-arrow:before {content: \"▸\";float: left;margin-right: 0.25em;color: #696969;}#sk-container-id-2 label.sk-toggleable__label-arrow:hover:before {color: black;}#sk-container-id-2 div.sk-estimator:hover label.sk-toggleable__label-arrow:before {color: black;}#sk-container-id-2 div.sk-toggleable__content {max-height: 0;max-width: 0;overflow: hidden;text-align: left;background-color: #f0f8ff;}#sk-container-id-2 div.sk-toggleable__content pre {margin: 0.2em;color: black;border-radius: 0.25em;background-color: #f0f8ff;}#sk-container-id-2 input.sk-toggleable__control:checked~div.sk-toggleable__content {max-height: 200px;max-width: 100%;overflow: auto;}#sk-container-id-2 input.sk-toggleable__control:checked~label.sk-toggleable__label-arrow:before {content: \"▾\";}#sk-container-id-2 div.sk-estimator input.sk-toggleable__control:checked~label.sk-toggleable__label {background-color: #d4ebff;}#sk-container-id-2 div.sk-label input.sk-toggleable__control:checked~label.sk-toggleable__label {background-color: #d4ebff;}#sk-container-id-2 input.sk-hidden--visually {border: 0;clip: rect(1px 1px 1px 1px);clip: rect(1px, 1px, 1px, 1px);height: 1px;margin: -1px;overflow: hidden;padding: 0;position: absolute;width: 1px;}#sk-container-id-2 div.sk-estimator {font-family: monospace;background-color: #f0f8ff;border: 1px dotted black;border-radius: 0.25em;box-sizing: border-box;margin-bottom: 0.5em;}#sk-container-id-2 div.sk-estimator:hover {background-color: #d4ebff;}#sk-container-id-2 div.sk-parallel-item::after {content: \"\";width: 100%;border-bottom: 1px solid gray;flex-grow: 1;}#sk-container-id-2 div.sk-label:hover label.sk-toggleable__label {background-color: #d4ebff;}#sk-container-id-2 div.sk-serial::before {content: \"\";position: absolute;border-left: 1px solid gray;box-sizing: border-box;top: 0;bottom: 0;left: 50%;z-index: 0;}#sk-container-id-2 div.sk-serial {display: flex;flex-direction: column;align-items: center;background-color: white;padding-right: 0.2em;padding-left: 0.2em;position: relative;}#sk-container-id-2 div.sk-item {position: relative;z-index: 1;}#sk-container-id-2 div.sk-parallel {display: flex;align-items: stretch;justify-content: center;background-color: white;position: relative;}#sk-container-id-2 div.sk-item::before, #sk-container-id-2 div.sk-parallel-item::before {content: \"\";position: absolute;border-left: 1px solid gray;box-sizing: border-box;top: 0;bottom: 0;left: 50%;z-index: -1;}#sk-container-id-2 div.sk-parallel-item {display: flex;flex-direction: column;z-index: 1;position: relative;background-color: white;}#sk-container-id-2 div.sk-parallel-item:first-child::after {align-self: flex-end;width: 50%;}#sk-container-id-2 div.sk-parallel-item:last-child::after {align-self: flex-start;width: 50%;}#sk-container-id-2 div.sk-parallel-item:only-child::after {width: 0;}#sk-container-id-2 div.sk-dashed-wrapped {border: 1px dashed gray;margin: 0 0.4em 0.5em 0.4em;box-sizing: border-box;padding-bottom: 0.4em;background-color: white;}#sk-container-id-2 div.sk-label label {font-family: monospace;font-weight: bold;display: inline-block;line-height: 1.2em;}#sk-container-id-2 div.sk-label-container {text-align: center;}#sk-container-id-2 div.sk-container {/* jupyter's `normalize.less` sets `[hidden] { display: none; }` but bootstrap.min.css set `[hidden] { display: none !important; }` so we also need the `!important` here to be able to override the default hidden behavior on the sphinx rendered scikit-learn.org. See: https://github.com/scikit-learn/scikit-learn/issues/21755 */display: inline-block !important;position: relative;}#sk-container-id-2 div.sk-text-repr-fallback {display: none;}</style><div id=\"sk-container-id-2\" class=\"sk-top-container\"><div class=\"sk-text-repr-fallback\"><pre>Pipeline(steps=[(&#x27;imputer&#x27;, KNNImputer(n_neighbors=3)),\n",
              "                (&#x27;predictor&#x27;,\n",
              "                 RandomForestClassifier(max_depth=10, random_state=42))])</pre><b>In a Jupyter environment, please rerun this cell to show the HTML representation or trust the notebook. <br />On GitHub, the HTML representation is unable to render, please try loading this page with nbviewer.org.</b></div><div class=\"sk-container\" hidden><div class=\"sk-item sk-dashed-wrapped\"><div class=\"sk-label-container\"><div class=\"sk-label sk-toggleable\"><input class=\"sk-toggleable__control sk-hidden--visually\" id=\"sk-estimator-id-4\" type=\"checkbox\" ><label for=\"sk-estimator-id-4\" class=\"sk-toggleable__label sk-toggleable__label-arrow\">Pipeline</label><div class=\"sk-toggleable__content\"><pre>Pipeline(steps=[(&#x27;imputer&#x27;, KNNImputer(n_neighbors=3)),\n",
              "                (&#x27;predictor&#x27;,\n",
              "                 RandomForestClassifier(max_depth=10, random_state=42))])</pre></div></div></div><div class=\"sk-serial\"><div class=\"sk-item\"><div class=\"sk-estimator sk-toggleable\"><input class=\"sk-toggleable__control sk-hidden--visually\" id=\"sk-estimator-id-5\" type=\"checkbox\" ><label for=\"sk-estimator-id-5\" class=\"sk-toggleable__label sk-toggleable__label-arrow\">KNNImputer</label><div class=\"sk-toggleable__content\"><pre>KNNImputer(n_neighbors=3)</pre></div></div></div><div class=\"sk-item\"><div class=\"sk-estimator sk-toggleable\"><input class=\"sk-toggleable__control sk-hidden--visually\" id=\"sk-estimator-id-6\" type=\"checkbox\" ><label for=\"sk-estimator-id-6\" class=\"sk-toggleable__label sk-toggleable__label-arrow\">RandomForestClassifier</label><div class=\"sk-toggleable__content\"><pre>RandomForestClassifier(max_depth=10, random_state=42)</pre></div></div></div></div></div></div></div>"
            ]
          },
          "metadata": {},
          "execution_count": 164
        }
      ]
    },
    {
      "cell_type": "markdown",
      "metadata": {
        "id": "1sIcwANA9tcA"
      },
      "source": [
        "## Step 5\n",
        "Let's make some predictions! And test them of course. Of interest might be:\n",
        "1. The accuacy\n",
        "2. The recall (accuracy on class \"high quality wine\")\n",
        "3. The specificity (accuracy on the class \"other quality wine\")\n",
        "4. The balanced accuarcy.\n",
        "\n",
        "So let's compute them all..."
      ]
    },
    {
      "cell_type": "code",
      "metadata": {
        "id": "sQiP0zw28x9k",
        "colab": {
          "base_uri": "https://localhost:8080/"
        },
        "outputId": "aa159b10-7b1b-42f9-9f3b-8edd00600150"
      },
      "source": [
        "from sklearn.metrics import balanced_accuracy_score, accuracy_score, recall_score\n",
        "\n",
        "balanced =  balanced_accuracy_score(y_test, m.predict(X_test))\n",
        "acc =  accuracy_score(y_test, m.predict(X_test))\n",
        "recal = recall_score(y_test, m.predict(X_test))\n",
        "specificity = recall_score(y_test, m.predict(X_test), pos_label=0)\n",
        "\n",
        "print(f'balanced: {balanced:.4f}, acc: {acc:.4f}, recall: {recal:.4f}, spec: {specificity:.4f}')"
      ],
      "execution_count": 165,
      "outputs": [
        {
          "output_type": "stream",
          "name": "stdout",
          "text": [
            "balanced: 0.6608, acc: 0.8788, recall: 0.3611, spec: 0.9605\n"
          ]
        }
      ]
    },
    {
      "cell_type": "markdown",
      "metadata": {
        "id": "TnTBNjRC_Qxo"
      },
      "source": [
        "Is this good enough? I don't think ~35% accuacy in predicting high quality wine is enough. So I'm going to say no. And since this is a practical you have to say no too and keep going at this point... No deciding \"yes\" just to go home early...."
      ]
    },
    {
      "cell_type": "markdown",
      "metadata": {
        "id": "EnKKDJn5_3Ab"
      },
      "source": [
        "## Step 6: Dealing with unbalanced classes via probability thresholds\n",
        "OK, finally we get to do some new stuff. Let's try and deal with this unbalanced class issue.\n",
        "\n",
        "The first approach we are going to take is to look at the ROC curve and see if by changing the probability threshold we can get an acceptable trade-off between accuracies of each class.\n",
        "\n",
        "To do this we are going to use a function from `sklearn.metrics` called `roc_curve(...)`. Google and find the documentation.\n",
        "\n",
        "This function takes as parameters:\n",
        "1. A set of prediction ground-truths (y_test)\n",
        "2. A set of predictions **as probabilities**. We get these in a two step process. STEP 1: by calling the function `.predict_proba(X_test)` rather than `.predict(X_test)` on our classifier. This returns a matrix with two columns. Column 0 contains the probabiliy that the outcome is 0 (False) and column 1 containst the probabiliy that the outcome is 1 (True). The prediction probabilities that `roc_curve(...)` needs is the **second column ONLY**, the predicted probability that the data point is 1 (True).\n",
        "\n",
        "It then computes the `recall` and `fallout (1-specificity)` scores assuming that the classifier uses differnt probability thresholds. I.e. in the first instance it will only predict 1 (True) if it is 110% sure (or some similar value such that it never predicts True) and using this definition will compute `recall` and `fallout`, with a recall of 0% and a fallout of 0%. This is then systematically relaxed (it'll predict true if it is 90% sure, then 80%, then 70%, ...., then 0%). In the final case `recall` is 100% and `fallout` is 100%.\n",
        "\n",
        "**The result (output) of this function is three lists:**\n",
        "`fallout, recall, thresholds` (in that order).\n",
        "\n",
        "The first element in fallout is the fallout for the threshold recorded in the first element in the thresholds list. The first element in recall is the corresponding recall score. All elements in the lists are linked in this way.\n",
        "\n",
        "**Your task:**\n",
        "1. Predict the class probabilities for the test set\n",
        "2. Extract the probabilities for the True class\n",
        "3. Using the function `roc_curve(..)` compute these three lists.\n",
        "4. Print a table with the thresholds as the first row, recall as the second, fallout (or if you find it easier to interpret specificity) as the third and balanced accuracy as the fourth. The simpliest way to do this is to create a pandas DataFrame and print this. By default, if there are many columns, pandas won't print them all. We do want it to though and we can force it to by setting this options first: `pd.options.display.max_columns = None`\n",
        "5. Plot an ROC curve with this data. I.e. a plot of recall (y-axis) vs. fallout (x-axis) using matplotlib.\n",
        "\n"
      ]
    },
    {
      "cell_type": "code",
      "metadata": {
        "id": "t3NFirrPbrCx"
      },
      "source": [
        "from sklearn.metrics import roc_curve, auc\n",
        "import matplotlib.pyplot as plt"
      ],
      "execution_count": 166,
      "outputs": []
    },
    {
      "cell_type": "code",
      "source": [
        "# Predict the class probabilities for the test set\n",
        "y_pred_proba = m.predict_proba(X_test)\n",
        "y_pred_proba"
      ],
      "metadata": {
        "colab": {
          "base_uri": "https://localhost:8080/"
        },
        "id": "j6nzmaKe-QOV",
        "outputId": "c4c833cc-63f1-46dd-d7e2-48fb5f79f140"
      },
      "execution_count": 167,
      "outputs": [
        {
          "output_type": "execute_result",
          "data": {
            "text/plain": [
              "array([[0.99397712, 0.00602288],\n",
              "       [0.8282252 , 0.1717748 ],\n",
              "       [0.632     , 0.368     ],\n",
              "       ...,\n",
              "       [0.79169596, 0.20830404],\n",
              "       [0.83859197, 0.16140803],\n",
              "       [0.89117862, 0.10882138]])"
            ]
          },
          "metadata": {},
          "execution_count": 167
        }
      ]
    },
    {
      "cell_type": "code",
      "metadata": {
        "id": "r7Dfacoxdmlr"
      },
      "source": [
        "# Extract the probabilities for the True class\n",
        "y_prob_rf_true = [x[1] for x in y_pred_proba]\n",
        "\n",
        "# Compute the ROC curve\n",
        "fpr, tpr, thresholds = roc_curve(y_test, y_prob_rf_true)\n",
        "\n",
        "# Compute the AUC score\n",
        "roc_auc_rf = auc(fpr, tpr)"
      ],
      "execution_count": 168,
      "outputs": []
    },
    {
      "cell_type": "code",
      "source": [
        "print(y_prob_rf_true)"
      ],
      "metadata": {
        "id": "ofbbTBuMnUQ9",
        "outputId": "cc7c5887-1829-44fe-90fd-04cedae98fb8",
        "colab": {
          "base_uri": "https://localhost:8080/"
        }
      },
      "execution_count": 169,
      "outputs": [
        {
          "output_type": "stream",
          "name": "stdout",
          "text": [
            "[0.0060228832951945074, 0.17177479822981767, 0.368, 0.5869369369369369, 0.11198896583592528, 0.2080329457364341, 0.0003584537649931657, 0.2941423276501112, 0.07044444444444445, 0.1271515064836003, 0.10196466528640441, 0.3136806401587086, 0.24692745831720525, 0.05795500762750206, 0.011746087853577093, 0.48746212121212124, 0.01074398469747307, 0.0029034830047592474, 0.00037376048817696413, 0.0001117721840833969, 0.06951313368845213, 0.075937478500172, 2.288329519450801e-05, 0.15966938936433622, 0.7818789464777838, 0.03255264519995641, 0.02002288329519451, 0.06440465241301821, 0.6625190939927782, 0.030022883295194508, 0.12638458557552804, 0.03455617446460183, 0.07100116177570427, 0.30200250626566416, 0.0017828268057455171, 0.3625, 0.0060228832951945074, 2.288329519450801e-05, 0.04805828372838792, 0.006565758609413394, 0.022167438693588906, 0.0018677108814014046, 0.04322442733640437, 0.26274316374230083, 0.05226486066775947, 0.03031029600983843, 0.02834003427282055, 0.7267402782975537, 0.1333250266456621, 0.5340081354404109, 0.02, 0.14121126357688465, 0.046544850498338876, 0.028741398184215904, 0.3208061118026866, 0.5058138395669596, 0.04199090503948079, 0.07514561363503011, 0.0212982314929965, 0.5202702702702703, 0.0002325581395348837, 0.00016714048515603945, 0.12004511278195489, 2.288329519450801e-05, 0.9120977698694221, 0.40881725467570473, 0.5567285270611682, 0.023224427336404365, 0.06762012735176609, 0.12803119387669396, 0.011782826805745519, 2.288329519450801e-05, 0.9274353374384574, 0.0231269070219932, 0.023062667238230857, 0.3257231068469045, 0.045130676709165075, 0.06475833021615986, 0.011471421710782668, 0.011939239402854964, 0.11971471471471473, 0.0028145941158703586, 0.040894242752693925, 0.4558153153153153, 0.034132062558338803, 0.002008856291127696, 0.012086263576884648, 0.012867710881401404, 2.288329519450801e-05, 0.24056338028169016, 0.03492436485127228, 0.54, 0.0988677337155598, 0.02131607641934222, 0.2827373417721519, 0.5902702702702703, 0.057757194533367404, 0.052487740936102416, 0.0003584537649931657, 0.04264241165378047, 0.1009881164587047, 0.06675211170663872, 0.012354862119013061, 0.0423921568627451, 0.17223962023090042, 0.05305495292680381, 0.0010309505490710105, 0.030204495825305076, 0.06444894026974951, 0.21763684519095278, 0.5895965773931696, 0.22166031746031742, 0.012828169989632146, 0.020240884961310542, 0.030499073771384985, 0.22480952380952385, 0.00011627906976744185, 0.17183263656854236, 0.6944574189922292, 0.0005270401549133541, 0.26400934612156646, 0.4237777777777778, 0.004163098219297218, 0.012203281351200062, 2.288329519450801e-05, 0.0204671562627499, 0.012673133528929315, 0.3556584525702172, 0.046517894114853575, 0.00013916236496194987, 0.6101053208920608, 0.04756500984235292, 0.054862491190979565, 0.010373760488176967, 0.0008453896581852655, 0.005899814111189332, 0.12068931191059352, 0.10027027027027029, 0.09372964669738863, 0.47700000000000004, 4.7169811320754715e-05, 0.29044444444444445, 0.012381980234368888, 0.1781789013596794, 0.06473815521282543, 0.010116279069767442, 0.03229561056792178, 0.11301669111205305, 0.22663492063492063, 0.14183880369320445, 0.0027091950048853492, 0.5895965773931696, 0.0015309505490710108, 0.00019209734755263878, 0.00022737912049958185, 0.368, 0.010812356979405035, 0.14491657929122043, 0.1055356262811627, 0.023949612403100774, 0.010116279069767442, 0.4335313187067368, 0.03, 0.41681531531531535, 0.015593869593062306, 0.0021786061559548055, 2.288329519450801e-05, 2.288329519450801e-05, 0.011250085813239575, 0.02002288329519451, 0.011072739479278882, 0.01267983514387593, 0.28285714285714286, 0.2895863029071121, 0.08273586397344561, 0.0204671562627499, 0.010830564784053157, 0.31142559575042605, 0.025917087634776653, 0.05, 0.2429952843865887, 0.06060070639330686, 0.12400081702364024, 0.05787257411491862, 0.007410651364139736, 0.010280986236441527, 0.1134705503823151, 0.02330418020453491, 0.03336015344554243, 0.07030852402683388, 0.00115858053495177, 0.365047619047619, 0.047609986912312496, 0.8755794548511071, 0.08151981036597833, 0.00029067751647710136, 7.005310651526273e-05, 0.011986409214175722, 0.5202702702702703, 0.07196427523658645, 0.002608666594021285, 0.0009888346461060509, 0.03317553386299841, 0.35007969679422646, 0.06101793004523888, 0.03869171446402568, 0.7991027263875365, 0.0036731335289293156, 0.01008888888888889, 0.049967938240249456, 0.07396612645554294, 0.01002288329519451, 0.05, 0.9394736842105263, 0.08016758967539821, 0.0003584537649931657, 0.07514908483329535, 0.685707120932502, 0.07324358722894192, 0.0015309505490710108, 0.16156450968531894, 0.09066853408029879, 0.15819461700576484, 0.09954185827172563, 0.10175115207373273, 0.003308798919988427, 0.037654283721679845, 0.13814613222894076, 0.120625, 0.0018252378678913534, 0.05087266796670822, 0.010611488457389025, 0.029298399801480836, 0.39006531751361123, 0.45118838028169017, 0.0011283977469494556, 0.06566210672755199, 2.288329519450801e-05, 0.02, 0.13420309212952103, 0.0017171717171717172, 0.09738138138138139, 0.0009420616601821216, 2.288329519450801e-05, 0.05, 0.02357012852988085, 0.012038063809172685, 0.00115858053495177, 0.09175338237420518, 2.288329519450801e-05, 0.00037163631046111326, 0.5158050419255313, 0.04448443695820093, 0.47700000000000004, 0.14880809942890869, 0.007410651364139736, 0.1585562051806671, 0.06467401060791514, 0.014114533354674911, 0.5397637189469782, 0.45535714285714285, 2.288329519450801e-05, 0.6634112905475135, 0.012667140485156039, 2.288329519450801e-05, 0.0027672397379300815, 0.08017857142857142, 0.0037345879110264684, 0.07479297359853558, 0.0163831218806309, 0.004256029374044928, 0.485709706959707, 0.2426627055115427, 0.012438151266024464, 2.288329519450801e-05, 0.02144621851990097, 0.02374596842832137, 0.05011177218408339, 0.25666666666666665, 0.013578120360391766, 0.2412769125300325, 0.5402702702702703, 0.03890951215247421, 0.03801030439034183, 0.08943470679254638, 0.010512422360248446, 0.3763021978021978, 0.005994368798748579, 0.6069568460357738, 0.30588095238095236, 0.011072739479278882, 0.05058626357688465, 0.0692522191483393, 0.09785051589900533, 0.35452380952380946, 0.17442114005945095, 0.012629124074935884, 0.46357142857142863, 0.025, 0.08866666666666666, 0.1336036036036036, 0.13040497558884018, 0.07707005109620131, 0.45117254089061015, 0.01002288329519451, 0.2891482905365615, 0.36598447918089627, 0.05120917055127582, 0.03599723145071983, 0.6929489017714232, 0.10108418797245894, 0.3675088806195204, 0.016775942935313662, 0.0014774287497399626, 0.01002288329519451, 0.03252131344126018, 0.10579570351401336, 0.5259011800702184, 0.016818197373163854, 0.0859589399850902, 0.005, 0.020454545454545454, 0.8427699310415834, 0.09604804156949852, 0.011631877371293849, 0.02653056232006417, 0.6558974358974359, 0.021283631893070094, 0.00699827186369905, 0.4664631844763424, 0.011582342733350046, 0.34438477766958786, 0.24240932261018283, 0.35551981114062037, 0.05047401829253045, 0.016346627136627326, 0.016257957728545963, 0.17113732892873998, 0.0242948096046568, 0.015336974822421976, 0.5461111111111111, 0.13265167660389096, 0.03016714048515604, 0.029812926359374835, 0.032203876035931826, 0.0019052831053882116, 0.030072419420644633, 0.02119171446402568, 0.007243660783764155, 0.01002288329519451, 0.0001117721840833969, 0.01002288329519451, 0.09947071000328396, 0.10007005310651525, 0.3680781499202552, 0.4676359904208005, 0.018924167172228775, 0.01002288329519451, 0.4014037267080745, 0.00047742874973996256, 0.033197617215737676, 2.288329519450801e-05, 0.28648843026891807, 0.272110958207582, 0.037514495540645766, 0.25339676973353437, 7.005310651526273e-05, 0.36192978417978416, 0.20095789757536728, 0.10545275964783503, 7.005310651526273e-05, 0.05152812020804012, 0.04011627906976744, 0.0004945124652028093, 0.19037107258938246, 2.288329519450801e-05, 0.09638138138138139, 0.7690064357649301, 0.06061976379613502, 0.003098659692710036, 0.6884610259826782, 0.16489743589743588, 0.29044444444444445, 0.030079609427938307, 0.08434193672413354, 0.270625, 0.04495454545454545, 0.01027454893182034, 0.09477750580055655, 0.6221997239174659, 2.288329519450801e-05, 0.022607242296307027, 0.013988095238095239, 0.024910813724878453, 0.16234722175648852, 0.738, 0.17785714285714285, 0.011214075662758111, 2.288329519450801e-05, 0.04746943697667139, 0.53, 0.002501720768066715, 0.03506778662722483, 0.10166666666666666, 0.0001117721840833969, 0.20644724006983314, 0.13536350066342326, 0.013504631492488796, 0.00031270261243148014, 0.10175115207373273, 0.08101986249045073, 0.12638458557552804, 0.004163098219297218, 0.4331718655816757, 0.13174880475509212, 0.012950298559736761, 0.033253190721993404, 0.0859810606060606, 0.04092445935868755, 0.1166533982013858, 0.4918181818181818, 0.4536425339366515, 0.08103440038222645, 0.58, 2.288329519450801e-05, 0.0015326658149372196, 0.48750067476383263, 0.5449758672699849, 0.24322543701024713, 0.02214889986480279, 0.1707800741918389, 2.288329519450801e-05, 0.022755394006304056, 0.018383845274159583, 0.04981756154840673, 0.01207194977205488, 0.001133994406305619, 0.48519937070249064, 0.0009420616601821216, 0.3137713133640553, 0.01768895160795722, 0.12068931191059352, 0.7892656347034769, 0.1152680020625753, 0.01081299921953862, 0.003339721450626064, 0.174315887048461, 0.10144343209633089, 0.03, 0.48, 0.07512032135120238, 0.05008996318463688, 2.288329519450801e-05, 0.1927556390977444, 0.020454545454545454, 0.05, 0.12599690926922047, 0.06671200411759175, 0.04081235697940503, 0.00042093029949771886, 0.031294223931922834, 0.030367710881401402, 0.17631640411811772, 0.031189065360353783, 0.07465000731864266, 0.34, 0.033796701717295353, 0.056745442011619185, 0.6046939324116744, 0.00022737912049958185, 0.09164900047493632, 0.010563511864788109, 2.288329519450801e-05, 0.06705179526355996, 0.08096709334173999, 0.01070459931745662, 0.0003584537649931657, 0.01513916236496195, 0.45083333333333336, 0.2014941860465116, 0.7002702702702703, 0.14868872395530883, 2.288329519450801e-05, 0.018358381600528825, 0.0010285072127954559, 0.010736989100996974, 0.4454627363160729, 0.4193010752688172, 0.2330106743106743, 0.1585562051806671, 0.01002288329519451, 0.016367710881401404, 0.5779813759313267, 0.01, 0.04081235697940503, 0.0033562166285278413, 0.1171515064836003, 0.05226486066775947, 0.034551930288852166, 0.9635105325453427, 0.1028677108814014, 0.6101053208920608, 0.03636994801786673, 0.09502772352429836, 0.09047619047619047, 0.11304804804804805, 0.21044444444444443, 2.288329519450801e-05, 0.06782357124754755, 0.05182153926302368, 0.04203476482617587, 0.13814613222894076, 0.030022883295194508, 0.02967470217029734, 0.006233147444522666, 0.059691277950180005, 0.0014298823364217372, 0.000256699720315281, 0.0035917307681693255, 0.10045454545454545, 0.00031270261243148014, 0.18356925906319405, 0.02720963810945639, 0.0598188293369498, 0.026374330650392967, 0.20830404333661726, 0.16140802717913605, 0.10882138191262422]\n"
          ]
        }
      ]
    },
    {
      "cell_type": "code",
      "source": [
        "# Create a pandas DataFrame with the ROC curve data\n",
        "roc_curve_data = pd.DataFrame({'Thresholds': thresholds, 'Recall': tpr, 'Fallout': 1 - fpr, 'Balanced Accuracy': (tpr + (1 - fpr)) / 2})\n",
        "\n",
        "# Print the ROC curve data table\n",
        "print(roc_curve_data)"
      ],
      "metadata": {
        "colab": {
          "base_uri": "https://localhost:8080/"
        },
        "id": "PjrWYJvB-9il",
        "outputId": "4706ac04-cf6d-4523-bc9d-9e1e2561695e"
      },
      "execution_count": 170,
      "outputs": [
        {
          "output_type": "stream",
          "name": "stdout",
          "text": [
            "     Thresholds    Recall   Fallout  Balanced Accuracy\n",
            "0      1.963511  0.000000  1.000000           0.500000\n",
            "1      0.963511  0.013889  1.000000           0.506944\n",
            "2      0.692949  0.208333  1.000000           0.604167\n",
            "3      0.688461  0.208333  0.997807           0.603070\n",
            "4      0.685707  0.222222  0.997807           0.610015\n",
            "..          ...       ...       ...                ...\n",
            "124    0.000227  1.000000  0.076754           0.538377\n",
            "125    0.000116  1.000000  0.067982           0.533991\n",
            "126    0.000070  1.000000  0.054825           0.527412\n",
            "127    0.000047  1.000000  0.052632           0.526316\n",
            "128    0.000023  1.000000  0.000000           0.500000\n",
            "\n",
            "[129 rows x 4 columns]\n"
          ]
        }
      ]
    },
    {
      "cell_type": "code",
      "source": [
        "# Plot the ROC curve\n",
        "plt.figure(figsize=(8, 6))\n",
        "plt.plot(fpr, tpr, label='ROC curve (area = %0.2f)' % roc_auc_rf, color = 'orange')\n",
        "plt.plot([0, 1], [0, 1], color='navy', linestyle='--')\n",
        "plt.xlabel('Fallout')\n",
        "plt.ylabel('Recall')\n",
        "plt.legend(loc=\"lower right\")\n",
        "plt.show()"
      ],
      "metadata": {
        "colab": {
          "base_uri": "https://localhost:8080/",
          "height": 542
        },
        "id": "FKQgueeY_d99",
        "outputId": "ca52cbae-b1b0-4bde-bc20-baab0c546094"
      },
      "execution_count": 171,
      "outputs": [
        {
          "output_type": "display_data",
          "data": {
            "text/plain": [
              "<Figure size 800x600 with 1 Axes>"
            ],
            "image/png": "[encoded data removed]"
          },
          "metadata": {}
        }
      ]
    },
    {
      "cell_type": "code",
      "metadata": {
        "id": "dzzGtpCDc4JB",
        "colab": {
          "base_uri": "https://localhost:8080/"
        },
        "outputId": "aec42b75-ed68-4ef2-9ca9-ccd9aeeb2b6c"
      },
      "source": [
        "thresholds"
      ],
      "execution_count": 18,
      "outputs": [
        {
          "output_type": "execute_result",
          "data": {
            "text/plain": [
              "array([1.96351053e+00, 9.63510533e-01, 6.92948902e-01, 6.88461026e-01,\n",
              "       6.85707121e-01, 6.22199724e-01, 6.10105321e-01, 6.06956846e-01,\n",
              "       5.90270270e-01, 5.89596577e-01, 5.56728527e-01, 5.44975867e-01,\n",
              "       5.40270270e-01, 5.39763719e-01, 5.34008135e-01, 5.30000000e-01,\n",
              "       5.25901180e-01, 5.20270270e-01, 5.15805042e-01, 5.05813840e-01,\n",
              "       4.87500675e-01, 4.85709707e-01, 4.80000000e-01, 4.77000000e-01,\n",
              "       4.66463184e-01, 4.55815315e-01, 4.53642534e-01, 4.51172541e-01,\n",
              "       4.33531319e-01, 4.33171866e-01, 4.23777778e-01, 4.01403727e-01,\n",
              "       3.90065318e-01, 3.76302198e-01, 3.68078150e-01, 3.68000000e-01,\n",
              "       3.62500000e-01, 3.61929784e-01, 3.55519811e-01, 3.54523810e-01,\n",
              "       3.20806112e-01, 3.11425596e-01, 3.05880952e-01, 2.94142328e-01,\n",
              "       2.90444444e-01, 2.89148291e-01, 2.86488430e-01, 2.82857143e-01,\n",
              "       2.82737342e-01, 2.64009346e-01, 2.62743164e-01, 2.26634921e-01,\n",
              "       2.24809524e-01, 2.10444444e-01, 2.08032946e-01, 2.06447240e-01,\n",
              "       2.01494186e-01, 1.74315887e-01, 1.71832637e-01, 1.61564510e-01,\n",
              "       1.59669389e-01, 1.58556205e-01, 1.48808099e-01, 1.48688724e-01,\n",
              "       1.41211264e-01, 1.38146132e-01, 1.34203092e-01, 1.33603604e-01,\n",
              "       1.33325027e-01, 1.32651677e-01, 1.27151506e-01, 1.26384586e-01,\n",
              "       1.24000817e-01, 1.20689312e-01, 1.13048048e-01, 1.13016691e-01,\n",
              "       1.01964665e-01, 1.01751152e-01, 1.01666667e-01, 1.01443432e-01,\n",
              "       9.78505159e-02, 9.73813814e-02, 5.24877409e-02, 5.22648607e-02,\n",
              "       5.00899632e-02, 5.00000000e-02, 4.08942428e-02, 4.08123570e-02,\n",
              "       3.25526452e-02, 3.25213134e-02, 3.00724194e-02, 3.00000000e-02,\n",
              "       2.31269070e-02, 2.30626672e-02, 2.11917145e-02, 2.04545455e-02,\n",
              "       2.02408850e-02, 2.00000000e-02, 1.55938696e-02, 1.53369748e-02,\n",
              "       1.35046315e-02, 1.29502986e-02, 1.12140757e-02, 1.10727395e-02,\n",
              "       1.02745489e-02, 1.01162791e-02, 1.00888889e-02, 1.00228833e-02,\n",
              "       1.00000000e-02, 7.41065136e-03, 6.23314744e-03, 6.02288330e-03,\n",
              "       4.25602937e-03, 4.16309822e-03, 1.53266581e-03, 1.53095055e-03,\n",
              "       1.42988234e-03, 1.15858053e-03, 9.88834646e-04, 9.42061660e-04,\n",
              "       3.71636310e-04, 3.58453765e-04, 3.12702612e-04, 2.32558140e-04,\n",
              "       2.27379120e-04, 1.16279070e-04, 7.00531065e-05, 4.71698113e-05,\n",
              "       2.28832952e-05])"
            ]
          },
          "metadata": {},
          "execution_count": 18
        }
      ]
    },
    {
      "cell_type": "markdown",
      "metadata": {
        "id": "IAE4HYCfGXuF"
      },
      "source": [
        "**Sanity check to make sure it's all worked:** Check if, when a 50% threshold was used within the `roc_curve(..)` function you got the same `recall` and `fallout` scores are you previously computed."
      ]
    },
    {
      "cell_type": "code",
      "source": [
        "df1 = roc_curve_data[roc_curve_data.Thresholds >= 0.5]\n",
        "df1 = roc_curve_data[roc_curve_data.Thresholds < 0.6]\n",
        "df1.head()"
      ],
      "metadata": {
        "colab": {
          "base_uri": "https://localhost:8080/",
          "height": 206
        },
        "id": "XjCYV9EFAZgt",
        "outputId": "4f3fc659-f0e9-4288-905a-8ece6142bc1b"
      },
      "execution_count": 176,
      "outputs": [
        {
          "output_type": "execute_result",
          "data": {
            "text/plain": [
              "    Thresholds    Recall   Fallout  Balanced Accuracy\n",
              "8     0.590270  0.250000  0.982456           0.616228\n",
              "9     0.589597  0.250000  0.978070           0.614035\n",
              "10    0.556729  0.305556  0.978070           0.641813\n",
              "11    0.544976  0.305556  0.973684           0.639620\n",
              "12    0.540270  0.319444  0.973684           0.646564"
            ],
            "text/html": [
              "\n",
              "  <div id=\"df-40461311-2635-4aad-926a-06ea78833bda\" class=\"colab-df-container\">\n",
              "    <div>\n",
              "<style scoped>\n",
              "    .dataframe tbody tr th:only-of-type {\n",
              "        vertical-align: middle;\n",
              "    }\n",
              "\n",
              "    .dataframe tbody tr th {\n",
              "        vertical-align: top;\n",
              "    }\n",
              "\n",
              "    .dataframe thead th {\n",
              "        text-align: right;\n",
              "    }\n",
              "</style>\n",
              "<table border=\"1\" class=\"dataframe\">\n",
              "  <thead>\n",
              "    <tr style=\"text-align: right;\">\n",
              "      <th></th>\n",
              "      <th>Thresholds</th>\n",
              "      <th>Recall</th>\n",
              "      <th>Fallout</th>\n",
              "      <th>Balanced Accuracy</th>\n",
              "    </tr>\n",
              "  </thead>\n",
              "  <tbody>\n",
              "    <tr>\n",
              "      <th>8</th>\n",
              "      <td>0.590270</td>\n",
              "      <td>0.250000</td>\n",
              "      <td>0.982456</td>\n",
              "      <td>0.616228</td>\n",
              "    </tr>\n",
              "    <tr>\n",
              "      <th>9</th>\n",
              "      <td>0.589597</td>\n",
              "      <td>0.250000</td>\n",
              "      <td>0.978070</td>\n",
              "      <td>0.614035</td>\n",
              "    </tr>\n",
              "    <tr>\n",
              "      <th>10</th>\n",
              "      <td>0.556729</td>\n",
              "      <td>0.305556</td>\n",
              "      <td>0.978070</td>\n",
              "      <td>0.641813</td>\n",
              "    </tr>\n",
              "    <tr>\n",
              "      <th>11</th>\n",
              "      <td>0.544976</td>\n",
              "      <td>0.305556</td>\n",
              "      <td>0.973684</td>\n",
              "      <td>0.639620</td>\n",
              "    </tr>\n",
              "    <tr>\n",
              "      <th>12</th>\n",
              "      <td>0.540270</td>\n",
              "      <td>0.319444</td>\n",
              "      <td>0.973684</td>\n",
              "      <td>0.646564</td>\n",
              "    </tr>\n",
              "  </tbody>\n",
              "</table>\n",
              "</div>\n",
              "    <div class=\"colab-df-buttons\">\n",
              "\n",
              "  <div class=\"colab-df-container\">\n",
              "    <button class=\"colab-df-convert\" onclick=\"convertToInteractive('df-40461311-2635-4aad-926a-06ea78833bda')\"\n",
              "            title=\"Convert this dataframe to an interactive table.\"\n",
              "            style=\"display:none;\">\n",
              "\n",
              "  <svg xmlns=\"http://www.w3.org/2000/svg\" height=\"24px\" viewBox=\"0 -960 960 960\">\n",
              "    <path d=\"M120-120v-720h720v720H120Zm60-500h600v-160H180v160Zm220 220h160v-160H400v160Zm0 220h160v-160H400v160ZM180-400h160v-160H180v160Zm440 0h160v-160H620v160ZM180-180h160v-160H180v160Zm440 0h160v-160H620v160Z\"/>\n",
              "  </svg>\n",
              "    </button>\n",
              "\n",
              "  <style>\n",
              "    .colab-df-container {\n",
              "      display:flex;\n",
              "      gap: 12px;\n",
              "    }\n",
              "\n",
              "    .colab-df-convert {\n",
              "      background-color: #E8F0FE;\n",
              "      border: none;\n",
              "      border-radius: 50%;\n",
              "      cursor: pointer;\n",
              "      display: none;\n",
              "      fill: #1967D2;\n",
              "      height: 32px;\n",
              "      padding: 0 0 0 0;\n",
              "      width: 32px;\n",
              "    }\n",
              "\n",
              "    .colab-df-convert:hover {\n",
              "      background-color: #E2EBFA;\n",
              "      box-shadow: 0px 1px 2px rgba(60, 64, 67, 0.3), 0px 1px 3px 1px rgba(60, 64, 67, 0.15);\n",
              "      fill: #174EA6;\n",
              "    }\n",
              "\n",
              "    .colab-df-buttons div {\n",
              "      margin-bottom: 4px;\n",
              "    }\n",
              "\n",
              "    [theme=dark] .colab-df-convert {\n",
              "      background-color: #3B4455;\n",
              "      fill: #D2E3FC;\n",
              "    }\n",
              "\n",
              "    [theme=dark] .colab-df-convert:hover {\n",
              "      background-color: #434B5C;\n",
              "      box-shadow: 0px 1px 3px 1px rgba(0, 0, 0, 0.15);\n",
              "      filter: drop-shadow(0px 1px 2px rgba(0, 0, 0, 0.3));\n",
              "      fill: #FFFFFF;\n",
              "    }\n",
              "  </style>\n",
              "\n",
              "    <script>\n",
              "      const buttonEl =\n",
              "        document.querySelector('#df-40461311-2635-4aad-926a-06ea78833bda button.colab-df-convert');\n",
              "      buttonEl.style.display =\n",
              "        google.colab.kernel.accessAllowed ? 'block' : 'none';\n",
              "\n",
              "      async function convertToInteractive(key) {\n",
              "        const element = document.querySelector('#df-40461311-2635-4aad-926a-06ea78833bda');\n",
              "        const dataTable =\n",
              "          await google.colab.kernel.invokeFunction('convertToInteractive',\n",
              "                                                    [key], {});\n",
              "        if (!dataTable) return;\n",
              "\n",
              "        const docLinkHtml = 'Like what you see? Visit the ' +\n",
              "          '<a target=\"_blank\" href=https://colab.research.google.com/notebooks/data_table.ipynb>data table notebook</a>'\n",
              "          + ' to learn more about interactive tables.';\n",
              "        element.innerHTML = '';\n",
              "        dataTable['output_type'] = 'display_data';\n",
              "        await google.colab.output.renderOutput(dataTable, element);\n",
              "        const docLink = document.createElement('div');\n",
              "        docLink.innerHTML = docLinkHtml;\n",
              "        element.appendChild(docLink);\n",
              "      }\n",
              "    </script>\n",
              "  </div>\n",
              "\n",
              "\n",
              "<div id=\"df-31ad4b73-7df5-4e9d-bbc6-97074ec32f34\">\n",
              "  <button class=\"colab-df-quickchart\" onclick=\"quickchart('df-31ad4b73-7df5-4e9d-bbc6-97074ec32f34')\"\n",
              "            title=\"Suggest charts\"\n",
              "            style=\"display:none;\">\n",
              "\n",
              "<svg xmlns=\"http://www.w3.org/2000/svg\" height=\"24px\"viewBox=\"0 0 24 24\"\n",
              "     width=\"24px\">\n",
              "    <g>\n",
              "        <path d=\"M19 3H5c-1.1 0-2 .9-2 2v14c0 1.1.9 2 2 2h14c1.1 0 2-.9 2-2V5c0-1.1-.9-2-2-2zM9 17H7v-7h2v7zm4 0h-2V7h2v10zm4 0h-2v-4h2v4z\"/>\n",
              "    </g>\n",
              "</svg>\n",
              "  </button>\n",
              "\n",
              "<style>\n",
              "  .colab-df-quickchart {\n",
              "      --bg-color: #E8F0FE;\n",
              "      --fill-color: #1967D2;\n",
              "      --hover-bg-color: #E2EBFA;\n",
              "      --hover-fill-color: #174EA6;\n",
              "      --disabled-fill-color: #AAA;\n",
              "      --disabled-bg-color: #DDD;\n",
              "  }\n",
              "\n",
              "  [theme=dark] .colab-df-quickchart {\n",
              "      --bg-color: #3B4455;\n",
              "      --fill-color: #D2E3FC;\n",
              "      --hover-bg-color: #434B5C;\n",
              "      --hover-fill-color: #FFFFFF;\n",
              "      --disabled-bg-color: #3B4455;\n",
              "      --disabled-fill-color: #666;\n",
              "  }\n",
              "\n",
              "  .colab-df-quickchart {\n",
              "    background-color: var(--bg-color);\n",
              "    border: none;\n",
              "    border-radius: 50%;\n",
              "    cursor: pointer;\n",
              "    display: none;\n",
              "    fill: var(--fill-color);\n",
              "    height: 32px;\n",
              "    padding: 0;\n",
              "    width: 32px;\n",
              "  }\n",
              "\n",
              "  .colab-df-quickchart:hover {\n",
              "    background-color: var(--hover-bg-color);\n",
              "    box-shadow: 0 1px 2px rgba(60, 64, 67, 0.3), 0 1px 3px 1px rgba(60, 64, 67, 0.15);\n",
              "    fill: var(--button-hover-fill-color);\n",
              "  }\n",
              "\n",
              "  .colab-df-quickchart-complete:disabled,\n",
              "  .colab-df-quickchart-complete:disabled:hover {\n",
              "    background-color: var(--disabled-bg-color);\n",
              "    fill: var(--disabled-fill-color);\n",
              "    box-shadow: none;\n",
              "  }\n",
              "\n",
              "  .colab-df-spinner {\n",
              "    border: 2px solid var(--fill-color);\n",
              "    border-color: transparent;\n",
              "    border-bottom-color: var(--fill-color);\n",
              "    animation:\n",
              "      spin 1s steps(1) infinite;\n",
              "  }\n",
              "\n",
              "  @keyframes spin {\n",
              "    0% {\n",
              "      border-color: transparent;\n",
              "      border-bottom-color: var(--fill-color);\n",
              "      border-left-color: var(--fill-color);\n",
              "    }\n",
              "    20% {\n",
              "      border-color: transparent;\n",
              "      border-left-color: var(--fill-color);\n",
              "      border-top-color: var(--fill-color);\n",
              "    }\n",
              "    30% {\n",
              "      border-color: transparent;\n",
              "      border-left-color: var(--fill-color);\n",
              "      border-top-color: var(--fill-color);\n",
              "      border-right-color: var(--fill-color);\n",
              "    }\n",
              "    40% {\n",
              "      border-color: transparent;\n",
              "      border-right-color: var(--fill-color);\n",
              "      border-top-color: var(--fill-color);\n",
              "    }\n",
              "    60% {\n",
              "      border-color: transparent;\n",
              "      border-right-color: var(--fill-color);\n",
              "    }\n",
              "    80% {\n",
              "      border-color: transparent;\n",
              "      border-right-color: var(--fill-color);\n",
              "      border-bottom-color: var(--fill-color);\n",
              "    }\n",
              "    90% {\n",
              "      border-color: transparent;\n",
              "      border-bottom-color: var(--fill-color);\n",
              "    }\n",
              "  }\n",
              "</style>\n",
              "\n",
              "  <script>\n",
              "    async function quickchart(key) {\n",
              "      const quickchartButtonEl =\n",
              "        document.querySelector('#' + key + ' button');\n",
              "      quickchartButtonEl.disabled = true;  // To prevent multiple clicks.\n",
              "      quickchartButtonEl.classList.add('colab-df-spinner');\n",
              "      try {\n",
              "        const charts = await google.colab.kernel.invokeFunction(\n",
              "            'suggestCharts', [key], {});\n",
              "      } catch (error) {\n",
              "        console.error('Error during call to suggestCharts:', error);\n",
              "      }\n",
              "      quickchartButtonEl.classList.remove('colab-df-spinner');\n",
              "      quickchartButtonEl.classList.add('colab-df-quickchart-complete');\n",
              "    }\n",
              "    (() => {\n",
              "      let quickchartButtonEl =\n",
              "        document.querySelector('#df-31ad4b73-7df5-4e9d-bbc6-97074ec32f34 button');\n",
              "      quickchartButtonEl.style.display =\n",
              "        google.colab.kernel.accessAllowed ? 'block' : 'none';\n",
              "    })();\n",
              "  </script>\n",
              "</div>\n",
              "    </div>\n",
              "  </div>\n"
            ],
            "application/vnd.google.colaboratory.intrinsic+json": {
              "type": "dataframe",
              "variable_name": "df1",
              "summary": "{\n  \"name\": \"df1\",\n  \"rows\": 121,\n  \"fields\": [\n    {\n      \"column\": \"Thresholds\",\n      \"properties\": {\n        \"dtype\": \"number\",\n        \"std\": 0.18824211130048055,\n        \"min\": 2.288329519450801e-05,\n        \"max\": 0.5902702702702703,\n        \"samples\": [\n          0.22480952380952385,\n          0.20644724006983314,\n          0.5402702702702703\n        ],\n        \"num_unique_values\": 121,\n        \"semantic_type\": \"\",\n        \"description\": \"\"\n      }\n    },\n    {\n      \"column\": \"Recall\",\n      \"properties\": {\n        \"dtype\": \"number\",\n        \"std\": 0.23679668289562472,\n        \"min\": 0.25,\n        \"max\": 1.0,\n        \"samples\": [\n          0.9444444444444444,\n          0.9861111111111112,\n          0.3472222222222222\n        ],\n        \"num_unique_values\": 38,\n        \"semantic_type\": \"\",\n        \"description\": \"\"\n      }\n    },\n    {\n      \"column\": \"Fallout\",\n      \"properties\": {\n        \"dtype\": \"number\",\n        \"std\": 0.3175141886401546,\n        \"min\": 0.0,\n        \"max\": 0.9824561403508771,\n        \"samples\": [\n          0.12061403508771928,\n          0.9824561403508771,\n          0.27192982456140347\n        ],\n        \"num_unique_values\": 84,\n        \"semantic_type\": \"\",\n        \"description\": \"\"\n      }\n    },\n    {\n      \"column\": \"Balanced Accuracy\",\n      \"properties\": {\n        \"dtype\": \"number\",\n        \"std\": 0.09274539047184222,\n        \"min\": 0.5,\n        \"max\": 0.8344298245614035,\n        \"samples\": [\n          0.6787280701754386,\n          0.6465643274853801,\n          0.8004385964912282\n        ],\n        \"num_unique_values\": 115,\n        \"semantic_type\": \"\",\n        \"description\": \"\"\n      }\n    }\n  ]\n}"
            }
          },
          "metadata": {},
          "execution_count": 176
        }
      ]
    },
    {
      "cell_type": "code",
      "metadata": {
        "id": "Wm0IOWp8gCOa",
        "colab": {
          "base_uri": "https://localhost:8080/"
        },
        "outputId": "8343ef26-d3fc-489d-ac80-d38edab06f85"
      },
      "source": [
        "import numpy as np\n",
        "# Find the index of the 0.5 threshold\n",
        "threshold_index = np.where(thresholds == 0.5)[0]\n",
        "\n",
        "# Calculate recall and fallout at the 0.5 threshold\n",
        "recall_at_05 = tpr[threshold_index]\n",
        "fallout_at_05 = 1 - fpr[threshold_index]\n",
        "\n",
        "# Print the results\n",
        "print(\"Sanity check at 0.5 threshold:\")\n",
        "print(recall_at_05)\n",
        "print(fallout_at_05)"
      ],
      "execution_count": 20,
      "outputs": [
        {
          "output_type": "stream",
          "name": "stdout",
          "text": [
            "Sanity check at 0.5 threshold:\n",
            "[]\n",
            "[]\n"
          ]
        }
      ]
    },
    {
      "cell_type": "markdown",
      "metadata": {
        "id": "nkz6Wk5On_6_"
      },
      "source": [
        "**Consider your graph and table.** Which theshold would you pick? Why? If we were to use this threshold would the classifier be more suitable for our task than before (i.e. when we were simply using a 50% threshold)?\n",
        "\n",
        "**A final note before moving on**: we risk overfitting here as we are changing our model with knowledge of the test set (the large gain in results should make us wary). This is known as procedural overfitting and we'll be talking about this and how to avoid it next week while still being able to change these parameters. In effect we can see this parameter as a meta paramter of the model like the depth of the tree (which we could also vary systematically to find the best one - again possibly overfitting)."
      ]
    },
    {
      "cell_type": "markdown",
      "metadata": {
        "id": "yT2xauMAoLQH"
      },
      "source": [
        "## Step 7a: Dealing with unbalanced class by reweighting samples when learning a classifier\n",
        "\n",
        "OK. So that was one approach to creating a classifier that performs better on unbalanced data. The second approach we're going to try is instance re-weighting. This is perhaps one of the simpliest to implement **as we just pass a list of weights, one corresponding to each of the training points to the fit function**. Most sklearn models have this as an optional parameter.\n",
        "\n",
        "Today we're using a RandomForestClassifier, so take a look at the documentation (google search for it) so you know what keyword it is.\n",
        "\n",
        "Before we call the `.fit(..)` method of our RandomForestClassifier passing the weights we need to create them.\n",
        "\n",
        "Recall from the lecture that we want to reweight the instances so that the two classes have the same weight (i.e. if we were to sum the weights over all instances of one class and sum the weights of all instances of the other class the sums would be equal). There are two ways of doing this:\n",
        "1. Increasing the weight on instances of the minority class\n",
        "2. Descreasing the weight on instances of the majority class\n",
        "\n",
        "Let's choose option 1. In this case all majority class instances will get a weight of 1.\n",
        "```\n",
        "Let a = the number of majority class instances in our training set\n",
        "Let b = the number of minority class instances in our training set\n",
        "\n",
        "Minority class instances then get a weight of: a/b\n",
        "\n",
        "Example:\n",
        "If we have as a majority class four instances: ‡ ‡ ‡ ‡\n",
        "        and a minority class of two instances: ø ø\n",
        "\n",
        "Then we need to weight the ø by two as there is twice as many ø than ‡ (4/2).\n",
        "```\n",
        "So what are the steps here?\n",
        "1. Compute the weight value\n",
        "2. Create a list which, when y_train is 1 the weight is the weight value created (why? as this \"slot\" in the list corresponds to the row in the training dataset by row order) and when the y_train weight is 0 the weight is 1.\n",
        "3. Now go ahead a train your classifier using weights.\n",
        "\n",
        "**HINT:**: I'd first create a numpy array of all zeros (via `np.zeros(..)`) the same length as y_train. I'd then set all elements in the new array to be the weight which corresponds to `y_train == 1`. I'd then set the elements to 1 in the new array which correspond to `y_train == 0`."
      ]
    },
    {
      "cell_type": "code",
      "metadata": {
        "id": "1gb6F6DmoLjm"
      },
      "source": [
        "import numpy as np\n",
        "from sklearn.metrics import classification_report"
      ],
      "execution_count": 177,
      "outputs": []
    },
    {
      "cell_type": "code",
      "source": [
        "df_new = df"
      ],
      "metadata": {
        "id": "oN0cyBz03ZZy"
      },
      "execution_count": 178,
      "outputs": []
    },
    {
      "cell_type": "code",
      "source": [
        "imputed_data = imputer.fit_transform(df_new)\n",
        "\n",
        "# Convert the imputed data back to a DataFrame\n",
        "imputed_df = pd.DataFrame(imputed_data, columns=df_new.columns)"
      ],
      "metadata": {
        "id": "5suorC3q3YP4"
      },
      "execution_count": 179,
      "outputs": []
    },
    {
      "cell_type": "code",
      "source": [
        "imputed_df.isna().sum()"
      ],
      "metadata": {
        "colab": {
          "base_uri": "https://localhost:8080/"
        },
        "id": "P5-Sn02KC7vZ",
        "outputId": "eed340b7-c0ba-4e6a-da2f-ef893dd21427"
      },
      "execution_count": 180,
      "outputs": [
        {
          "output_type": "execute_result",
          "data": {
            "text/plain": [
              "fixed acidity           0\n",
              "volatile acidity        0\n",
              "citric acid             0\n",
              "residual sugar          0\n",
              "chlorides               0\n",
              "free sulfur dioxide     0\n",
              "total sulfur dioxide    0\n",
              "density                 0\n",
              "pH                      0\n",
              "sulphates               0\n",
              "alcohol                 0\n",
              "quality                 0\n",
              "dtype: int64"
            ]
          },
          "metadata": {},
          "execution_count": 180
        }
      ]
    },
    {
      "cell_type": "code",
      "source": [
        "X = imputed_df.drop(columns = ['quality'])\n",
        "y = imputed_df.quality >= 7"
      ],
      "metadata": {
        "id": "cFPrUzzJCxjt"
      },
      "execution_count": 181,
      "outputs": []
    },
    {
      "cell_type": "code",
      "source": [
        "X_train, X_test, y_train, y_test= train_test_split(X, y,test_size=0.33, random_state=42, stratify = y)\n",
        "print(len(y_train))\n",
        "print(y_train.value_counts())"
      ],
      "metadata": {
        "colab": {
          "base_uri": "https://localhost:8080/"
        },
        "id": "jK62G8QvxpoO",
        "outputId": "c1516dd0-b602-4f45-9125-066ea01e8a61"
      },
      "execution_count": 183,
      "outputs": [
        {
          "output_type": "stream",
          "name": "stdout",
          "text": [
            "1071\n",
            "False    926\n",
            "True     145\n",
            "Name: quality, dtype: int64\n"
          ]
        }
      ]
    },
    {
      "cell_type": "code",
      "source": [
        "np.sum(y_train)"
      ],
      "metadata": {
        "id": "Q95Q-TSTpXsl",
        "outputId": "269bc91a-2877-4c91-9715-c527c12a84dc",
        "colab": {
          "base_uri": "https://localhost:8080/"
        }
      },
      "execution_count": 184,
      "outputs": [
        {
          "output_type": "execute_result",
          "data": {
            "text/plain": [
              "145"
            ]
          },
          "metadata": {},
          "execution_count": 184
        }
      ]
    },
    {
      "cell_type": "code",
      "source": [
        "# Calculate instance weights\n",
        "class_counts = y_train.value_counts()\n",
        "majority_class_count = class_counts.max()\n",
        "minority_class_count = class_counts.min()\n",
        "\n",
        "print(majority_class_count)\n",
        "print(minority_class_count)\n",
        "\n",
        "# Calculate instance weight ratio: a/b\n",
        "instance_weight_ratio = majority_class_count / minority_class_count\n",
        "print(instance_weight_ratio)"
      ],
      "metadata": {
        "colab": {
          "base_uri": "https://localhost:8080/"
        },
        "id": "LhEJ5euN0E23",
        "outputId": "1ca6084a-8f81-4505-c04c-c30d7b747984"
      },
      "execution_count": 185,
      "outputs": [
        {
          "output_type": "stream",
          "name": "stdout",
          "text": [
            "926\n",
            "145\n",
            "6.386206896551724\n"
          ]
        }
      ]
    },
    {
      "cell_type": "code",
      "source": [
        "# Create an array of zeros\n",
        "instance_weights = np.zeros(len(y_train))\n",
        "print(len(instance_weights))\n",
        "print(instance_weights)"
      ],
      "metadata": {
        "colab": {
          "base_uri": "https://localhost:8080/"
        },
        "id": "0N_aMWX4vNrp",
        "outputId": "4b33a83f-cff5-415c-eeaf-da9f30c45bb2"
      },
      "execution_count": 228,
      "outputs": [
        {
          "output_type": "stream",
          "name": "stdout",
          "text": [
            "1851\n",
            "[0. 0. 0. ... 0. 0. 0.]\n"
          ]
        }
      ]
    },
    {
      "cell_type": "code",
      "source": [
        "instance_weights[:majority_class_count] = 1\n",
        "instance_weights[majority_class_count:] = instance_weight_ratio"
      ],
      "metadata": {
        "id": "xXCZAinjz4j5"
      },
      "execution_count": 187,
      "outputs": []
    },
    {
      "cell_type": "code",
      "source": [
        "unique_elements, counts = np.unique(instance_weights, return_counts=True)\n",
        "\n",
        "# Print unique elements and their counts\n",
        "for element, count in zip(unique_elements, counts):\n",
        "    print(f\"Element {element}: Count {count}\")"
      ],
      "metadata": {
        "colab": {
          "base_uri": "https://localhost:8080/"
        },
        "id": "S6SZygn1wwQ3",
        "outputId": "8a803151-7aec-472e-f653-74fa6bfd7fdc"
      },
      "execution_count": 188,
      "outputs": [
        {
          "output_type": "stream",
          "name": "stdout",
          "text": [
            "Element 1.0: Count 926\n",
            "Element 6.386206896551724: Count 145\n"
          ]
        }
      ]
    },
    {
      "cell_type": "code",
      "source": [
        "rf_classifier = RandomForestClassifier()\n",
        "rf_classifier.fit(X_train, y_train, sample_weight=instance_weights)\n",
        "\n",
        "# Evaluate the model\n",
        "y_pred = rf_classifier.predict(X_test)\n",
        "print(classification_report(y_test, y_pred))\n",
        "\n",
        "accuracy = accuracy_score(y_test, y_pred)\n",
        "print(\"Model Accuracy:\", accuracy)"
      ],
      "metadata": {
        "colab": {
          "base_uri": "https://localhost:8080/"
        },
        "id": "Un7701-RvWeH",
        "outputId": "a1f816d0-6652-4ea5-a1f6-056a3374ebf9"
      },
      "execution_count": 189,
      "outputs": [
        {
          "output_type": "stream",
          "name": "stdout",
          "text": [
            "              precision    recall  f1-score   support\n",
            "\n",
            "       False       0.90      0.96      0.93       456\n",
            "        True       0.60      0.35      0.44        72\n",
            "\n",
            "    accuracy                           0.88       528\n",
            "   macro avg       0.75      0.65      0.69       528\n",
            "weighted avg       0.86      0.88      0.86       528\n",
            "\n",
            "Model Accuracy: 0.8787878787878788\n"
          ]
        }
      ]
    },
    {
      "cell_type": "markdown",
      "metadata": {
        "id": "ZUVPkCpE-p-c"
      },
      "source": [
        "Now you've trained your classifier evaluate the accuracy, recall, specificity and balanced accuracy. How does it compare to the classifier trained without weights? Is it better? What about the old classifier after we choose a better probability threshold?"
      ]
    },
    {
      "cell_type": "code",
      "metadata": {
        "id": "IeCecDie-pZ1"
      },
      "source": [],
      "execution_count": null,
      "outputs": []
    },
    {
      "cell_type": "markdown",
      "metadata": {
        "id": "s37JCaTu_Xkj"
      },
      "source": [
        "OK, so hopefully that is a little better than the classifier before, before we (potentially overfit) by adjusting the threshold.\n",
        "\n",
        "**Question:** Is learning using weights proccedural overfitting?\n",
        "\n",
        "**Answer:** Not really. We've selected to re-weight due to the charateristics of the training set - indeed our weights are computed based on the training. In otherwords, we've got to this point without looking at our test set. If we then varied our weights, checking the performance on the test set this would be proccedural overfitting. Again - we'll talk about this more next week."
      ]
    },
    {
      "cell_type": "markdown",
      "metadata": {
        "id": "3exrjmCkNrUZ"
      },
      "source": [
        "## Step 7b\n",
        "Evaluate a range of thresholds using the `roc_curve(..)` function. As before print a table and plot a graph."
      ]
    },
    {
      "cell_type": "code",
      "metadata": {
        "id": "JNnR_VMIs9rR"
      },
      "source": [
        "# Predict the class probabilities for the test set\n",
        "y_pred_proba_rf = rf_classifier.predict_proba(X_test)"
      ],
      "execution_count": 190,
      "outputs": []
    },
    {
      "cell_type": "code",
      "metadata": {
        "id": "rpHEpGNPOhxT"
      },
      "source": [
        "# Extract the probabilities for the True class\n",
        "y_prob_rf_true = y_pred_proba_rf[:, 1]\n",
        "\n",
        "# Compute the ROC curve\n",
        "fpr, tpr, thresholds = roc_curve(y_test, y_prob_rf_true)\n",
        "\n",
        "# Compute the AUC score\n",
        "roc_auc_rf = auc(fpr, tpr)"
      ],
      "execution_count": 191,
      "outputs": []
    },
    {
      "cell_type": "code",
      "metadata": {
        "id": "5mMlEMkpOcB-",
        "colab": {
          "base_uri": "https://localhost:8080/",
          "height": 206
        },
        "outputId": "0f4dea86-37b3-4c67-845b-0c2c7e580600"
      },
      "source": [
        "# Create a pandas DataFrame with the ROC curve data\n",
        "roc_curve_data_rf = pd.DataFrame({'Thresholds': thresholds, 'Recall': tpr, 'Fallout': 1 - fpr, 'Balanced Accuracy': (tpr + (1 - fpr)) / 2})\n",
        "\n",
        "# Print the ROC curve data table\n",
        "roc_curve_data_rf.head()"
      ],
      "execution_count": 192,
      "outputs": [
        {
          "output_type": "execute_result",
          "data": {
            "text/plain": [
              "   Thresholds    Recall   Fallout  Balanced Accuracy\n",
              "0        1.96  0.000000  1.000000           0.500000\n",
              "1        0.96  0.013889  1.000000           0.506944\n",
              "2        0.78  0.111111  1.000000           0.555556\n",
              "3        0.74  0.152778  1.000000           0.576389\n",
              "4        0.69  0.152778  0.995614           0.574196"
            ],
            "text/html": [
              "\n",
              "  <div id=\"df-77ecef4a-22c7-45c1-89f2-496901655ca1\" class=\"colab-df-container\">\n",
              "    <div>\n",
              "<style scoped>\n",
              "    .dataframe tbody tr th:only-of-type {\n",
              "        vertical-align: middle;\n",
              "    }\n",
              "\n",
              "    .dataframe tbody tr th {\n",
              "        vertical-align: top;\n",
              "    }\n",
              "\n",
              "    .dataframe thead th {\n",
              "        text-align: right;\n",
              "    }\n",
              "</style>\n",
              "<table border=\"1\" class=\"dataframe\">\n",
              "  <thead>\n",
              "    <tr style=\"text-align: right;\">\n",
              "      <th></th>\n",
              "      <th>Thresholds</th>\n",
              "      <th>Recall</th>\n",
              "      <th>Fallout</th>\n",
              "      <th>Balanced Accuracy</th>\n",
              "    </tr>\n",
              "  </thead>\n",
              "  <tbody>\n",
              "    <tr>\n",
              "      <th>0</th>\n",
              "      <td>1.96</td>\n",
              "      <td>0.000000</td>\n",
              "      <td>1.000000</td>\n",
              "      <td>0.500000</td>\n",
              "    </tr>\n",
              "    <tr>\n",
              "      <th>1</th>\n",
              "      <td>0.96</td>\n",
              "      <td>0.013889</td>\n",
              "      <td>1.000000</td>\n",
              "      <td>0.506944</td>\n",
              "    </tr>\n",
              "    <tr>\n",
              "      <th>2</th>\n",
              "      <td>0.78</td>\n",
              "      <td>0.111111</td>\n",
              "      <td>1.000000</td>\n",
              "      <td>0.555556</td>\n",
              "    </tr>\n",
              "    <tr>\n",
              "      <th>3</th>\n",
              "      <td>0.74</td>\n",
              "      <td>0.152778</td>\n",
              "      <td>1.000000</td>\n",
              "      <td>0.576389</td>\n",
              "    </tr>\n",
              "    <tr>\n",
              "      <th>4</th>\n",
              "      <td>0.69</td>\n",
              "      <td>0.152778</td>\n",
              "      <td>0.995614</td>\n",
              "      <td>0.574196</td>\n",
              "    </tr>\n",
              "  </tbody>\n",
              "</table>\n",
              "</div>\n",
              "    <div class=\"colab-df-buttons\">\n",
              "\n",
              "  <div class=\"colab-df-container\">\n",
              "    <button class=\"colab-df-convert\" onclick=\"convertToInteractive('df-77ecef4a-22c7-45c1-89f2-496901655ca1')\"\n",
              "            title=\"Convert this dataframe to an interactive table.\"\n",
              "            style=\"display:none;\">\n",
              "\n",
              "  <svg xmlns=\"http://www.w3.org/2000/svg\" height=\"24px\" viewBox=\"0 -960 960 960\">\n",
              "    <path d=\"M120-120v-720h720v720H120Zm60-500h600v-160H180v160Zm220 220h160v-160H400v160Zm0 220h160v-160H400v160ZM180-400h160v-160H180v160Zm440 0h160v-160H620v160ZM180-180h160v-160H180v160Zm440 0h160v-160H620v160Z\"/>\n",
              "  </svg>\n",
              "    </button>\n",
              "\n",
              "  <style>\n",
              "    .colab-df-container {\n",
              "      display:flex;\n",
              "      gap: 12px;\n",
              "    }\n",
              "\n",
              "    .colab-df-convert {\n",
              "      background-color: #E8F0FE;\n",
              "      border: none;\n",
              "      border-radius: 50%;\n",
              "      cursor: pointer;\n",
              "      display: none;\n",
              "      fill: #1967D2;\n",
              "      height: 32px;\n",
              "      padding: 0 0 0 0;\n",
              "      width: 32px;\n",
              "    }\n",
              "\n",
              "    .colab-df-convert:hover {\n",
              "      background-color: #E2EBFA;\n",
              "      box-shadow: 0px 1px 2px rgba(60, 64, 67, 0.3), 0px 1px 3px 1px rgba(60, 64, 67, 0.15);\n",
              "      fill: #174EA6;\n",
              "    }\n",
              "\n",
              "    .colab-df-buttons div {\n",
              "      margin-bottom: 4px;\n",
              "    }\n",
              "\n",
              "    [theme=dark] .colab-df-convert {\n",
              "      background-color: #3B4455;\n",
              "      fill: #D2E3FC;\n",
              "    }\n",
              "\n",
              "    [theme=dark] .colab-df-convert:hover {\n",
              "      background-color: #434B5C;\n",
              "      box-shadow: 0px 1px 3px 1px rgba(0, 0, 0, 0.15);\n",
              "      filter: drop-shadow(0px 1px 2px rgba(0, 0, 0, 0.3));\n",
              "      fill: #FFFFFF;\n",
              "    }\n",
              "  </style>\n",
              "\n",
              "    <script>\n",
              "      const buttonEl =\n",
              "        document.querySelector('#df-77ecef4a-22c7-45c1-89f2-496901655ca1 button.colab-df-convert');\n",
              "      buttonEl.style.display =\n",
              "        google.colab.kernel.accessAllowed ? 'block' : 'none';\n",
              "\n",
              "      async function convertToInteractive(key) {\n",
              "        const element = document.querySelector('#df-77ecef4a-22c7-45c1-89f2-496901655ca1');\n",
              "        const dataTable =\n",
              "          await google.colab.kernel.invokeFunction('convertToInteractive',\n",
              "                                                    [key], {});\n",
              "        if (!dataTable) return;\n",
              "\n",
              "        const docLinkHtml = 'Like what you see? Visit the ' +\n",
              "          '<a target=\"_blank\" href=https://colab.research.google.com/notebooks/data_table.ipynb>data table notebook</a>'\n",
              "          + ' to learn more about interactive tables.';\n",
              "        element.innerHTML = '';\n",
              "        dataTable['output_type'] = 'display_data';\n",
              "        await google.colab.output.renderOutput(dataTable, element);\n",
              "        const docLink = document.createElement('div');\n",
              "        docLink.innerHTML = docLinkHtml;\n",
              "        element.appendChild(docLink);\n",
              "      }\n",
              "    </script>\n",
              "  </div>\n",
              "\n",
              "\n",
              "<div id=\"df-7f533862-299c-48e7-9177-6cf3fd79cbb9\">\n",
              "  <button class=\"colab-df-quickchart\" onclick=\"quickchart('df-7f533862-299c-48e7-9177-6cf3fd79cbb9')\"\n",
              "            title=\"Suggest charts\"\n",
              "            style=\"display:none;\">\n",
              "\n",
              "<svg xmlns=\"http://www.w3.org/2000/svg\" height=\"24px\"viewBox=\"0 0 24 24\"\n",
              "     width=\"24px\">\n",
              "    <g>\n",
              "        <path d=\"M19 3H5c-1.1 0-2 .9-2 2v14c0 1.1.9 2 2 2h14c1.1 0 2-.9 2-2V5c0-1.1-.9-2-2-2zM9 17H7v-7h2v7zm4 0h-2V7h2v10zm4 0h-2v-4h2v4z\"/>\n",
              "    </g>\n",
              "</svg>\n",
              "  </button>\n",
              "\n",
              "<style>\n",
              "  .colab-df-quickchart {\n",
              "      --bg-color: #E8F0FE;\n",
              "      --fill-color: #1967D2;\n",
              "      --hover-bg-color: #E2EBFA;\n",
              "      --hover-fill-color: #174EA6;\n",
              "      --disabled-fill-color: #AAA;\n",
              "      --disabled-bg-color: #DDD;\n",
              "  }\n",
              "\n",
              "  [theme=dark] .colab-df-quickchart {\n",
              "      --bg-color: #3B4455;\n",
              "      --fill-color: #D2E3FC;\n",
              "      --hover-bg-color: #434B5C;\n",
              "      --hover-fill-color: #FFFFFF;\n",
              "      --disabled-bg-color: #3B4455;\n",
              "      --disabled-fill-color: #666;\n",
              "  }\n",
              "\n",
              "  .colab-df-quickchart {\n",
              "    background-color: var(--bg-color);\n",
              "    border: none;\n",
              "    border-radius: 50%;\n",
              "    cursor: pointer;\n",
              "    display: none;\n",
              "    fill: var(--fill-color);\n",
              "    height: 32px;\n",
              "    padding: 0;\n",
              "    width: 32px;\n",
              "  }\n",
              "\n",
              "  .colab-df-quickchart:hover {\n",
              "    background-color: var(--hover-bg-color);\n",
              "    box-shadow: 0 1px 2px rgba(60, 64, 67, 0.3), 0 1px 3px 1px rgba(60, 64, 67, 0.15);\n",
              "    fill: var(--button-hover-fill-color);\n",
              "  }\n",
              "\n",
              "  .colab-df-quickchart-complete:disabled,\n",
              "  .colab-df-quickchart-complete:disabled:hover {\n",
              "    background-color: var(--disabled-bg-color);\n",
              "    fill: var(--disabled-fill-color);\n",
              "    box-shadow: none;\n",
              "  }\n",
              "\n",
              "  .colab-df-spinner {\n",
              "    border: 2px solid var(--fill-color);\n",
              "    border-color: transparent;\n",
              "    border-bottom-color: var(--fill-color);\n",
              "    animation:\n",
              "      spin 1s steps(1) infinite;\n",
              "  }\n",
              "\n",
              "  @keyframes spin {\n",
              "    0% {\n",
              "      border-color: transparent;\n",
              "      border-bottom-color: var(--fill-color);\n",
              "      border-left-color: var(--fill-color);\n",
              "    }\n",
              "    20% {\n",
              "      border-color: transparent;\n",
              "      border-left-color: var(--fill-color);\n",
              "      border-top-color: var(--fill-color);\n",
              "    }\n",
              "    30% {\n",
              "      border-color: transparent;\n",
              "      border-left-color: var(--fill-color);\n",
              "      border-top-color: var(--fill-color);\n",
              "      border-right-color: var(--fill-color);\n",
              "    }\n",
              "    40% {\n",
              "      border-color: transparent;\n",
              "      border-right-color: var(--fill-color);\n",
              "      border-top-color: var(--fill-color);\n",
              "    }\n",
              "    60% {\n",
              "      border-color: transparent;\n",
              "      border-right-color: var(--fill-color);\n",
              "    }\n",
              "    80% {\n",
              "      border-color: transparent;\n",
              "      border-right-color: var(--fill-color);\n",
              "      border-bottom-color: var(--fill-color);\n",
              "    }\n",
              "    90% {\n",
              "      border-color: transparent;\n",
              "      border-bottom-color: var(--fill-color);\n",
              "    }\n",
              "  }\n",
              "</style>\n",
              "\n",
              "  <script>\n",
              "    async function quickchart(key) {\n",
              "      const quickchartButtonEl =\n",
              "        document.querySelector('#' + key + ' button');\n",
              "      quickchartButtonEl.disabled = true;  // To prevent multiple clicks.\n",
              "      quickchartButtonEl.classList.add('colab-df-spinner');\n",
              "      try {\n",
              "        const charts = await google.colab.kernel.invokeFunction(\n",
              "            'suggestCharts', [key], {});\n",
              "      } catch (error) {\n",
              "        console.error('Error during call to suggestCharts:', error);\n",
              "      }\n",
              "      quickchartButtonEl.classList.remove('colab-df-spinner');\n",
              "      quickchartButtonEl.classList.add('colab-df-quickchart-complete');\n",
              "    }\n",
              "    (() => {\n",
              "      let quickchartButtonEl =\n",
              "        document.querySelector('#df-7f533862-299c-48e7-9177-6cf3fd79cbb9 button');\n",
              "      quickchartButtonEl.style.display =\n",
              "        google.colab.kernel.accessAllowed ? 'block' : 'none';\n",
              "    })();\n",
              "  </script>\n",
              "</div>\n",
              "    </div>\n",
              "  </div>\n"
            ],
            "application/vnd.google.colaboratory.intrinsic+json": {
              "type": "dataframe",
              "variable_name": "roc_curve_data_rf",
              "summary": "{\n  \"name\": \"roc_curve_data_rf\",\n  \"rows\": 69,\n  \"fields\": [\n    {\n      \"column\": \"Thresholds\",\n      \"properties\": {\n        \"dtype\": \"number\",\n        \"std\": 0.29286099400113297,\n        \"min\": 0.0,\n        \"max\": 1.96,\n        \"samples\": [\n          0.48,\n          1.96,\n          0.21\n        ],\n        \"num_unique_values\": 69,\n        \"semantic_type\": \"\",\n        \"description\": \"\"\n      }\n    },\n    {\n      \"column\": \"Recall\",\n      \"properties\": {\n        \"dtype\": \"number\",\n        \"std\": 0.2757618725327981,\n        \"min\": 0.0,\n        \"max\": 1.0,\n        \"samples\": [\n          0.8888888888888888,\n          0.5694444444444444,\n          0.5833333333333334\n        ],\n        \"num_unique_values\": 44,\n        \"semantic_type\": \"\",\n        \"description\": \"\"\n      }\n    },\n    {\n      \"column\": \"Fallout\",\n      \"properties\": {\n        \"dtype\": \"number\",\n        \"std\": 0.19963615097604467,\n        \"min\": 0.0,\n        \"max\": 1.0,\n        \"samples\": [\n          1.0,\n          0.9802631578947368,\n          0.8728070175438596\n        ],\n        \"num_unique_values\": 57,\n        \"semantic_type\": \"\",\n        \"description\": \"\"\n      }\n    },\n    {\n      \"column\": \"Balanced Accuracy\",\n      \"properties\": {\n        \"dtype\": \"number\",\n        \"std\": 0.08439054508949193,\n        \"min\": 0.5,\n        \"max\": 0.8267543859649122,\n        \"samples\": [\n          0.819078947368421,\n          0.7050438596491229,\n          0.5\n        ],\n        \"num_unique_values\": 66,\n        \"semantic_type\": \"\",\n        \"description\": \"\"\n      }\n    }\n  ]\n}"
            }
          },
          "metadata": {},
          "execution_count": 192
        }
      ]
    },
    {
      "cell_type": "code",
      "metadata": {
        "id": "asmPIgYZtE5L",
        "colab": {
          "base_uri": "https://localhost:8080/",
          "height": 542
        },
        "outputId": "3bf38603-7332-48da-d03c-fe61acb288a5"
      },
      "source": [
        "# Plot the ROC curve\n",
        "plt.figure(figsize=(8, 6))\n",
        "plt.plot(fpr, tpr, label='ROC curve (area = %0.2f)' % roc_auc_rf, color = 'orange')\n",
        "plt.plot([0, 1], [0, 1], color='navy', linestyle='--')\n",
        "plt.xlabel('Fallout')\n",
        "plt.ylabel('Recall')\n",
        "plt.legend(loc=\"lower right\")\n",
        "plt.show()"
      ],
      "execution_count": 193,
      "outputs": [
        {
          "output_type": "display_data",
          "data": {
            "text/plain": [
              "<Figure size 800x600 with 1 Axes>"
            ],
            "image/png": "[encoded data removed]"
          },
          "metadata": {}
        }
      ]
    },
    {
      "cell_type": "markdown",
      "metadata": {
        "id": "JsEstfsbQXn4"
      },
      "source": [
        "**Question:** Considering the results, what threshold would you select? Would you use this model or one of the ones from before?"
      ]
    },
    {
      "cell_type": "markdown",
      "metadata": {
        "id": "72yflvr4uzRt"
      },
      "source": [
        "Would I select this model (I'm going to assume you picked well)? Maybe - the selected threshold is not as extreme and points to a lower likelihood of potential overfitting. Of course, in practice, I don't really have enough information at the moment to choose as we have not guarded against procedural overfitting! So for a definitive answer we'll have to wait until next week.\n",
        "\n",
        "**For now the take home message is:**\n",
        "1. Re-weighting does help\n",
        "2. Thresholding can help (although how much we can't tell yet as we don't know how much, if any, is being caused by overfitting)\n",
        "3. That we can do 1 and 2 together if we want (but again until next week's lecture we can't tell how much this will truely help when predicting new data as we don't know how much, if any, is being caused by overfitting)"
      ]
    },
    {
      "cell_type": "markdown",
      "metadata": {
        "id": "l4YVky9Pu4_t"
      },
      "source": [
        "## Step 8: Dealing with unbalanced class using SMOTE\n",
        "Now let do SMOTE and see how that compares.\n",
        "\n",
        "We will use the `imblaern` package. Specifically we will use the implemenation found here:\n",
        "\n",
        "https://imbalanced-learn.readthedocs.io/en/stable/generated/imblearn.over_sampling.SMOTE.html\n",
        "\n",
        "To use this package we will `.fit(..)` a SMOTE object using the training set and then call a function called `resample(..)` to generate a new training set.\n",
        "\n",
        "### Step 8a: Import SMOTE\n",
        "\n",
        "The import we will need is:\n",
        "`from imblearn.over_sampling import SMOTE`"
      ]
    },
    {
      "cell_type": "code",
      "metadata": {
        "id": "7jKh9OsPu3rs"
      },
      "source": [
        "from imblearn.over_sampling import SMOTE"
      ],
      "execution_count": 211,
      "outputs": []
    },
    {
      "cell_type": "markdown",
      "metadata": {
        "id": "g1ZgcLs-TRnp"
      },
      "source": [
        "### Step 8b: Check the number of each class in your training labels (so we can check later SMOTE worked.\n",
        "\n",
        "You can use this code (assuming your training set labels are in a variable called `y_train`:\n",
        "```\n",
        "from collections import Counter\n",
        "print('Original dataset shape {}'.format(Counter(y_train)))\n",
        "```"
      ]
    },
    {
      "cell_type": "code",
      "metadata": {
        "id": "gx5K5f2rva_v",
        "colab": {
          "base_uri": "https://localhost:8080/"
        },
        "outputId": "e7810315-fe2e-48ff-817a-b20df4510772"
      },
      "source": [
        "from collections import Counter\n",
        "print('Original dataset shape {}'.format(Counter(y_train)))"
      ],
      "execution_count": 212,
      "outputs": [
        {
          "output_type": "stream",
          "name": "stdout",
          "text": [
            "Original dataset shape Counter({False: 747, True: 734})\n"
          ]
        }
      ]
    },
    {
      "cell_type": "markdown",
      "metadata": {
        "id": "AO_wAVEXT20A"
      },
      "source": [
        "### Step 8c: Create the SMOTE object.\n",
        "Have a quick look at the documentation to see what parameters exist. In this case, however, the defaults are fine. The **one thing we will set is the random_state = 42** so we all get the same answers and so things do not change due to randomness as we adjust and evaluate the effect of changes to other parts of the algorithm / machine learning pipeline.\n"
      ]
    },
    {
      "cell_type": "code",
      "metadata": {
        "id": "CTCSpp-svb6n"
      },
      "source": [
        "sm = SMOTE(sampling_strategy='auto', random_state=42)"
      ],
      "execution_count": 213,
      "outputs": []
    },
    {
      "cell_type": "markdown",
      "metadata": {
        "id": "1Y6tAXWCUmbu"
      },
      "source": [
        "### Step 8d: Create the new (balanced) training set using SMOTE\n",
        "Unfortunately SMOTE does not handle missing values. Given what you were taught in the lecture can you think of why?\n",
        "\n",
        "As such we need to impute our data first. We could use a pipeline, but for simplicilty let's just fit a stand-alone KNNImputer and fit it using the training data and then transform the training data to return us a training set with the missing values filled in.\n",
        "\n",
        "Use a KNNImputer to create a new set of input features for training (**let's call it `X_trainI`**)."
      ]
    },
    {
      "cell_type": "code",
      "metadata": {
        "id": "S65GUpf4ydNR"
      },
      "source": [
        "imputed_data = imputer.fit_transform(X_train)\n",
        "\n",
        "# Convert the imputed data back to a DataFrame\n",
        "X_trainI = pd.DataFrame(imputed_data, columns=X_train.columns)"
      ],
      "execution_count": 214,
      "outputs": []
    },
    {
      "cell_type": "code",
      "source": [
        "X_trainI.isna().sum()"
      ],
      "metadata": {
        "colab": {
          "base_uri": "https://localhost:8080/"
        },
        "id": "Dn3HS69c6uUl",
        "outputId": "73ab8562-66e2-40c8-bde6-9851b62aa70b"
      },
      "execution_count": 215,
      "outputs": [
        {
          "output_type": "execute_result",
          "data": {
            "text/plain": [
              "fixed acidity           0\n",
              "volatile acidity        0\n",
              "citric acid             0\n",
              "residual sugar          0\n",
              "chlorides               0\n",
              "free sulfur dioxide     0\n",
              "total sulfur dioxide    0\n",
              "density                 0\n",
              "pH                      0\n",
              "sulphates               0\n",
              "alcohol                 0\n",
              "dtype: int64"
            ]
          },
          "metadata": {},
          "execution_count": 215
        }
      ]
    },
    {
      "cell_type": "markdown",
      "metadata": {
        "id": "0Tg-Lq2OW-i0"
      },
      "source": [
        "Now we have a dataset (`X_trainI`, `y_train`) without missing values we can fit the SMOTE object and call resample. We can do this as two steps or a single step using the function `.fit_sample(..)`. Given `.fit()` doesn't really do anything (it is included mainly to follow the sklearn interface) we should **always use `.fit_sample(..)`.\n",
        "\n",
        "If you read the documents you will find that: `.fit_sample(...)` takes the input features and the output labels for the set we want to resample and returns two things - a `new input feature matrix` and a `new output label list`.\n",
        "\n",
        "In otherwords the way we call is it is (assuming your SMOTE object you created is called `sm`):\n",
        "\n",
        "`X_res, y_res = sm.fit_resample(X_trainI, y_train)`\n",
        "\n",
        "Ok, now create the resampled training set! Ensure you are passing the right variable given you may have different variable names. After use the code I gave you before (the one using `Counter`) to check if the training data set is now balanced or not - i.e to see what SMOTE has done."
      ]
    },
    {
      "cell_type": "code",
      "metadata": {
        "id": "4B5E-3FoW5CT"
      },
      "source": [
        "X_res, y_res = sm.fit_resample(X_trainI, y_train)"
      ],
      "execution_count": 216,
      "outputs": []
    },
    {
      "cell_type": "markdown",
      "metadata": {
        "id": "wDdlyzZVYs1V"
      },
      "source": [
        "### Step 8e: Train and evaluate our classifier using our new SMOTE training dataset.\n",
        "\n",
        "Go ahead. You should know what to do by now. If not, ask!\n",
        "\n",
        "You should compute:\n",
        "1. The accuracy, recall, specificity, balanced accuracy for the classifier without considering changing the probability thesholds\n",
        "2. Vary the probability threshold and print the table as before as well as the ROC graph."
      ]
    },
    {
      "cell_type": "code",
      "source": [
        "m.fit(X_res, y_res)"
      ],
      "metadata": {
        "id": "gF0lYw6Fs4oB",
        "outputId": "99f92670-3a3a-44e7-d79c-0c3fe3614764",
        "colab": {
          "base_uri": "https://localhost:8080/",
          "height": 124
        }
      },
      "execution_count": 217,
      "outputs": [
        {
          "output_type": "execute_result",
          "data": {
            "text/plain": [
              "Pipeline(steps=[('imputer', KNNImputer(n_neighbors=3)),\n",
              "                ('predictor',\n",
              "                 RandomForestClassifier(max_depth=10, random_state=42))])"
            ],
            "text/html": [
              "<style>#sk-container-id-3 {color: black;background-color: white;}#sk-container-id-3 pre{padding: 0;}#sk-container-id-3 div.sk-toggleable {background-color: white;}#sk-container-id-3 label.sk-toggleable__label {cursor: pointer;display: block;width: 100%;margin-bottom: 0;padding: 0.3em;box-sizing: border-box;text-align: center;}#sk-container-id-3 label.sk-toggleable__label-arrow:before {content: \"▸\";float: left;margin-right: 0.25em;color: #696969;}#sk-container-id-3 label.sk-toggleable__label-arrow:hover:before {color: black;}#sk-container-id-3 div.sk-estimator:hover label.sk-toggleable__label-arrow:before {color: black;}#sk-container-id-3 div.sk-toggleable__content {max-height: 0;max-width: 0;overflow: hidden;text-align: left;background-color: #f0f8ff;}#sk-container-id-3 div.sk-toggleable__content pre {margin: 0.2em;color: black;border-radius: 0.25em;background-color: #f0f8ff;}#sk-container-id-3 input.sk-toggleable__control:checked~div.sk-toggleable__content {max-height: 200px;max-width: 100%;overflow: auto;}#sk-container-id-3 input.sk-toggleable__control:checked~label.sk-toggleable__label-arrow:before {content: \"▾\";}#sk-container-id-3 div.sk-estimator input.sk-toggleable__control:checked~label.sk-toggleable__label {background-color: #d4ebff;}#sk-container-id-3 div.sk-label input.sk-toggleable__control:checked~label.sk-toggleable__label {background-color: #d4ebff;}#sk-container-id-3 input.sk-hidden--visually {border: 0;clip: rect(1px 1px 1px 1px);clip: rect(1px, 1px, 1px, 1px);height: 1px;margin: -1px;overflow: hidden;padding: 0;position: absolute;width: 1px;}#sk-container-id-3 div.sk-estimator {font-family: monospace;background-color: #f0f8ff;border: 1px dotted black;border-radius: 0.25em;box-sizing: border-box;margin-bottom: 0.5em;}#sk-container-id-3 div.sk-estimator:hover {background-color: #d4ebff;}#sk-container-id-3 div.sk-parallel-item::after {content: \"\";width: 100%;border-bottom: 1px solid gray;flex-grow: 1;}#sk-container-id-3 div.sk-label:hover label.sk-toggleable__label {background-color: #d4ebff;}#sk-container-id-3 div.sk-serial::before {content: \"\";position: absolute;border-left: 1px solid gray;box-sizing: border-box;top: 0;bottom: 0;left: 50%;z-index: 0;}#sk-container-id-3 div.sk-serial {display: flex;flex-direction: column;align-items: center;background-color: white;padding-right: 0.2em;padding-left: 0.2em;position: relative;}#sk-container-id-3 div.sk-item {position: relative;z-index: 1;}#sk-container-id-3 div.sk-parallel {display: flex;align-items: stretch;justify-content: center;background-color: white;position: relative;}#sk-container-id-3 div.sk-item::before, #sk-container-id-3 div.sk-parallel-item::before {content: \"\";position: absolute;border-left: 1px solid gray;box-sizing: border-box;top: 0;bottom: 0;left: 50%;z-index: -1;}#sk-container-id-3 div.sk-parallel-item {display: flex;flex-direction: column;z-index: 1;position: relative;background-color: white;}#sk-container-id-3 div.sk-parallel-item:first-child::after {align-self: flex-end;width: 50%;}#sk-container-id-3 div.sk-parallel-item:last-child::after {align-self: flex-start;width: 50%;}#sk-container-id-3 div.sk-parallel-item:only-child::after {width: 0;}#sk-container-id-3 div.sk-dashed-wrapped {border: 1px dashed gray;margin: 0 0.4em 0.5em 0.4em;box-sizing: border-box;padding-bottom: 0.4em;background-color: white;}#sk-container-id-3 div.sk-label label {font-family: monospace;font-weight: bold;display: inline-block;line-height: 1.2em;}#sk-container-id-3 div.sk-label-container {text-align: center;}#sk-container-id-3 div.sk-container {/* jupyter's `normalize.less` sets `[hidden] { display: none; }` but bootstrap.min.css set `[hidden] { display: none !important; }` so we also need the `!important` here to be able to override the default hidden behavior on the sphinx rendered scikit-learn.org. See: https://github.com/scikit-learn/scikit-learn/issues/21755 */display: inline-block !important;position: relative;}#sk-container-id-3 div.sk-text-repr-fallback {display: none;}</style><div id=\"sk-container-id-3\" class=\"sk-top-container\"><div class=\"sk-text-repr-fallback\"><pre>Pipeline(steps=[(&#x27;imputer&#x27;, KNNImputer(n_neighbors=3)),\n",
              "                (&#x27;predictor&#x27;,\n",
              "                 RandomForestClassifier(max_depth=10, random_state=42))])</pre><b>In a Jupyter environment, please rerun this cell to show the HTML representation or trust the notebook. <br />On GitHub, the HTML representation is unable to render, please try loading this page with nbviewer.org.</b></div><div class=\"sk-container\" hidden><div class=\"sk-item sk-dashed-wrapped\"><div class=\"sk-label-container\"><div class=\"sk-label sk-toggleable\"><input class=\"sk-toggleable__control sk-hidden--visually\" id=\"sk-estimator-id-7\" type=\"checkbox\" ><label for=\"sk-estimator-id-7\" class=\"sk-toggleable__label sk-toggleable__label-arrow\">Pipeline</label><div class=\"sk-toggleable__content\"><pre>Pipeline(steps=[(&#x27;imputer&#x27;, KNNImputer(n_neighbors=3)),\n",
              "                (&#x27;predictor&#x27;,\n",
              "                 RandomForestClassifier(max_depth=10, random_state=42))])</pre></div></div></div><div class=\"sk-serial\"><div class=\"sk-item\"><div class=\"sk-estimator sk-toggleable\"><input class=\"sk-toggleable__control sk-hidden--visually\" id=\"sk-estimator-id-8\" type=\"checkbox\" ><label for=\"sk-estimator-id-8\" class=\"sk-toggleable__label sk-toggleable__label-arrow\">KNNImputer</label><div class=\"sk-toggleable__content\"><pre>KNNImputer(n_neighbors=3)</pre></div></div></div><div class=\"sk-item\"><div class=\"sk-estimator sk-toggleable\"><input class=\"sk-toggleable__control sk-hidden--visually\" id=\"sk-estimator-id-9\" type=\"checkbox\" ><label for=\"sk-estimator-id-9\" class=\"sk-toggleable__label sk-toggleable__label-arrow\">RandomForestClassifier</label><div class=\"sk-toggleable__content\"><pre>RandomForestClassifier(max_depth=10, random_state=42)</pre></div></div></div></div></div></div></div>"
            ]
          },
          "metadata": {},
          "execution_count": 217
        }
      ]
    },
    {
      "cell_type": "code",
      "metadata": {
        "id": "JssZ7bjrzLzF",
        "colab": {
          "base_uri": "https://localhost:8080/"
        },
        "outputId": "abd65626-75d3-4f58-d16a-32284a63cd1b"
      },
      "source": [
        "# Evaluate the classifier\n",
        "y_pred = m.predict(X_test)\n",
        "print(classification_report(y_test, y_pred))\n",
        "\n",
        "accuracy = accuracy_score(y_test, y_pred)\n",
        "print(\"Model Accuracy:\", accuracy)"
      ],
      "execution_count": 218,
      "outputs": [
        {
          "output_type": "stream",
          "name": "stdout",
          "text": [
            "              precision    recall  f1-score   support\n",
            "\n",
            "       False       0.97      0.85      0.90       179\n",
            "        True       0.87      0.97      0.92       192\n",
            "\n",
            "    accuracy                           0.91       371\n",
            "   macro avg       0.92      0.91      0.91       371\n",
            "weighted avg       0.92      0.91      0.91       371\n",
            "\n",
            "Model Accuracy: 0.9137466307277629\n"
          ]
        }
      ]
    },
    {
      "cell_type": "code",
      "metadata": {
        "id": "lCQU7InVzpDJ"
      },
      "source": [
        "#Why have we used just X_train not not the whole dataset above?"
      ],
      "execution_count": 111,
      "outputs": []
    },
    {
      "cell_type": "markdown",
      "source": [
        "**SMOTE using the whole dataset**"
      ],
      "metadata": {
        "id": "AfThBDK48opF"
      }
    },
    {
      "cell_type": "code",
      "metadata": {
        "id": "bMvZZgrzzrb3"
      },
      "source": [
        "sm = SMOTE(sampling_strategy='auto', random_state=42)\n",
        "\n",
        "imputed_data = imputer.fit_transform(df_new)\n",
        "\n",
        "# Convert the imputed data back to a DataFrame\n",
        "imputed_new_df = pd.DataFrame(imputed_data, columns=df_new.columns)"
      ],
      "execution_count": 219,
      "outputs": []
    },
    {
      "cell_type": "code",
      "metadata": {
        "id": "lke0jM0xaC4E"
      },
      "source": [
        "X = imputed_new_df.drop(columns = ['quality'])\n",
        "y = imputed_new_df.quality >= 7"
      ],
      "execution_count": 220,
      "outputs": []
    },
    {
      "cell_type": "code",
      "metadata": {
        "id": "0-aTemtaztZu"
      },
      "source": [
        "X_res, y_res = sm.fit_resample(X, y)"
      ],
      "execution_count": 221,
      "outputs": []
    },
    {
      "cell_type": "code",
      "source": [
        "len(y_res)"
      ],
      "metadata": {
        "id": "h81-QRTitSO8",
        "outputId": "cd8be8f4-0be9-4a89-b8ae-051c11a34d67",
        "colab": {
          "base_uri": "https://localhost:8080/"
        }
      },
      "execution_count": 223,
      "outputs": [
        {
          "output_type": "execute_result",
          "data": {
            "text/plain": [
              "2764"
            ]
          },
          "metadata": {},
          "execution_count": 223
        }
      ]
    },
    {
      "cell_type": "code",
      "source": [
        "X_train, X_test, y_train, y_test = train_test_split(X_res, y_res, test_size=0.33, random_state=42, stratify = y_res)\n",
        "\n",
        "# Instantiate the classifier (for example, RandomForestClassifier)\n",
        "clf = RandomForestClassifier()\n",
        "\n",
        "# Train the classifier\n",
        "clf.fit(X_train, y_train)\n",
        "\n",
        "# Evaluate the classifier\n",
        "y_pred = clf.predict(X_test)\n",
        "print(classification_report(y_test, y_pred))\n",
        "\n",
        "accuracy = accuracy_score(y_test, y_pred)\n",
        "print(\"Model Accuracy:\", accuracy)"
      ],
      "metadata": {
        "colab": {
          "base_uri": "https://localhost:8080/"
        },
        "id": "-jZ7PXyl8hXu",
        "outputId": "364e831b-61c0-441f-8ee1-e97e8ee3bf8a"
      },
      "execution_count": 224,
      "outputs": [
        {
          "output_type": "stream",
          "name": "stdout",
          "text": [
            "              precision    recall  f1-score   support\n",
            "\n",
            "       False       0.96      0.89      0.93       457\n",
            "        True       0.90      0.97      0.93       456\n",
            "\n",
            "    accuracy                           0.93       913\n",
            "   macro avg       0.93      0.93      0.93       913\n",
            "weighted avg       0.93      0.93      0.93       913\n",
            "\n",
            "Model Accuracy: 0.9288061336254108\n"
          ]
        }
      ]
    },
    {
      "cell_type": "code",
      "source": [
        "y_pred_proba_rf = clf.predict_proba(X_test)\n",
        "\n",
        "y_prob_rf_true = y_pred_proba_rf[:, 1]\n",
        "\n",
        "fpr, tpr, thresholds = roc_curve(y_test, y_prob_rf_true)\n",
        "\n",
        "# AUC score\n",
        "roc_auc_rf = auc(fpr, tpr)"
      ],
      "metadata": {
        "id": "8WMPkKZp82sb"
      },
      "execution_count": 225,
      "outputs": []
    },
    {
      "cell_type": "code",
      "source": [
        "# Create a pandas DataFrame with the ROC curve data\n",
        "roc_curve_data_rf = pd.DataFrame({'Thresholds': thresholds, 'Recall': tpr, 'Fallout': 1 - fpr, 'Balanced Accuracy': (tpr + (1 - fpr)) / 2})\n",
        "\n",
        "# Print the ROC curve data table\n",
        "roc_curve_data_rf.head()"
      ],
      "metadata": {
        "colab": {
          "base_uri": "https://localhost:8080/",
          "height": 206
        },
        "id": "DJa2Uhtt9J8V",
        "outputId": "f0d72f58-3da7-43a0-eff2-5b6942167a78"
      },
      "execution_count": 226,
      "outputs": [
        {
          "output_type": "execute_result",
          "data": {
            "text/plain": [
              "   Thresholds    Recall   Fallout  Balanced Accuracy\n",
              "0        2.00  0.000000  1.000000           0.500000\n",
              "1        1.00  0.125000  1.000000           0.562500\n",
              "2        0.99  0.219298  1.000000           0.609649\n",
              "3        0.98  0.276316  1.000000           0.638158\n",
              "4        0.97  0.342105  0.997812           0.669959"
            ],
            "text/html": [
              "\n",
              "  <div id=\"df-d85b2adb-2fb5-4c07-ac52-af23c5b93bec\" class=\"colab-df-container\">\n",
              "    <div>\n",
              "<style scoped>\n",
              "    .dataframe tbody tr th:only-of-type {\n",
              "        vertical-align: middle;\n",
              "    }\n",
              "\n",
              "    .dataframe tbody tr th {\n",
              "        vertical-align: top;\n",
              "    }\n",
              "\n",
              "    .dataframe thead th {\n",
              "        text-align: right;\n",
              "    }\n",
              "</style>\n",
              "<table border=\"1\" class=\"dataframe\">\n",
              "  <thead>\n",
              "    <tr style=\"text-align: right;\">\n",
              "      <th></th>\n",
              "      <th>Thresholds</th>\n",
              "      <th>Recall</th>\n",
              "      <th>Fallout</th>\n",
              "      <th>Balanced Accuracy</th>\n",
              "    </tr>\n",
              "  </thead>\n",
              "  <tbody>\n",
              "    <tr>\n",
              "      <th>0</th>\n",
              "      <td>2.00</td>\n",
              "      <td>0.000000</td>\n",
              "      <td>1.000000</td>\n",
              "      <td>0.500000</td>\n",
              "    </tr>\n",
              "    <tr>\n",
              "      <th>1</th>\n",
              "      <td>1.00</td>\n",
              "      <td>0.125000</td>\n",
              "      <td>1.000000</td>\n",
              "      <td>0.562500</td>\n",
              "    </tr>\n",
              "    <tr>\n",
              "      <th>2</th>\n",
              "      <td>0.99</td>\n",
              "      <td>0.219298</td>\n",
              "      <td>1.000000</td>\n",
              "      <td>0.609649</td>\n",
              "    </tr>\n",
              "    <tr>\n",
              "      <th>3</th>\n",
              "      <td>0.98</td>\n",
              "      <td>0.276316</td>\n",
              "      <td>1.000000</td>\n",
              "      <td>0.638158</td>\n",
              "    </tr>\n",
              "    <tr>\n",
              "      <th>4</th>\n",
              "      <td>0.97</td>\n",
              "      <td>0.342105</td>\n",
              "      <td>0.997812</td>\n",
              "      <td>0.669959</td>\n",
              "    </tr>\n",
              "  </tbody>\n",
              "</table>\n",
              "</div>\n",
              "    <div class=\"colab-df-buttons\">\n",
              "\n",
              "  <div class=\"colab-df-container\">\n",
              "    <button class=\"colab-df-convert\" onclick=\"convertToInteractive('df-d85b2adb-2fb5-4c07-ac52-af23c5b93bec')\"\n",
              "            title=\"Convert this dataframe to an interactive table.\"\n",
              "            style=\"display:none;\">\n",
              "\n",
              "  <svg xmlns=\"http://www.w3.org/2000/svg\" height=\"24px\" viewBox=\"0 -960 960 960\">\n",
              "    <path d=\"M120-120v-720h720v720H120Zm60-500h600v-160H180v160Zm220 220h160v-160H400v160Zm0 220h160v-160H400v160ZM180-400h160v-160H180v160Zm440 0h160v-160H620v160ZM180-180h160v-160H180v160Zm440 0h160v-160H620v160Z\"/>\n",
              "  </svg>\n",
              "    </button>\n",
              "\n",
              "  <style>\n",
              "    .colab-df-container {\n",
              "      display:flex;\n",
              "      gap: 12px;\n",
              "    }\n",
              "\n",
              "    .colab-df-convert {\n",
              "      background-color: #E8F0FE;\n",
              "      border: none;\n",
              "      border-radius: 50%;\n",
              "      cursor: pointer;\n",
              "      display: none;\n",
              "      fill: #1967D2;\n",
              "      height: 32px;\n",
              "      padding: 0 0 0 0;\n",
              "      width: 32px;\n",
              "    }\n",
              "\n",
              "    .colab-df-convert:hover {\n",
              "      background-color: #E2EBFA;\n",
              "      box-shadow: 0px 1px 2px rgba(60, 64, 67, 0.3), 0px 1px 3px 1px rgba(60, 64, 67, 0.15);\n",
              "      fill: #174EA6;\n",
              "    }\n",
              "\n",
              "    .colab-df-buttons div {\n",
              "      margin-bottom: 4px;\n",
              "    }\n",
              "\n",
              "    [theme=dark] .colab-df-convert {\n",
              "      background-color: #3B4455;\n",
              "      fill: #D2E3FC;\n",
              "    }\n",
              "\n",
              "    [theme=dark] .colab-df-convert:hover {\n",
              "      background-color: #434B5C;\n",
              "      box-shadow: 0px 1px 3px 1px rgba(0, 0, 0, 0.15);\n",
              "      filter: drop-shadow(0px 1px 2px rgba(0, 0, 0, 0.3));\n",
              "      fill: #FFFFFF;\n",
              "    }\n",
              "  </style>\n",
              "\n",
              "    <script>\n",
              "      const buttonEl =\n",
              "        document.querySelector('#df-d85b2adb-2fb5-4c07-ac52-af23c5b93bec button.colab-df-convert');\n",
              "      buttonEl.style.display =\n",
              "        google.colab.kernel.accessAllowed ? 'block' : 'none';\n",
              "\n",
              "      async function convertToInteractive(key) {\n",
              "        const element = document.querySelector('#df-d85b2adb-2fb5-4c07-ac52-af23c5b93bec');\n",
              "        const dataTable =\n",
              "          await google.colab.kernel.invokeFunction('convertToInteractive',\n",
              "                                                    [key], {});\n",
              "        if (!dataTable) return;\n",
              "\n",
              "        const docLinkHtml = 'Like what you see? Visit the ' +\n",
              "          '<a target=\"_blank\" href=https://colab.research.google.com/notebooks/data_table.ipynb>data table notebook</a>'\n",
              "          + ' to learn more about interactive tables.';\n",
              "        element.innerHTML = '';\n",
              "        dataTable['output_type'] = 'display_data';\n",
              "        await google.colab.output.renderOutput(dataTable, element);\n",
              "        const docLink = document.createElement('div');\n",
              "        docLink.innerHTML = docLinkHtml;\n",
              "        element.appendChild(docLink);\n",
              "      }\n",
              "    </script>\n",
              "  </div>\n",
              "\n",
              "\n",
              "<div id=\"df-83f8011f-aa9e-4f2a-b266-d91fc5b064f6\">\n",
              "  <button class=\"colab-df-quickchart\" onclick=\"quickchart('df-83f8011f-aa9e-4f2a-b266-d91fc5b064f6')\"\n",
              "            title=\"Suggest charts\"\n",
              "            style=\"display:none;\">\n",
              "\n",
              "<svg xmlns=\"http://www.w3.org/2000/svg\" height=\"24px\"viewBox=\"0 0 24 24\"\n",
              "     width=\"24px\">\n",
              "    <g>\n",
              "        <path d=\"M19 3H5c-1.1 0-2 .9-2 2v14c0 1.1.9 2 2 2h14c1.1 0 2-.9 2-2V5c0-1.1-.9-2-2-2zM9 17H7v-7h2v7zm4 0h-2V7h2v10zm4 0h-2v-4h2v4z\"/>\n",
              "    </g>\n",
              "</svg>\n",
              "  </button>\n",
              "\n",
              "<style>\n",
              "  .colab-df-quickchart {\n",
              "      --bg-color: #E8F0FE;\n",
              "      --fill-color: #1967D2;\n",
              "      --hover-bg-color: #E2EBFA;\n",
              "      --hover-fill-color: #174EA6;\n",
              "      --disabled-fill-color: #AAA;\n",
              "      --disabled-bg-color: #DDD;\n",
              "  }\n",
              "\n",
              "  [theme=dark] .colab-df-quickchart {\n",
              "      --bg-color: #3B4455;\n",
              "      --fill-color: #D2E3FC;\n",
              "      --hover-bg-color: #434B5C;\n",
              "      --hover-fill-color: #FFFFFF;\n",
              "      --disabled-bg-color: #3B4455;\n",
              "      --disabled-fill-color: #666;\n",
              "  }\n",
              "\n",
              "  .colab-df-quickchart {\n",
              "    background-color: var(--bg-color);\n",
              "    border: none;\n",
              "    border-radius: 50%;\n",
              "    cursor: pointer;\n",
              "    display: none;\n",
              "    fill: var(--fill-color);\n",
              "    height: 32px;\n",
              "    padding: 0;\n",
              "    width: 32px;\n",
              "  }\n",
              "\n",
              "  .colab-df-quickchart:hover {\n",
              "    background-color: var(--hover-bg-color);\n",
              "    box-shadow: 0 1px 2px rgba(60, 64, 67, 0.3), 0 1px 3px 1px rgba(60, 64, 67, 0.15);\n",
              "    fill: var(--button-hover-fill-color);\n",
              "  }\n",
              "\n",
              "  .colab-df-quickchart-complete:disabled,\n",
              "  .colab-df-quickchart-complete:disabled:hover {\n",
              "    background-color: var(--disabled-bg-color);\n",
              "    fill: var(--disabled-fill-color);\n",
              "    box-shadow: none;\n",
              "  }\n",
              "\n",
              "  .colab-df-spinner {\n",
              "    border: 2px solid var(--fill-color);\n",
              "    border-color: transparent;\n",
              "    border-bottom-color: var(--fill-color);\n",
              "    animation:\n",
              "      spin 1s steps(1) infinite;\n",
              "  }\n",
              "\n",
              "  @keyframes spin {\n",
              "    0% {\n",
              "      border-color: transparent;\n",
              "      border-bottom-color: var(--fill-color);\n",
              "      border-left-color: var(--fill-color);\n",
              "    }\n",
              "    20% {\n",
              "      border-color: transparent;\n",
              "      border-left-color: var(--fill-color);\n",
              "      border-top-color: var(--fill-color);\n",
              "    }\n",
              "    30% {\n",
              "      border-color: transparent;\n",
              "      border-left-color: var(--fill-color);\n",
              "      border-top-color: var(--fill-color);\n",
              "      border-right-color: var(--fill-color);\n",
              "    }\n",
              "    40% {\n",
              "      border-color: transparent;\n",
              "      border-right-color: var(--fill-color);\n",
              "      border-top-color: var(--fill-color);\n",
              "    }\n",
              "    60% {\n",
              "      border-color: transparent;\n",
              "      border-right-color: var(--fill-color);\n",
              "    }\n",
              "    80% {\n",
              "      border-color: transparent;\n",
              "      border-right-color: var(--fill-color);\n",
              "      border-bottom-color: var(--fill-color);\n",
              "    }\n",
              "    90% {\n",
              "      border-color: transparent;\n",
              "      border-bottom-color: var(--fill-color);\n",
              "    }\n",
              "  }\n",
              "</style>\n",
              "\n",
              "  <script>\n",
              "    async function quickchart(key) {\n",
              "      const quickchartButtonEl =\n",
              "        document.querySelector('#' + key + ' button');\n",
              "      quickchartButtonEl.disabled = true;  // To prevent multiple clicks.\n",
              "      quickchartButtonEl.classList.add('colab-df-spinner');\n",
              "      try {\n",
              "        const charts = await google.colab.kernel.invokeFunction(\n",
              "            'suggestCharts', [key], {});\n",
              "      } catch (error) {\n",
              "        console.error('Error during call to suggestCharts:', error);\n",
              "      }\n",
              "      quickchartButtonEl.classList.remove('colab-df-spinner');\n",
              "      quickchartButtonEl.classList.add('colab-df-quickchart-complete');\n",
              "    }\n",
              "    (() => {\n",
              "      let quickchartButtonEl =\n",
              "        document.querySelector('#df-83f8011f-aa9e-4f2a-b266-d91fc5b064f6 button');\n",
              "      quickchartButtonEl.style.display =\n",
              "        google.colab.kernel.accessAllowed ? 'block' : 'none';\n",
              "    })();\n",
              "  </script>\n",
              "</div>\n",
              "    </div>\n",
              "  </div>\n"
            ],
            "application/vnd.google.colaboratory.intrinsic+json": {
              "type": "dataframe",
              "variable_name": "roc_curve_data_rf",
              "summary": "{\n  \"name\": \"roc_curve_data_rf\",\n  \"rows\": 97,\n  \"fields\": [\n    {\n      \"column\": \"Thresholds\",\n      \"properties\": {\n        \"dtype\": \"number\",\n        \"std\": 0.332877437379212,\n        \"min\": 0.0,\n        \"max\": 2.0,\n        \"samples\": [\n          0.38,\n          0.61,\n          0.03\n        ],\n        \"num_unique_values\": 97,\n        \"semantic_type\": \"\",\n        \"description\": \"\"\n      }\n    },\n    {\n      \"column\": \"Recall\",\n      \"properties\": {\n        \"dtype\": \"number\",\n        \"std\": 0.20816037676239846,\n        \"min\": 0.0,\n        \"max\": 1.0,\n        \"samples\": [\n          0.0,\n          0.3991228070175439,\n          0.918859649122807\n        ],\n        \"num_unique_values\": 60,\n        \"semantic_type\": \"\",\n        \"description\": \"\"\n      }\n    },\n    {\n      \"column\": \"Fallout\",\n      \"properties\": {\n        \"dtype\": \"number\",\n        \"std\": 0.20631956293229503,\n        \"min\": 0.0,\n        \"max\": 1.0,\n        \"samples\": [\n          0.9890590809628009,\n          0.8665207877461707,\n          0.9671772428884027\n        ],\n        \"num_unique_values\": 76,\n        \"semantic_type\": \"\",\n        \"description\": \"\"\n      }\n    },\n    {\n      \"column\": \"Balanced Accuracy\",\n      \"properties\": {\n        \"dtype\": \"number\",\n        \"std\": 0.1042881805830459,\n        \"min\": 0.5,\n        \"max\": 0.9288552343660026,\n        \"samples\": [\n          0.8369803063457331,\n          0.8544857768052516,\n          0.87308293984414\n        ],\n        \"num_unique_values\": 96,\n        \"semantic_type\": \"\",\n        \"description\": \"\"\n      }\n    }\n  ]\n}"
            }
          },
          "metadata": {},
          "execution_count": 226
        }
      ]
    },
    {
      "cell_type": "code",
      "source": [
        "# Plot the ROC curve\n",
        "plt.figure(figsize=(8, 6))\n",
        "plt.plot(fpr, tpr, label='ROC curve (area = %0.2f)' % roc_auc_rf, color = 'orange')\n",
        "plt.plot([0, 1], [0, 1], color='navy', linestyle='--')\n",
        "plt.xlabel('Fallout')\n",
        "plt.ylabel('Recall')\n",
        "plt.legend(loc=\"lower right\")\n",
        "plt.show()"
      ],
      "metadata": {
        "colab": {
          "base_uri": "https://localhost:8080/",
          "height": 542
        },
        "id": "Xs2WXyk79PYs",
        "outputId": "bbdc668d-718d-4e17-b6ba-8f8c162e567d"
      },
      "execution_count": 227,
      "outputs": [
        {
          "output_type": "display_data",
          "data": {
            "text/plain": [
              "<Figure size 800x600 with 1 Axes>"
            ],
            "image/png": "[encoded data removed]"
          },
          "metadata": {}
        }
      ]
    },
    {
      "cell_type": "markdown",
      "metadata": {
        "id": "FEaXQtmHz9fY"
      },
      "source": [
        "Did this help?"
      ]
    },
    {
      "cell_type": "markdown",
      "metadata": {
        "id": "Rzs_DCywz--o"
      },
      "source": [
        "# Optional Extras\n",
        "1. Read this [documentation](https://imbalanced-learn.readthedocs.io/en/stable/generated/imblearn.pipeline.Pipeline.html#imblearn.pipeline.Pipeline) and include SMOTE in a pipeline. HINT: A key statement is \"The samplers are only applied during fit\".\n",
        "2. If we use the reweighting method we can trade-off accuacy between classes (recall and specificity in the binary case) by varying our weights as an alternative to varying the probability thresholds. Doing this systematically we can generate a plot similar to the ROC plots. Do this and compare your results. Did you get better results than looking at the probability thresholds (just for the reweighting case)?\n",
        "3. Follow up you best case with an analytis of the probability thresholds. How does your results compare to all other results?\n",
        "4. Read more on how SMOTE actually works [here](http://rikunert.com/SMOTE_explained)\n"
      ]
    }
  ]
}