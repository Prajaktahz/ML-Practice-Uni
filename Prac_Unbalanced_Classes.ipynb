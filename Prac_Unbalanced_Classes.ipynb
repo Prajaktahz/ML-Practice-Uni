{
  "nbformat": 4,
  "nbformat_minor": 0,
  "metadata": {
    "colab": {
      "provenance": [],
      "include_colab_link": true
    },
    "kernelspec": {
      "name": "python3",
      "display_name": "Python 3"
    }
  },
  "cells": [
    {
      "cell_type": "markdown",
      "metadata": {
        "id": "view-in-github",
        "colab_type": "text"
      },
      "source": [
        "<a href=\"https://colab.research.google.com/github/Prajaktahz/ML-Practice-Uni/blob/main/Prac_Unbalanced_Classes.ipynb\" target=\"_parent\"><img src=\"https://colab.research.google.com/assets/colab-badge.svg\" alt=\"Open In Colab\"/></a>"
      ]
    },
    {
      "cell_type": "markdown",
      "metadata": {
        "id": "HUgzWuRs3Od2"
      },
      "source": [
        "![alt text](http://www.cs.nott.ac.uk/~pszgss/teaching/nlab.png)\n",
        "# ML Practical: Unbalanced classes\n",
        "\n",
        "Task: We'll again be predicting wine quality and using the modified dataset located:\n",
        "`http://www.cs.nott.ac.uk/~pszgss/teaching/ML/Prac2/winequality-red.csv`\n",
        "\n",
        "Recall we aim to predict the quality of wine (1-10) from a set of measured factors (based on physicochemical tests from samples from a glass) which include:\n",
        "```\n",
        "fixed acidity\n",
        "volatile acidity\n",
        "citric acid\n",
        "residual sugar\n",
        "chlorides\n",
        "free sulfur dioxide\n",
        "total sulfur dioxide\n",
        "density\n",
        "pH\n",
        "sulphates\n",
        "alcohol\n",
        "```\n",
        "The dataset still contains the same missing values. You will need to deal with these in a simlar way to last practical. **You should finish the previous practical before starting this one.** This goes for most practicals in this module.\n",
        "\n",
        "Today we'll be addressing a slightly different problem: **Predicting if a wine is of high quality**. We will define high quality as a rating of >=7. Given most wine is not high quality, this means we have an unbalanced dataset.\n",
        "\n",
        "The practical will take you, step-by-step through dealing with an unbalanced set in three ways:\n",
        "1. Varying the probability threshold\n",
        "2. Using weights in the classifier\n",
        "3. Resampling using SMOTE\n",
        "\n",
        "Ok. Let's start....\n"
      ]
    },
    {
      "cell_type": "markdown",
      "metadata": {
        "id": "QI3btGAY6JyZ"
      },
      "source": [
        "## Step 1\n",
        "Let's load the data as a pandas dataframe\n",
        "\n",
        "As always let's call either .head() or .describe() or both to check our load worked like we expected."
      ]
    },
    {
      "cell_type": "code",
      "metadata": {
        "id": "Rrs80LCuaBNa"
      },
      "source": [
        "import pandas as pd\n",
        "df = pd.read_csv('http://www.cs.nott.ac.uk/~pszgss/teaching/ML/Prac2/winequality-red.csv')"
      ],
      "execution_count": 1,
      "outputs": []
    },
    {
      "cell_type": "code",
      "source": [
        "df.isnull().sum()"
      ],
      "metadata": {
        "colab": {
          "base_uri": "https://localhost:8080/"
        },
        "id": "oxr6sasV8xko",
        "outputId": "54068ef6-7491-4012-efd4-abf20a2d6bac"
      },
      "execution_count": 2,
      "outputs": [
        {
          "output_type": "execute_result",
          "data": {
            "text/plain": [
              "fixed acidity            0\n",
              "volatile acidity         0\n",
              "citric acid              0\n",
              "residual sugar          14\n",
              "chlorides                0\n",
              "free sulfur dioxide      0\n",
              "total sulfur dioxide     0\n",
              "density                  0\n",
              "pH                       0\n",
              "sulphates                0\n",
              "alcohol                  0\n",
              "quality                  0\n",
              "dtype: int64"
            ]
          },
          "metadata": {},
          "execution_count": 2
        }
      ]
    },
    {
      "cell_type": "code",
      "source": [
        "df.quality.nunique()"
      ],
      "metadata": {
        "colab": {
          "base_uri": "https://localhost:8080/"
        },
        "id": "lFGV1BTk80_E",
        "outputId": "a98715b3-88ef-4051-e970-67f3179d15e9"
      },
      "execution_count": 3,
      "outputs": [
        {
          "output_type": "execute_result",
          "data": {
            "text/plain": [
              "6"
            ]
          },
          "metadata": {},
          "execution_count": 3
        }
      ]
    },
    {
      "cell_type": "markdown",
      "metadata": {
        "id": "h8RxWn3Z6l2m"
      },
      "source": [
        "## Step 2\n",
        "We're going to do a standard prediction task so we need to split our data into input features and the output feature. **Let's call them X and y as is convention.**\n",
        "\n",
        "At this point we need to convert y, our output feature, into a binary output feature replace quality ratings >=7 with **True** and everything else with **False**."
      ]
    },
    {
      "cell_type": "code",
      "source": [
        "df.shape"
      ],
      "metadata": {
        "colab": {
          "base_uri": "https://localhost:8080/"
        },
        "id": "f2faHGXi8u28",
        "outputId": "ee3e0c6f-a194-454e-b380-1b0bb214df39"
      },
      "execution_count": 4,
      "outputs": [
        {
          "output_type": "execute_result",
          "data": {
            "text/plain": [
              "(1599, 12)"
            ]
          },
          "metadata": {},
          "execution_count": 4
        }
      ]
    },
    {
      "cell_type": "code",
      "metadata": {
        "id": "oyxpEnYL6Tvb"
      },
      "source": [
        "X = df.drop(columns = ['quality'])\n",
        "y = df.quality >= 7"
      ],
      "execution_count": 5,
      "outputs": []
    },
    {
      "cell_type": "code",
      "source": [
        "y.nunique()"
      ],
      "metadata": {
        "colab": {
          "base_uri": "https://localhost:8080/"
        },
        "id": "RZgUMH7C85ML",
        "outputId": "db221d0e-8567-46e2-db80-59819c81fe5c"
      },
      "execution_count": 6,
      "outputs": [
        {
          "output_type": "execute_result",
          "data": {
            "text/plain": [
              "2"
            ]
          },
          "metadata": {},
          "execution_count": 6
        }
      ]
    },
    {
      "cell_type": "markdown",
      "metadata": {
        "id": "i1DS88Hn7inj"
      },
      "source": [
        "## Step 3\n",
        "Now since we know we are going to do a classification task we should think about evaluation.\n",
        "\n",
        "Since we've not got to the advanced evaluation lectures and to focus on the content of this practical (unbalanced classes) we are going to do the simpliest possible form of evaluation, a single test train split. **Remember: in the real world (and any coureworks) this is not acceptable.** But for now, that's what we're going to do.\n",
        "\n",
        "So go ahead. Make a single test train split.\n",
        "\n",
        "**NOTE 1:** Since we have an unbalanced target class we need to be careful that we don't accidentally randomly sample such that we have no high quality wine in our test set. That would make our task way to easy! Therefore we are going to tell the `train_test_split(..)` function to sample in a stratified way based on the class labels.\n",
        "\n",
        "**NOTE 2:** So you can follow along with the solution later I'd recommend a `test_size of 0.33` and a `random_state of 42`. I'd also use the standard names for the output, i.e. `X_train, X_test, y_train, y_test`."
      ]
    },
    {
      "cell_type": "code",
      "metadata": {
        "id": "KVBYm11refsB"
      },
      "source": [
        "from sklearn.model_selection import train_test_split\n",
        "X_train, X_test, y_train, y_test = train_test_split( X, y, test_size=0.33, random_state=42, stratify = y)"
      ],
      "execution_count": 7,
      "outputs": []
    },
    {
      "cell_type": "markdown",
      "metadata": {
        "id": "bWAAUtHJ9CLC"
      },
      "source": [
        "## Step 4\n",
        "Ok, so now to use your skills from last week. Fit a RandomForestClassifer.\n",
        "\n",
        "So we are consistent (and to prevent some other issues associated with the fact we won't evaluate things 100% correctly in this practical for simplicity)\n",
        "\n",
        "**MAKE SURE YOU USE THE FOLLOWING PARAMETERS FOR YOUR RandomForestClassifier**:\n",
        "\n",
        "`RandomForestClassifier(max_depth = 10, random_state=42)`\n",
        "\n",
        "Use the parameters throughout this practical.\n",
        "\n",
        "**HINT 1:** I'd suggest using a pipeline.\n",
        "\n",
        "**HINT 2:** Remember what a RandomForestClassifier can handle and what it can't."
      ]
    },
    {
      "cell_type": "code",
      "metadata": {
        "id": "yXPvURtR61Xm"
      },
      "source": [
        "from sklearn.ensemble import RandomForestClassifier\n",
        "from sklearn.impute import KNNImputer\n",
        "from sklearn.pipeline import Pipeline"
      ],
      "execution_count": 8,
      "outputs": []
    },
    {
      "cell_type": "code",
      "metadata": {
        "id": "0VCPuTffNeQt"
      },
      "source": [
        "ki =  KNNImputer(n_neighbors = 3)\n",
        "rf = RandomForestClassifier(max_depth = 10, random_state=42)\n",
        "m = Pipeline(steps = [('imputer',ki), ('predictor',rf)])"
      ],
      "execution_count": 9,
      "outputs": []
    },
    {
      "cell_type": "code",
      "source": [
        "m.fit(X_train, y_train)"
      ],
      "metadata": {
        "colab": {
          "base_uri": "https://localhost:8080/",
          "height": 124
        },
        "id": "6Eoaado28jYf",
        "outputId": "10205dbf-f913-404a-f859-be2de68a6cbd"
      },
      "execution_count": 10,
      "outputs": [
        {
          "output_type": "execute_result",
          "data": {
            "text/plain": [
              "Pipeline(steps=[('imputer', KNNImputer(n_neighbors=3)),\n",
              "                ('predictor',\n",
              "                 RandomForestClassifier(max_depth=10, random_state=42))])"
            ],
            "text/html": [
              "<style>#sk-container-id-1 {color: black;background-color: white;}#sk-container-id-1 pre{padding: 0;}#sk-container-id-1 div.sk-toggleable {background-color: white;}#sk-container-id-1 label.sk-toggleable__label {cursor: pointer;display: block;width: 100%;margin-bottom: 0;padding: 0.3em;box-sizing: border-box;text-align: center;}#sk-container-id-1 label.sk-toggleable__label-arrow:before {content: \"▸\";float: left;margin-right: 0.25em;color: #696969;}#sk-container-id-1 label.sk-toggleable__label-arrow:hover:before {color: black;}#sk-container-id-1 div.sk-estimator:hover label.sk-toggleable__label-arrow:before {color: black;}#sk-container-id-1 div.sk-toggleable__content {max-height: 0;max-width: 0;overflow: hidden;text-align: left;background-color: #f0f8ff;}#sk-container-id-1 div.sk-toggleable__content pre {margin: 0.2em;color: black;border-radius: 0.25em;background-color: #f0f8ff;}#sk-container-id-1 input.sk-toggleable__control:checked~div.sk-toggleable__content {max-height: 200px;max-width: 100%;overflow: auto;}#sk-container-id-1 input.sk-toggleable__control:checked~label.sk-toggleable__label-arrow:before {content: \"▾\";}#sk-container-id-1 div.sk-estimator input.sk-toggleable__control:checked~label.sk-toggleable__label {background-color: #d4ebff;}#sk-container-id-1 div.sk-label input.sk-toggleable__control:checked~label.sk-toggleable__label {background-color: #d4ebff;}#sk-container-id-1 input.sk-hidden--visually {border: 0;clip: rect(1px 1px 1px 1px);clip: rect(1px, 1px, 1px, 1px);height: 1px;margin: -1px;overflow: hidden;padding: 0;position: absolute;width: 1px;}#sk-container-id-1 div.sk-estimator {font-family: monospace;background-color: #f0f8ff;border: 1px dotted black;border-radius: 0.25em;box-sizing: border-box;margin-bottom: 0.5em;}#sk-container-id-1 div.sk-estimator:hover {background-color: #d4ebff;}#sk-container-id-1 div.sk-parallel-item::after {content: \"\";width: 100%;border-bottom: 1px solid gray;flex-grow: 1;}#sk-container-id-1 div.sk-label:hover label.sk-toggleable__label {background-color: #d4ebff;}#sk-container-id-1 div.sk-serial::before {content: \"\";position: absolute;border-left: 1px solid gray;box-sizing: border-box;top: 0;bottom: 0;left: 50%;z-index: 0;}#sk-container-id-1 div.sk-serial {display: flex;flex-direction: column;align-items: center;background-color: white;padding-right: 0.2em;padding-left: 0.2em;position: relative;}#sk-container-id-1 div.sk-item {position: relative;z-index: 1;}#sk-container-id-1 div.sk-parallel {display: flex;align-items: stretch;justify-content: center;background-color: white;position: relative;}#sk-container-id-1 div.sk-item::before, #sk-container-id-1 div.sk-parallel-item::before {content: \"\";position: absolute;border-left: 1px solid gray;box-sizing: border-box;top: 0;bottom: 0;left: 50%;z-index: -1;}#sk-container-id-1 div.sk-parallel-item {display: flex;flex-direction: column;z-index: 1;position: relative;background-color: white;}#sk-container-id-1 div.sk-parallel-item:first-child::after {align-self: flex-end;width: 50%;}#sk-container-id-1 div.sk-parallel-item:last-child::after {align-self: flex-start;width: 50%;}#sk-container-id-1 div.sk-parallel-item:only-child::after {width: 0;}#sk-container-id-1 div.sk-dashed-wrapped {border: 1px dashed gray;margin: 0 0.4em 0.5em 0.4em;box-sizing: border-box;padding-bottom: 0.4em;background-color: white;}#sk-container-id-1 div.sk-label label {font-family: monospace;font-weight: bold;display: inline-block;line-height: 1.2em;}#sk-container-id-1 div.sk-label-container {text-align: center;}#sk-container-id-1 div.sk-container {/* jupyter's `normalize.less` sets `[hidden] { display: none; }` but bootstrap.min.css set `[hidden] { display: none !important; }` so we also need the `!important` here to be able to override the default hidden behavior on the sphinx rendered scikit-learn.org. See: https://github.com/scikit-learn/scikit-learn/issues/21755 */display: inline-block !important;position: relative;}#sk-container-id-1 div.sk-text-repr-fallback {display: none;}</style><div id=\"sk-container-id-1\" class=\"sk-top-container\"><div class=\"sk-text-repr-fallback\"><pre>Pipeline(steps=[(&#x27;imputer&#x27;, KNNImputer(n_neighbors=3)),\n",
              "                (&#x27;predictor&#x27;,\n",
              "                 RandomForestClassifier(max_depth=10, random_state=42))])</pre><b>In a Jupyter environment, please rerun this cell to show the HTML representation or trust the notebook. <br />On GitHub, the HTML representation is unable to render, please try loading this page with nbviewer.org.</b></div><div class=\"sk-container\" hidden><div class=\"sk-item sk-dashed-wrapped\"><div class=\"sk-label-container\"><div class=\"sk-label sk-toggleable\"><input class=\"sk-toggleable__control sk-hidden--visually\" id=\"sk-estimator-id-1\" type=\"checkbox\" ><label for=\"sk-estimator-id-1\" class=\"sk-toggleable__label sk-toggleable__label-arrow\">Pipeline</label><div class=\"sk-toggleable__content\"><pre>Pipeline(steps=[(&#x27;imputer&#x27;, KNNImputer(n_neighbors=3)),\n",
              "                (&#x27;predictor&#x27;,\n",
              "                 RandomForestClassifier(max_depth=10, random_state=42))])</pre></div></div></div><div class=\"sk-serial\"><div class=\"sk-item\"><div class=\"sk-estimator sk-toggleable\"><input class=\"sk-toggleable__control sk-hidden--visually\" id=\"sk-estimator-id-2\" type=\"checkbox\" ><label for=\"sk-estimator-id-2\" class=\"sk-toggleable__label sk-toggleable__label-arrow\">KNNImputer</label><div class=\"sk-toggleable__content\"><pre>KNNImputer(n_neighbors=3)</pre></div></div></div><div class=\"sk-item\"><div class=\"sk-estimator sk-toggleable\"><input class=\"sk-toggleable__control sk-hidden--visually\" id=\"sk-estimator-id-3\" type=\"checkbox\" ><label for=\"sk-estimator-id-3\" class=\"sk-toggleable__label sk-toggleable__label-arrow\">RandomForestClassifier</label><div class=\"sk-toggleable__content\"><pre>RandomForestClassifier(max_depth=10, random_state=42)</pre></div></div></div></div></div></div></div>"
            ]
          },
          "metadata": {},
          "execution_count": 10
        }
      ]
    },
    {
      "cell_type": "markdown",
      "metadata": {
        "id": "1sIcwANA9tcA"
      },
      "source": [
        "## Step 5\n",
        "Let's make some predictions! And test them of course. Of interest might be:\n",
        "1. The accuacy\n",
        "2. The recall (accuracy on class \"high quality wine\")\n",
        "3. The specificity (accuracy on the class \"other quality wine\")\n",
        "4. The balanced accuarcy.\n",
        "\n",
        "So let's compute them all..."
      ]
    },
    {
      "cell_type": "code",
      "metadata": {
        "id": "sQiP0zw28x9k",
        "colab": {
          "base_uri": "https://localhost:8080/"
        },
        "outputId": "7f088fdb-1408-454b-a55e-bb4301b7c432"
      },
      "source": [
        "from sklearn.metrics import balanced_accuracy_score, accuracy_score, recall_score\n",
        "\n",
        "balanced =  balanced_accuracy_score(y_test, m.predict(X_test))\n",
        "acc =  accuracy_score(y_test, m.predict(X_test))\n",
        "recal = recall_score(y_test, m.predict(X_test))\n",
        "specificity = recall_score(y_test, m.predict(X_test), pos_label=0)\n",
        "\n",
        "print(f'balanced: {balanced:.4f}, acc: {acc:.4f}, recall: {recal:.4f}, spec: {specificity:.4f}')"
      ],
      "execution_count": 11,
      "outputs": [
        {
          "output_type": "stream",
          "name": "stdout",
          "text": [
            "balanced: 0.6608, acc: 0.8788, recall: 0.3611, spec: 0.9605\n"
          ]
        }
      ]
    },
    {
      "cell_type": "markdown",
      "metadata": {
        "id": "TnTBNjRC_Qxo"
      },
      "source": [
        "Is this good enough? I don't think ~35% accuacy in predicting high quality wine is enough. So I'm going to say no. And since this is a practical you have to say no too and keep going at this point... No deciding \"yes\" just to go home early...."
      ]
    },
    {
      "cell_type": "markdown",
      "metadata": {
        "id": "EnKKDJn5_3Ab"
      },
      "source": [
        "## Step 6: Dealing with unbalanced classes via probability thresholds\n",
        "OK, finally we get to do some new stuff. Let's try and deal with this unbalanced class issue.\n",
        "\n",
        "The first approach we are going to take is to look at the ROC curve and see if by changing the probability threshold we can get an acceptable trade-off between accuracies of each class.\n",
        "\n",
        "To do this we are going to use a function from `sklearn.metrics` called `roc_curve(...)`. Google and find the documentation.\n",
        "\n",
        "This function takes as parameters:\n",
        "1. A set of prediction ground-truths (y_test)\n",
        "2. A set of predictions **as probabilities**. We get these in a two step process. STEP 1: by calling the function `.predict_proba(X_test)` rather than `.predict(X_test)` on our classifier. This returns a matrix with two columns. Column 0 contains the probabiliy that the outcome is 0 (False) and column 1 containst the probabiliy that the outcome is 1 (True). The prediction probabilities that `roc_curve(...)` needs is the **second column ONLY**, the predicted probability that the data point is 1 (True).\n",
        "\n",
        "It then computes the `recall` and `fallout (1-specificity)` scores assuming that the classifier uses differnt probability thresholds. I.e. in the first instance it will only predict 1 (True) if it is 110% sure (or some similar value such that it never predicts True) and using this definition will compute `recall` and `fallout`, with a recall of 0% and a fallout of 0%. This is then systematically relaxed (it'll predict true if it is 90% sure, then 80%, then 70%, ...., then 0%). In the final case `recall` is 100% and `fallout` is 100%.\n",
        "\n",
        "**The result (output) of this function is three lists:**\n",
        "`fallout, recall, thresholds` (in that order).\n",
        "\n",
        "The first element in fallout is the fallout for the threshold recorded in the first element in the thresholds list. The first element in recall is the corresponding recall score. All elements in the lists are linked in this way.\n",
        "\n",
        "**Your task:**\n",
        "1. Predict the class probabilities for the test set\n",
        "2. Extract the probabilities for the True class\n",
        "3. Using the function `roc_curve(..)` compute these three lists.\n",
        "4. Print a table with the thresholds as the first row, recall as the second, fallout (or if you find it easier to interpret specificity) as the third and balanced accuracy as the fourth. The simpliest way to do this is to create a pandas DataFrame and print this. By default, if there are many columns, pandas won't print them all. We do want it to though and we can force it to by setting this options first: `pd.options.display.max_columns = None`\n",
        "5. Plot an ROC curve with this data. I.e. a plot of recall (y-axis) vs. fallout (x-axis) using matplotlib.\n",
        "\n"
      ]
    },
    {
      "cell_type": "code",
      "metadata": {
        "id": "t3NFirrPbrCx"
      },
      "source": [
        "from sklearn.metrics import roc_curve, auc\n",
        "import matplotlib.pyplot as plt"
      ],
      "execution_count": 12,
      "outputs": []
    },
    {
      "cell_type": "code",
      "source": [
        "# Predict the class probabilities for the test set\n",
        "y_pred_proba = m.predict_proba(X_test)\n",
        "y_pred_proba"
      ],
      "metadata": {
        "colab": {
          "base_uri": "https://localhost:8080/"
        },
        "id": "j6nzmaKe-QOV",
        "outputId": "bc48a62d-4cb3-4ce0-b874-944931a8d119"
      },
      "execution_count": 13,
      "outputs": [
        {
          "output_type": "execute_result",
          "data": {
            "text/plain": [
              "array([[0.99397712, 0.00602288],\n",
              "       [0.8282252 , 0.1717748 ],\n",
              "       [0.632     , 0.368     ],\n",
              "       ...,\n",
              "       [0.79169596, 0.20830404],\n",
              "       [0.83859197, 0.16140803],\n",
              "       [0.89117862, 0.10882138]])"
            ]
          },
          "metadata": {},
          "execution_count": 13
        }
      ]
    },
    {
      "cell_type": "code",
      "metadata": {
        "id": "r7Dfacoxdmlr"
      },
      "source": [
        "# Extract the probabilities for the True class\n",
        "y_prob_rf_true = y_pred_proba[:, 1]\n",
        "\n",
        "# Compute the ROC curve\n",
        "fpr, tpr, thresholds = roc_curve(y_test, y_prob_rf_true)\n",
        "\n",
        "# Compute the AUC score\n",
        "roc_auc_rf = auc(fpr, tpr)"
      ],
      "execution_count": 14,
      "outputs": []
    },
    {
      "cell_type": "code",
      "source": [
        "# Create a pandas DataFrame with the ROC curve data\n",
        "roc_curve_data = pd.DataFrame({'Thresholds': thresholds, 'Recall': tpr, 'Fallout': 1 - fpr, 'Balanced Accuracy': (tpr + (1 - fpr)) / 2})\n",
        "\n",
        "# Print the ROC curve data table\n",
        "print(roc_curve_data)"
      ],
      "metadata": {
        "colab": {
          "base_uri": "https://localhost:8080/"
        },
        "id": "PjrWYJvB-9il",
        "outputId": "c46a47f0-c0e2-4de6-b662-ac45b2a697f8"
      },
      "execution_count": 15,
      "outputs": [
        {
          "output_type": "stream",
          "name": "stdout",
          "text": [
            "     Thresholds    Recall   Fallout  Balanced Accuracy\n",
            "0      1.963511  0.000000  1.000000           0.500000\n",
            "1      0.963511  0.013889  1.000000           0.506944\n",
            "2      0.692949  0.208333  1.000000           0.604167\n",
            "3      0.688461  0.208333  0.997807           0.603070\n",
            "4      0.685707  0.222222  0.997807           0.610015\n",
            "..          ...       ...       ...                ...\n",
            "124    0.000227  1.000000  0.076754           0.538377\n",
            "125    0.000116  1.000000  0.067982           0.533991\n",
            "126    0.000070  1.000000  0.054825           0.527412\n",
            "127    0.000047  1.000000  0.052632           0.526316\n",
            "128    0.000023  1.000000  0.000000           0.500000\n",
            "\n",
            "[129 rows x 4 columns]\n"
          ]
        }
      ]
    },
    {
      "cell_type": "code",
      "source": [
        "# Plot the ROC curve\n",
        "plt.figure(figsize=(8, 6))\n",
        "plt.plot(fpr, tpr, label='ROC curve (area = %0.2f)' % roc_auc_rf, color = 'orange')\n",
        "plt.plot([0, 1], [0, 1], color='navy', linestyle='--')\n",
        "plt.xlabel('Fallout')\n",
        "plt.ylabel('Recall')\n",
        "plt.legend(loc=\"lower right\")\n",
        "plt.show()"
      ],
      "metadata": {
        "colab": {
          "base_uri": "https://localhost:8080/",
          "height": 542
        },
        "id": "FKQgueeY_d99",
        "outputId": "a204bee2-110c-4d76-8e10-bd0aaee21e63"
      },
      "execution_count": 17,
      "outputs": [
        {
          "output_type": "display_data",
          "data": {
            "text/plain": [
              "<Figure size 800x600 with 1 Axes>"
            ],
            "image/png": "[encoded data removed]"
          },
          "metadata": {}
        }
      ]
    },
    {
      "cell_type": "code",
      "metadata": {
        "id": "dzzGtpCDc4JB",
        "colab": {
          "base_uri": "https://localhost:8080/"
        },
        "outputId": "aec42b75-ed68-4ef2-9ca9-ccd9aeeb2b6c"
      },
      "source": [
        "thresholds"
      ],
      "execution_count": 18,
      "outputs": [
        {
          "output_type": "execute_result",
          "data": {
            "text/plain": [
              "array([1.96351053e+00, 9.63510533e-01, 6.92948902e-01, 6.88461026e-01,\n",
              "       6.85707121e-01, 6.22199724e-01, 6.10105321e-01, 6.06956846e-01,\n",
              "       5.90270270e-01, 5.89596577e-01, 5.56728527e-01, 5.44975867e-01,\n",
              "       5.40270270e-01, 5.39763719e-01, 5.34008135e-01, 5.30000000e-01,\n",
              "       5.25901180e-01, 5.20270270e-01, 5.15805042e-01, 5.05813840e-01,\n",
              "       4.87500675e-01, 4.85709707e-01, 4.80000000e-01, 4.77000000e-01,\n",
              "       4.66463184e-01, 4.55815315e-01, 4.53642534e-01, 4.51172541e-01,\n",
              "       4.33531319e-01, 4.33171866e-01, 4.23777778e-01, 4.01403727e-01,\n",
              "       3.90065318e-01, 3.76302198e-01, 3.68078150e-01, 3.68000000e-01,\n",
              "       3.62500000e-01, 3.61929784e-01, 3.55519811e-01, 3.54523810e-01,\n",
              "       3.20806112e-01, 3.11425596e-01, 3.05880952e-01, 2.94142328e-01,\n",
              "       2.90444444e-01, 2.89148291e-01, 2.86488430e-01, 2.82857143e-01,\n",
              "       2.82737342e-01, 2.64009346e-01, 2.62743164e-01, 2.26634921e-01,\n",
              "       2.24809524e-01, 2.10444444e-01, 2.08032946e-01, 2.06447240e-01,\n",
              "       2.01494186e-01, 1.74315887e-01, 1.71832637e-01, 1.61564510e-01,\n",
              "       1.59669389e-01, 1.58556205e-01, 1.48808099e-01, 1.48688724e-01,\n",
              "       1.41211264e-01, 1.38146132e-01, 1.34203092e-01, 1.33603604e-01,\n",
              "       1.33325027e-01, 1.32651677e-01, 1.27151506e-01, 1.26384586e-01,\n",
              "       1.24000817e-01, 1.20689312e-01, 1.13048048e-01, 1.13016691e-01,\n",
              "       1.01964665e-01, 1.01751152e-01, 1.01666667e-01, 1.01443432e-01,\n",
              "       9.78505159e-02, 9.73813814e-02, 5.24877409e-02, 5.22648607e-02,\n",
              "       5.00899632e-02, 5.00000000e-02, 4.08942428e-02, 4.08123570e-02,\n",
              "       3.25526452e-02, 3.25213134e-02, 3.00724194e-02, 3.00000000e-02,\n",
              "       2.31269070e-02, 2.30626672e-02, 2.11917145e-02, 2.04545455e-02,\n",
              "       2.02408850e-02, 2.00000000e-02, 1.55938696e-02, 1.53369748e-02,\n",
              "       1.35046315e-02, 1.29502986e-02, 1.12140757e-02, 1.10727395e-02,\n",
              "       1.02745489e-02, 1.01162791e-02, 1.00888889e-02, 1.00228833e-02,\n",
              "       1.00000000e-02, 7.41065136e-03, 6.23314744e-03, 6.02288330e-03,\n",
              "       4.25602937e-03, 4.16309822e-03, 1.53266581e-03, 1.53095055e-03,\n",
              "       1.42988234e-03, 1.15858053e-03, 9.88834646e-04, 9.42061660e-04,\n",
              "       3.71636310e-04, 3.58453765e-04, 3.12702612e-04, 2.32558140e-04,\n",
              "       2.27379120e-04, 1.16279070e-04, 7.00531065e-05, 4.71698113e-05,\n",
              "       2.28832952e-05])"
            ]
          },
          "metadata": {},
          "execution_count": 18
        }
      ]
    },
    {
      "cell_type": "markdown",
      "metadata": {
        "id": "IAE4HYCfGXuF"
      },
      "source": [
        "**Sanity check to make sure it's all worked:** Check if, when a 50% threshold was used within the `roc_curve(..)` function you got the same `recall` and `fallout` scores are you previously computed."
      ]
    },
    {
      "cell_type": "code",
      "source": [
        "df1 = roc_curve_data[roc_curve_data.Thresholds == 0.5]\n",
        "df1.head()"
      ],
      "metadata": {
        "colab": {
          "base_uri": "https://localhost:8080/",
          "height": 53
        },
        "id": "XjCYV9EFAZgt",
        "outputId": "32aa0159-ba4d-4083-b509-f3ac3648b8be"
      },
      "execution_count": 19,
      "outputs": [
        {
          "output_type": "execute_result",
          "data": {
            "text/plain": [
              "Empty DataFrame\n",
              "Columns: [Thresholds, Recall, Fallout, Balanced Accuracy]\n",
              "Index: []"
            ],
            "text/html": [
              "\n",
              "  <div id=\"df-1535be26-345f-46a1-a17f-71a425eb8416\" class=\"colab-df-container\">\n",
              "    <div>\n",
              "<style scoped>\n",
              "    .dataframe tbody tr th:only-of-type {\n",
              "        vertical-align: middle;\n",
              "    }\n",
              "\n",
              "    .dataframe tbody tr th {\n",
              "        vertical-align: top;\n",
              "    }\n",
              "\n",
              "    .dataframe thead th {\n",
              "        text-align: right;\n",
              "    }\n",
              "</style>\n",
              "<table border=\"1\" class=\"dataframe\">\n",
              "  <thead>\n",
              "    <tr style=\"text-align: right;\">\n",
              "      <th></th>\n",
              "      <th>Thresholds</th>\n",
              "      <th>Recall</th>\n",
              "      <th>Fallout</th>\n",
              "      <th>Balanced Accuracy</th>\n",
              "    </tr>\n",
              "  </thead>\n",
              "  <tbody>\n",
              "  </tbody>\n",
              "</table>\n",
              "</div>\n",
              "    <div class=\"colab-df-buttons\">\n",
              "\n",
              "  <div class=\"colab-df-container\">\n",
              "    <button class=\"colab-df-convert\" onclick=\"convertToInteractive('df-1535be26-345f-46a1-a17f-71a425eb8416')\"\n",
              "            title=\"Convert this dataframe to an interactive table.\"\n",
              "            style=\"display:none;\">\n",
              "\n",
              "  <svg xmlns=\"http://www.w3.org/2000/svg\" height=\"24px\" viewBox=\"0 -960 960 960\">\n",
              "    <path d=\"M120-120v-720h720v720H120Zm60-500h600v-160H180v160Zm220 220h160v-160H400v160Zm0 220h160v-160H400v160ZM180-400h160v-160H180v160Zm440 0h160v-160H620v160ZM180-180h160v-160H180v160Zm440 0h160v-160H620v160Z\"/>\n",
              "  </svg>\n",
              "    </button>\n",
              "\n",
              "  <style>\n",
              "    .colab-df-container {\n",
              "      display:flex;\n",
              "      gap: 12px;\n",
              "    }\n",
              "\n",
              "    .colab-df-convert {\n",
              "      background-color: #E8F0FE;\n",
              "      border: none;\n",
              "      border-radius: 50%;\n",
              "      cursor: pointer;\n",
              "      display: none;\n",
              "      fill: #1967D2;\n",
              "      height: 32px;\n",
              "      padding: 0 0 0 0;\n",
              "      width: 32px;\n",
              "    }\n",
              "\n",
              "    .colab-df-convert:hover {\n",
              "      background-color: #E2EBFA;\n",
              "      box-shadow: 0px 1px 2px rgba(60, 64, 67, 0.3), 0px 1px 3px 1px rgba(60, 64, 67, 0.15);\n",
              "      fill: #174EA6;\n",
              "    }\n",
              "\n",
              "    .colab-df-buttons div {\n",
              "      margin-bottom: 4px;\n",
              "    }\n",
              "\n",
              "    [theme=dark] .colab-df-convert {\n",
              "      background-color: #3B4455;\n",
              "      fill: #D2E3FC;\n",
              "    }\n",
              "\n",
              "    [theme=dark] .colab-df-convert:hover {\n",
              "      background-color: #434B5C;\n",
              "      box-shadow: 0px 1px 3px 1px rgba(0, 0, 0, 0.15);\n",
              "      filter: drop-shadow(0px 1px 2px rgba(0, 0, 0, 0.3));\n",
              "      fill: #FFFFFF;\n",
              "    }\n",
              "  </style>\n",
              "\n",
              "    <script>\n",
              "      const buttonEl =\n",
              "        document.querySelector('#df-1535be26-345f-46a1-a17f-71a425eb8416 button.colab-df-convert');\n",
              "      buttonEl.style.display =\n",
              "        google.colab.kernel.accessAllowed ? 'block' : 'none';\n",
              "\n",
              "      async function convertToInteractive(key) {\n",
              "        const element = document.querySelector('#df-1535be26-345f-46a1-a17f-71a425eb8416');\n",
              "        const dataTable =\n",
              "          await google.colab.kernel.invokeFunction('convertToInteractive',\n",
              "                                                    [key], {});\n",
              "        if (!dataTable) return;\n",
              "\n",
              "        const docLinkHtml = 'Like what you see? Visit the ' +\n",
              "          '<a target=\"_blank\" href=https://colab.research.google.com/notebooks/data_table.ipynb>data table notebook</a>'\n",
              "          + ' to learn more about interactive tables.';\n",
              "        element.innerHTML = '';\n",
              "        dataTable['output_type'] = 'display_data';\n",
              "        await google.colab.output.renderOutput(dataTable, element);\n",
              "        const docLink = document.createElement('div');\n",
              "        docLink.innerHTML = docLinkHtml;\n",
              "        element.appendChild(docLink);\n",
              "      }\n",
              "    </script>\n",
              "  </div>\n",
              "\n",
              "    </div>\n",
              "  </div>\n"
            ],
            "application/vnd.google.colaboratory.intrinsic+json": {
              "type": "dataframe",
              "variable_name": "df1",
              "summary": "{\n  \"name\": \"df1\",\n  \"rows\": 0,\n  \"fields\": [\n    {\n      \"column\": \"Thresholds\",\n      \"properties\": {\n        \"dtype\": \"number\",\n        \"std\": NaN,\n        \"min\": NaN,\n        \"max\": NaN,\n        \"samples\": [],\n        \"num_unique_values\": 0,\n        \"semantic_type\": \"\",\n        \"description\": \"\"\n      }\n    },\n    {\n      \"column\": \"Recall\",\n      \"properties\": {\n        \"dtype\": \"number\",\n        \"std\": NaN,\n        \"min\": NaN,\n        \"max\": NaN,\n        \"samples\": [],\n        \"num_unique_values\": 0,\n        \"semantic_type\": \"\",\n        \"description\": \"\"\n      }\n    },\n    {\n      \"column\": \"Fallout\",\n      \"properties\": {\n        \"dtype\": \"number\",\n        \"std\": NaN,\n        \"min\": NaN,\n        \"max\": NaN,\n        \"samples\": [],\n        \"num_unique_values\": 0,\n        \"semantic_type\": \"\",\n        \"description\": \"\"\n      }\n    },\n    {\n      \"column\": \"Balanced Accuracy\",\n      \"properties\": {\n        \"dtype\": \"number\",\n        \"std\": NaN,\n        \"min\": NaN,\n        \"max\": NaN,\n        \"samples\": [],\n        \"num_unique_values\": 0,\n        \"semantic_type\": \"\",\n        \"description\": \"\"\n      }\n    }\n  ]\n}"
            }
          },
          "metadata": {},
          "execution_count": 19
        }
      ]
    },
    {
      "cell_type": "code",
      "metadata": {
        "id": "Wm0IOWp8gCOa",
        "colab": {
          "base_uri": "https://localhost:8080/"
        },
        "outputId": "8343ef26-d3fc-489d-ac80-d38edab06f85"
      },
      "source": [
        "import numpy as np\n",
        "# Find the index of the 0.5 threshold\n",
        "threshold_index = np.where(thresholds == 0.5)[0]\n",
        "\n",
        "# Calculate recall and fallout at the 0.5 threshold\n",
        "recall_at_05 = tpr[threshold_index]\n",
        "fallout_at_05 = 1 - fpr[threshold_index]\n",
        "\n",
        "# Print the results\n",
        "print(\"Sanity check at 0.5 threshold:\")\n",
        "print(recall_at_05)\n",
        "print(fallout_at_05)"
      ],
      "execution_count": 20,
      "outputs": [
        {
          "output_type": "stream",
          "name": "stdout",
          "text": [
            "Sanity check at 0.5 threshold:\n",
            "[]\n",
            "[]\n"
          ]
        }
      ]
    },
    {
      "cell_type": "markdown",
      "metadata": {
        "id": "nkz6Wk5On_6_"
      },
      "source": [
        "**Consider your graph and table.** Which theshold would you pick? Why? If we were to use this threshold would the classifier be more suitable for our task than before (i.e. when we were simply using a 50% threshold)?\n",
        "\n",
        "**A final note before moving on**: we risk overfitting here as we are changing our model with knowledge of the test set (the large gain in results should make us wary). This is known as procedural overfitting and we'll be talking about this and how to avoid it next week while still being able to change these parameters. In effect we can see this parameter as a meta paramter of the model like the depth of the tree (which we could also vary systematically to find the best one - again possibly overfitting)."
      ]
    },
    {
      "cell_type": "markdown",
      "metadata": {
        "id": "yT2xauMAoLQH"
      },
      "source": [
        "## Step 7a: Dealing with unbalanced class by reweighting samples when learning a classifier\n",
        "\n",
        "OK. So that was one approach to creating a classifier that performs better on unbalanced data. The second approach we're going to try is instance re-weighting. This is perhaps one of the simpliest to implement **as we just pass a list of weights, one corresponding to each of the training points to the fit function**. Most sklearn models have this as an optional parameter.\n",
        "\n",
        "Today we're using a RandomForestClassifier, so take a look at the documentation (google search for it) so you know what keyword it is.\n",
        "\n",
        "Before we call the `.fit(..)` method of our RandomForestClassifier passing the weights we need to create them.\n",
        "\n",
        "Recall from the lecture that we want to reweight the instances so that the two classes have the same weight (i.e. if we were to sum the weights over all instances of one class and sum the weights of all instances of the other class the sums would be equal). There are two ways of doing this:\n",
        "1. Increasing the weight on instances of the minority class\n",
        "2. Descreasing the weight on instances of the majority class\n",
        "\n",
        "Let's choose option 1. In this case all majority class instances will get a weight of 1.\n",
        "```\n",
        "Let a = the number of majority class instances in our training set\n",
        "Let b = the number of minority class instances in our training set\n",
        "\n",
        "Minority class instances then get a weight of: a/b\n",
        "\n",
        "Example:\n",
        "If we have as a majority class four instances: ‡ ‡ ‡ ‡\n",
        "        and a minority class of two instances: ø ø\n",
        "\n",
        "Then we need to weight the ø by two as there is twice as many ø than ‡ (4/2).\n",
        "```\n",
        "So what are the steps here?\n",
        "1. Compute the weight value\n",
        "2. Create a list which, when y_train is 1 the weight is the weight value created (why? as this \"slot\" in the list corresponds to the row in the training dataset by row order) and when the y_train weight is 0 the weight is 1.\n",
        "3. Now go ahead a train your classifier using weights.\n",
        "\n",
        "**HINT:**: I'd first create a numpy array of all zeros (via `np.zeros(..)`) the same length as y_train. I'd then set all elements in the new array to be the weight which corresponds to `y_train == 1`. I'd then set the elements to 1 in the new array which correspond to `y_train == 0`."
      ]
    },
    {
      "cell_type": "code",
      "metadata": {
        "id": "1gb6F6DmoLjm"
      },
      "source": [
        "import numpy as np\n",
        "from sklearn.metrics import classification_report"
      ],
      "execution_count": 116,
      "outputs": []
    },
    {
      "cell_type": "code",
      "source": [
        "df_new = df"
      ],
      "metadata": {
        "id": "oN0cyBz03ZZy"
      },
      "execution_count": 117,
      "outputs": []
    },
    {
      "cell_type": "code",
      "source": [
        "imputed_data = imputer.fit_transform(df_new)\n",
        "\n",
        "# Convert the imputed data back to a DataFrame\n",
        "imputed_df = pd.DataFrame(imputed_data, columns=df_new.columns)"
      ],
      "metadata": {
        "id": "5suorC3q3YP4"
      },
      "execution_count": 118,
      "outputs": []
    },
    {
      "cell_type": "code",
      "source": [
        "imputed_df.isna().sum()"
      ],
      "metadata": {
        "colab": {
          "base_uri": "https://localhost:8080/"
        },
        "id": "P5-Sn02KC7vZ",
        "outputId": "ada2fe58-07c0-414a-cb1b-8273be70273a"
      },
      "execution_count": 119,
      "outputs": [
        {
          "output_type": "execute_result",
          "data": {
            "text/plain": [
              "fixed acidity           0\n",
              "volatile acidity        0\n",
              "citric acid             0\n",
              "residual sugar          0\n",
              "chlorides               0\n",
              "free sulfur dioxide     0\n",
              "total sulfur dioxide    0\n",
              "density                 0\n",
              "pH                      0\n",
              "sulphates               0\n",
              "alcohol                 0\n",
              "quality                 0\n",
              "dtype: int64"
            ]
          },
          "metadata": {},
          "execution_count": 119
        }
      ]
    },
    {
      "cell_type": "code",
      "source": [
        "X = imputed_df.drop(columns = ['quality'])\n",
        "y = imputed_df.quality >= 7"
      ],
      "metadata": {
        "id": "cFPrUzzJCxjt"
      },
      "execution_count": 120,
      "outputs": []
    },
    {
      "cell_type": "code",
      "source": [
        "X_train, X_test, y_train, y_test= train_test_split(X, y,test_size=0.2, random_state=42)\n",
        "print(len(y_train))\n",
        "print(y_train.value_counts())"
      ],
      "metadata": {
        "colab": {
          "base_uri": "https://localhost:8080/"
        },
        "id": "jK62G8QvxpoO",
        "outputId": "9bf73405-d1ca-4efe-db40-1e79b6372071"
      },
      "execution_count": 121,
      "outputs": [
        {
          "output_type": "stream",
          "name": "stdout",
          "text": [
            "1279\n",
            "False    1100\n",
            "True      179\n",
            "Name: quality, dtype: int64\n"
          ]
        }
      ]
    },
    {
      "cell_type": "code",
      "source": [
        "# Calculate instance weights\n",
        "class_counts = y_train.value_counts()\n",
        "majority_class_count = class_counts.max()\n",
        "minority_class_count = class_counts.min()\n",
        "\n",
        "print(majority_class_count)\n",
        "print(minority_class_count)\n",
        "\n",
        "# Calculate instance weight ratio: a/b\n",
        "instance_weight_ratio = majority_class_count / minority_class_count\n",
        "print(instance_weight_ratio)"
      ],
      "metadata": {
        "colab": {
          "base_uri": "https://localhost:8080/"
        },
        "id": "LhEJ5euN0E23",
        "outputId": "4f8ca011-ab57-4c72-a9ee-93e57e429f82"
      },
      "execution_count": 122,
      "outputs": [
        {
          "output_type": "stream",
          "name": "stdout",
          "text": [
            "1100\n",
            "179\n",
            "6.145251396648045\n"
          ]
        }
      ]
    },
    {
      "cell_type": "code",
      "source": [
        "# Create an array of zeros\n",
        "instance_weights = np.zeros(len(y_train))\n",
        "print(len(instance_weights))\n",
        "print(instance_weights)"
      ],
      "metadata": {
        "colab": {
          "base_uri": "https://localhost:8080/"
        },
        "id": "0N_aMWX4vNrp",
        "outputId": "effbebce-b949-4c12-95d1-a8f86e411b93"
      },
      "execution_count": 123,
      "outputs": [
        {
          "output_type": "stream",
          "name": "stdout",
          "text": [
            "1279\n",
            "[0. 0. 0. ... 0. 0. 0.]\n"
          ]
        }
      ]
    },
    {
      "cell_type": "code",
      "source": [
        "instance_weights[:majority_class_count] = 1\n",
        "instance_weights[majority_class_count:] = instance_weight_ratio"
      ],
      "metadata": {
        "id": "xXCZAinjz4j5"
      },
      "execution_count": 124,
      "outputs": []
    },
    {
      "cell_type": "code",
      "source": [
        "unique_elements, counts = np.unique(instance_weights, return_counts=True)\n",
        "\n",
        "# Print unique elements and their counts\n",
        "for element, count in zip(unique_elements, counts):\n",
        "    print(f\"Element {element}: Count {count}\")"
      ],
      "metadata": {
        "colab": {
          "base_uri": "https://localhost:8080/"
        },
        "id": "S6SZygn1wwQ3",
        "outputId": "c0f97559-c634-4934-e387-b7e87981598b"
      },
      "execution_count": 125,
      "outputs": [
        {
          "output_type": "stream",
          "name": "stdout",
          "text": [
            "Element 1.0: Count 1100\n",
            "Element 6.145251396648045: Count 179\n"
          ]
        }
      ]
    },
    {
      "cell_type": "code",
      "source": [
        "rf_classifier = RandomForestClassifier()\n",
        "rf_classifier.fit(X_train, y_train, sample_weight=instance_weights)\n",
        "\n",
        "# Evaluate the model\n",
        "y_pred = rf_classifier.predict(X_test)\n",
        "print(classification_report(y_test, y_pred))\n",
        "\n",
        "accuracy = accuracy_score(y_test, y_pred)\n",
        "print(\"Model Accuracy:\", accuracy)"
      ],
      "metadata": {
        "colab": {
          "base_uri": "https://localhost:8080/"
        },
        "id": "Un7701-RvWeH",
        "outputId": "15eedadd-9c28-4306-cf21-e393631fcb30"
      },
      "execution_count": 126,
      "outputs": [
        {
          "output_type": "stream",
          "name": "stdout",
          "text": [
            "              precision    recall  f1-score   support\n",
            "\n",
            "       False       0.94      0.98      0.95       282\n",
            "        True       0.73      0.50      0.59        38\n",
            "\n",
            "    accuracy                           0.92       320\n",
            "   macro avg       0.83      0.74      0.77       320\n",
            "weighted avg       0.91      0.92      0.91       320\n",
            "\n",
            "Model Accuracy: 0.91875\n"
          ]
        }
      ]
    },
    {
      "cell_type": "markdown",
      "metadata": {
        "id": "ZUVPkCpE-p-c"
      },
      "source": [
        "Now you've trained your classifier evaluate the accuracy, recall, specificity and balanced accuracy. How does it compare to the classifier trained without weights? Is it better? What about the old classifier after we choose a better probability threshold?"
      ]
    },
    {
      "cell_type": "code",
      "metadata": {
        "id": "IeCecDie-pZ1"
      },
      "source": [],
      "execution_count": null,
      "outputs": []
    },
    {
      "cell_type": "markdown",
      "metadata": {
        "id": "s37JCaTu_Xkj"
      },
      "source": [
        "OK, so hopefully that is a little better than the classifier before, before we (potentially overfit) by adjusting the threshold.\n",
        "\n",
        "**Question:** Is learning using weights proccedural overfitting?\n",
        "\n",
        "**Answer:** Not really. We've selected to re-weight due to the charateristics of the training set - indeed our weights are computed based on the training. In otherwords, we've got to this point without looking at our test set. If we then varied our weights, checking the performance on the test set this would be proccedural overfitting. Again - we'll talk about this more next week."
      ]
    },
    {
      "cell_type": "markdown",
      "metadata": {
        "id": "3exrjmCkNrUZ"
      },
      "source": [
        "## Step 7b\n",
        "Evaluate a range of thresholds using the `roc_curve(..)` function. As before print a table and plot a graph."
      ]
    },
    {
      "cell_type": "code",
      "metadata": {
        "id": "JNnR_VMIs9rR"
      },
      "source": [
        "# Predict the class probabilities for the test set\n",
        "y_pred_proba_rf = rf_classifier.predict_proba(X_test)"
      ],
      "execution_count": 127,
      "outputs": []
    },
    {
      "cell_type": "code",
      "metadata": {
        "id": "rpHEpGNPOhxT"
      },
      "source": [
        "# Extract the probabilities for the True class\n",
        "y_prob_rf_true = y_pred_proba_rf[:, 1]\n",
        "\n",
        "# Compute the ROC curve\n",
        "fpr, tpr, thresholds = roc_curve(y_test, y_prob_rf_true)\n",
        "\n",
        "# Compute the AUC score\n",
        "roc_auc_rf = auc(fpr, tpr)"
      ],
      "execution_count": 128,
      "outputs": []
    },
    {
      "cell_type": "code",
      "metadata": {
        "id": "5mMlEMkpOcB-",
        "colab": {
          "base_uri": "https://localhost:8080/",
          "height": 206
        },
        "outputId": "73e05f9a-c70e-48d6-f615-a25fc9a52d96"
      },
      "source": [
        "# Create a pandas DataFrame with the ROC curve data\n",
        "roc_curve_data_rf = pd.DataFrame({'Thresholds': thresholds, 'Recall': tpr, 'Fallout': 1 - fpr, 'Balanced Accuracy': (tpr + (1 - fpr)) / 2})\n",
        "\n",
        "# Print the ROC curve data table\n",
        "roc_curve_data_rf.head()"
      ],
      "execution_count": 129,
      "outputs": [
        {
          "output_type": "execute_result",
          "data": {
            "text/plain": [
              "   Thresholds    Recall   Fallout  Balanced Accuracy\n",
              "0        2.00  0.000000  1.000000           0.500000\n",
              "1        1.00  0.026316  1.000000           0.513158\n",
              "2        0.82  0.210526  1.000000           0.605263\n",
              "3        0.79  0.210526  0.996454           0.603490\n",
              "4        0.67  0.342105  0.996454           0.669280"
            ],
            "text/html": [
              "\n",
              "  <div id=\"df-13f26515-3ef0-4bf4-a368-5d5806010618\" class=\"colab-df-container\">\n",
              "    <div>\n",
              "<style scoped>\n",
              "    .dataframe tbody tr th:only-of-type {\n",
              "        vertical-align: middle;\n",
              "    }\n",
              "\n",
              "    .dataframe tbody tr th {\n",
              "        vertical-align: top;\n",
              "    }\n",
              "\n",
              "    .dataframe thead th {\n",
              "        text-align: right;\n",
              "    }\n",
              "</style>\n",
              "<table border=\"1\" class=\"dataframe\">\n",
              "  <thead>\n",
              "    <tr style=\"text-align: right;\">\n",
              "      <th></th>\n",
              "      <th>Thresholds</th>\n",
              "      <th>Recall</th>\n",
              "      <th>Fallout</th>\n",
              "      <th>Balanced Accuracy</th>\n",
              "    </tr>\n",
              "  </thead>\n",
              "  <tbody>\n",
              "    <tr>\n",
              "      <th>0</th>\n",
              "      <td>2.00</td>\n",
              "      <td>0.000000</td>\n",
              "      <td>1.000000</td>\n",
              "      <td>0.500000</td>\n",
              "    </tr>\n",
              "    <tr>\n",
              "      <th>1</th>\n",
              "      <td>1.00</td>\n",
              "      <td>0.026316</td>\n",
              "      <td>1.000000</td>\n",
              "      <td>0.513158</td>\n",
              "    </tr>\n",
              "    <tr>\n",
              "      <th>2</th>\n",
              "      <td>0.82</td>\n",
              "      <td>0.210526</td>\n",
              "      <td>1.000000</td>\n",
              "      <td>0.605263</td>\n",
              "    </tr>\n",
              "    <tr>\n",
              "      <th>3</th>\n",
              "      <td>0.79</td>\n",
              "      <td>0.210526</td>\n",
              "      <td>0.996454</td>\n",
              "      <td>0.603490</td>\n",
              "    </tr>\n",
              "    <tr>\n",
              "      <th>4</th>\n",
              "      <td>0.67</td>\n",
              "      <td>0.342105</td>\n",
              "      <td>0.996454</td>\n",
              "      <td>0.669280</td>\n",
              "    </tr>\n",
              "  </tbody>\n",
              "</table>\n",
              "</div>\n",
              "    <div class=\"colab-df-buttons\">\n",
              "\n",
              "  <div class=\"colab-df-container\">\n",
              "    <button class=\"colab-df-convert\" onclick=\"convertToInteractive('df-13f26515-3ef0-4bf4-a368-5d5806010618')\"\n",
              "            title=\"Convert this dataframe to an interactive table.\"\n",
              "            style=\"display:none;\">\n",
              "\n",
              "  <svg xmlns=\"http://www.w3.org/2000/svg\" height=\"24px\" viewBox=\"0 -960 960 960\">\n",
              "    <path d=\"M120-120v-720h720v720H120Zm60-500h600v-160H180v160Zm220 220h160v-160H400v160Zm0 220h160v-160H400v160ZM180-400h160v-160H180v160Zm440 0h160v-160H620v160ZM180-180h160v-160H180v160Zm440 0h160v-160H620v160Z\"/>\n",
              "  </svg>\n",
              "    </button>\n",
              "\n",
              "  <style>\n",
              "    .colab-df-container {\n",
              "      display:flex;\n",
              "      gap: 12px;\n",
              "    }\n",
              "\n",
              "    .colab-df-convert {\n",
              "      background-color: #E8F0FE;\n",
              "      border: none;\n",
              "      border-radius: 50%;\n",
              "      cursor: pointer;\n",
              "      display: none;\n",
              "      fill: #1967D2;\n",
              "      height: 32px;\n",
              "      padding: 0 0 0 0;\n",
              "      width: 32px;\n",
              "    }\n",
              "\n",
              "    .colab-df-convert:hover {\n",
              "      background-color: #E2EBFA;\n",
              "      box-shadow: 0px 1px 2px rgba(60, 64, 67, 0.3), 0px 1px 3px 1px rgba(60, 64, 67, 0.15);\n",
              "      fill: #174EA6;\n",
              "    }\n",
              "\n",
              "    .colab-df-buttons div {\n",
              "      margin-bottom: 4px;\n",
              "    }\n",
              "\n",
              "    [theme=dark] .colab-df-convert {\n",
              "      background-color: #3B4455;\n",
              "      fill: #D2E3FC;\n",
              "    }\n",
              "\n",
              "    [theme=dark] .colab-df-convert:hover {\n",
              "      background-color: #434B5C;\n",
              "      box-shadow: 0px 1px 3px 1px rgba(0, 0, 0, 0.15);\n",
              "      filter: drop-shadow(0px 1px 2px rgba(0, 0, 0, 0.3));\n",
              "      fill: #FFFFFF;\n",
              "    }\n",
              "  </style>\n",
              "\n",
              "    <script>\n",
              "      const buttonEl =\n",
              "        document.querySelector('#df-13f26515-3ef0-4bf4-a368-5d5806010618 button.colab-df-convert');\n",
              "      buttonEl.style.display =\n",
              "        google.colab.kernel.accessAllowed ? 'block' : 'none';\n",
              "\n",
              "      async function convertToInteractive(key) {\n",
              "        const element = document.querySelector('#df-13f26515-3ef0-4bf4-a368-5d5806010618');\n",
              "        const dataTable =\n",
              "          await google.colab.kernel.invokeFunction('convertToInteractive',\n",
              "                                                    [key], {});\n",
              "        if (!dataTable) return;\n",
              "\n",
              "        const docLinkHtml = 'Like what you see? Visit the ' +\n",
              "          '<a target=\"_blank\" href=https://colab.research.google.com/notebooks/data_table.ipynb>data table notebook</a>'\n",
              "          + ' to learn more about interactive tables.';\n",
              "        element.innerHTML = '';\n",
              "        dataTable['output_type'] = 'display_data';\n",
              "        await google.colab.output.renderOutput(dataTable, element);\n",
              "        const docLink = document.createElement('div');\n",
              "        docLink.innerHTML = docLinkHtml;\n",
              "        element.appendChild(docLink);\n",
              "      }\n",
              "    </script>\n",
              "  </div>\n",
              "\n",
              "\n",
              "<div id=\"df-8b52373c-7c54-4381-a24a-3ce7a6f6a150\">\n",
              "  <button class=\"colab-df-quickchart\" onclick=\"quickchart('df-8b52373c-7c54-4381-a24a-3ce7a6f6a150')\"\n",
              "            title=\"Suggest charts\"\n",
              "            style=\"display:none;\">\n",
              "\n",
              "<svg xmlns=\"http://www.w3.org/2000/svg\" height=\"24px\"viewBox=\"0 0 24 24\"\n",
              "     width=\"24px\">\n",
              "    <g>\n",
              "        <path d=\"M19 3H5c-1.1 0-2 .9-2 2v14c0 1.1.9 2 2 2h14c1.1 0 2-.9 2-2V5c0-1.1-.9-2-2-2zM9 17H7v-7h2v7zm4 0h-2V7h2v10zm4 0h-2v-4h2v4z\"/>\n",
              "    </g>\n",
              "</svg>\n",
              "  </button>\n",
              "\n",
              "<style>\n",
              "  .colab-df-quickchart {\n",
              "      --bg-color: #E8F0FE;\n",
              "      --fill-color: #1967D2;\n",
              "      --hover-bg-color: #E2EBFA;\n",
              "      --hover-fill-color: #174EA6;\n",
              "      --disabled-fill-color: #AAA;\n",
              "      --disabled-bg-color: #DDD;\n",
              "  }\n",
              "\n",
              "  [theme=dark] .colab-df-quickchart {\n",
              "      --bg-color: #3B4455;\n",
              "      --fill-color: #D2E3FC;\n",
              "      --hover-bg-color: #434B5C;\n",
              "      --hover-fill-color: #FFFFFF;\n",
              "      --disabled-bg-color: #3B4455;\n",
              "      --disabled-fill-color: #666;\n",
              "  }\n",
              "\n",
              "  .colab-df-quickchart {\n",
              "    background-color: var(--bg-color);\n",
              "    border: none;\n",
              "    border-radius: 50%;\n",
              "    cursor: pointer;\n",
              "    display: none;\n",
              "    fill: var(--fill-color);\n",
              "    height: 32px;\n",
              "    padding: 0;\n",
              "    width: 32px;\n",
              "  }\n",
              "\n",
              "  .colab-df-quickchart:hover {\n",
              "    background-color: var(--hover-bg-color);\n",
              "    box-shadow: 0 1px 2px rgba(60, 64, 67, 0.3), 0 1px 3px 1px rgba(60, 64, 67, 0.15);\n",
              "    fill: var(--button-hover-fill-color);\n",
              "  }\n",
              "\n",
              "  .colab-df-quickchart-complete:disabled,\n",
              "  .colab-df-quickchart-complete:disabled:hover {\n",
              "    background-color: var(--disabled-bg-color);\n",
              "    fill: var(--disabled-fill-color);\n",
              "    box-shadow: none;\n",
              "  }\n",
              "\n",
              "  .colab-df-spinner {\n",
              "    border: 2px solid var(--fill-color);\n",
              "    border-color: transparent;\n",
              "    border-bottom-color: var(--fill-color);\n",
              "    animation:\n",
              "      spin 1s steps(1) infinite;\n",
              "  }\n",
              "\n",
              "  @keyframes spin {\n",
              "    0% {\n",
              "      border-color: transparent;\n",
              "      border-bottom-color: var(--fill-color);\n",
              "      border-left-color: var(--fill-color);\n",
              "    }\n",
              "    20% {\n",
              "      border-color: transparent;\n",
              "      border-left-color: var(--fill-color);\n",
              "      border-top-color: var(--fill-color);\n",
              "    }\n",
              "    30% {\n",
              "      border-color: transparent;\n",
              "      border-left-color: var(--fill-color);\n",
              "      border-top-color: var(--fill-color);\n",
              "      border-right-color: var(--fill-color);\n",
              "    }\n",
              "    40% {\n",
              "      border-color: transparent;\n",
              "      border-right-color: var(--fill-color);\n",
              "      border-top-color: var(--fill-color);\n",
              "    }\n",
              "    60% {\n",
              "      border-color: transparent;\n",
              "      border-right-color: var(--fill-color);\n",
              "    }\n",
              "    80% {\n",
              "      border-color: transparent;\n",
              "      border-right-color: var(--fill-color);\n",
              "      border-bottom-color: var(--fill-color);\n",
              "    }\n",
              "    90% {\n",
              "      border-color: transparent;\n",
              "      border-bottom-color: var(--fill-color);\n",
              "    }\n",
              "  }\n",
              "</style>\n",
              "\n",
              "  <script>\n",
              "    async function quickchart(key) {\n",
              "      const quickchartButtonEl =\n",
              "        document.querySelector('#' + key + ' button');\n",
              "      quickchartButtonEl.disabled = true;  // To prevent multiple clicks.\n",
              "      quickchartButtonEl.classList.add('colab-df-spinner');\n",
              "      try {\n",
              "        const charts = await google.colab.kernel.invokeFunction(\n",
              "            'suggestCharts', [key], {});\n",
              "      } catch (error) {\n",
              "        console.error('Error during call to suggestCharts:', error);\n",
              "      }\n",
              "      quickchartButtonEl.classList.remove('colab-df-spinner');\n",
              "      quickchartButtonEl.classList.add('colab-df-quickchart-complete');\n",
              "    }\n",
              "    (() => {\n",
              "      let quickchartButtonEl =\n",
              "        document.querySelector('#df-8b52373c-7c54-4381-a24a-3ce7a6f6a150 button');\n",
              "      quickchartButtonEl.style.display =\n",
              "        google.colab.kernel.accessAllowed ? 'block' : 'none';\n",
              "    })();\n",
              "  </script>\n",
              "</div>\n",
              "    </div>\n",
              "  </div>\n"
            ],
            "application/vnd.google.colaboratory.intrinsic+json": {
              "type": "dataframe",
              "variable_name": "roc_curve_data_rf",
              "summary": "{\n  \"name\": \"roc_curve_data_rf\",\n  \"rows\": 50,\n  \"fields\": [\n    {\n      \"column\": \"Thresholds\",\n      \"properties\": {\n        \"dtype\": \"number\",\n        \"std\": 0.3342723440549637,\n        \"min\": 0.0,\n        \"max\": 2.0,\n        \"samples\": [\n          0.46,\n          0.1,\n          0.22\n        ],\n        \"num_unique_values\": 50,\n        \"semantic_type\": \"\",\n        \"description\": \"\"\n      }\n    },\n    {\n      \"column\": \"Recall\",\n      \"properties\": {\n        \"dtype\": \"number\",\n        \"std\": 0.22492139065609906,\n        \"min\": 0.0,\n        \"max\": 1.0,\n        \"samples\": [\n          0.0,\n          0.6578947368421053,\n          0.5263157894736842\n        ],\n        \"num_unique_values\": 22,\n        \"semantic_type\": \"\",\n        \"description\": \"\"\n      }\n    },\n    {\n      \"column\": \"Fallout\",\n      \"properties\": {\n        \"dtype\": \"number\",\n        \"std\": 0.20159130031216932,\n        \"min\": 0.0,\n        \"max\": 1.0,\n        \"samples\": [\n          0.624113475177305,\n          0.4042553191489362,\n          0.975177304964539\n        ],\n        \"num_unique_values\": 39,\n        \"semantic_type\": \"\",\n        \"description\": \"\"\n      }\n    },\n    {\n      \"column\": \"Balanced Accuracy\",\n      \"properties\": {\n        \"dtype\": \"number\",\n        \"std\": 0.08111940489404525,\n        \"min\": 0.5,\n        \"max\": 0.8212952594251587,\n        \"samples\": [\n          0.7585852930197835,\n          0.7303098170959313,\n          0.6889697648376261\n        ],\n        \"num_unique_values\": 49,\n        \"semantic_type\": \"\",\n        \"description\": \"\"\n      }\n    }\n  ]\n}"
            }
          },
          "metadata": {},
          "execution_count": 129
        }
      ]
    },
    {
      "cell_type": "code",
      "metadata": {
        "id": "asmPIgYZtE5L",
        "colab": {
          "base_uri": "https://localhost:8080/",
          "height": 542
        },
        "outputId": "9a6e5e16-fe40-483f-9138-6855f0cd38eb"
      },
      "source": [
        "# Plot the ROC curve\n",
        "plt.figure(figsize=(8, 6))\n",
        "plt.plot(fpr, tpr, label='ROC curve (area = %0.2f)' % roc_auc_rf, color = 'orange')\n",
        "plt.plot([0, 1], [0, 1], color='navy', linestyle='--')\n",
        "plt.xlabel('Fallout')\n",
        "plt.ylabel('Recall')\n",
        "plt.legend(loc=\"lower right\")\n",
        "plt.show()"
      ],
      "execution_count": 130,
      "outputs": [
        {
          "output_type": "display_data",
          "data": {
            "text/plain": [
              "<Figure size 800x600 with 1 Axes>"
            ],
            "image/png": "[encoded data removed]"
          },
          "metadata": {}
        }
      ]
    },
    {
      "cell_type": "markdown",
      "metadata": {
        "id": "JsEstfsbQXn4"
      },
      "source": [
        "**Question:** Considering the results, what threshold would you select? Would you use this model or one of the ones from before?"
      ]
    },
    {
      "cell_type": "markdown",
      "metadata": {
        "id": "72yflvr4uzRt"
      },
      "source": [
        "Would I select this model (I'm going to assume you picked well)? Maybe - the selected threshold is not as extreme and points to a lower likelihood of potential overfitting. Of course, in practice, I don't really have enough information at the moment to choose as we have not guarded against procedural overfitting! So for a definitive answer we'll have to wait until next week.\n",
        "\n",
        "**For now the take home message is:**\n",
        "1. Re-weighting does help\n",
        "2. Thresholding can help (although how much we can't tell yet as we don't know how much, if any, is being caused by overfitting)\n",
        "3. That we can do 1 and 2 together if we want (but again until next week's lecture we can't tell how much this will truely help when predicting new data as we don't know how much, if any, is being caused by overfitting)"
      ]
    },
    {
      "cell_type": "markdown",
      "metadata": {
        "id": "l4YVky9Pu4_t"
      },
      "source": [
        "## Step 8: Dealing with unbalanced class using SMOTE\n",
        "Now let do SMOTE and see how that compares.\n",
        "\n",
        "We will use the `imblaern` package. Specifically we will use the implemenation found here:\n",
        "\n",
        "https://imbalanced-learn.readthedocs.io/en/stable/generated/imblearn.over_sampling.SMOTE.html\n",
        "\n",
        "To use this package we will `.fit(..)` a SMOTE object using the training set and then call a function called `resample(..)` to generate a new training set.\n",
        "\n",
        "### Step 8a: Import SMOTE\n",
        "\n",
        "The import we will need is:\n",
        "`from imblearn.over_sampling import SMOTE`"
      ]
    },
    {
      "cell_type": "code",
      "metadata": {
        "id": "7jKh9OsPu3rs"
      },
      "source": [
        "from imblearn.over_sampling import SMOTE"
      ],
      "execution_count": 93,
      "outputs": []
    },
    {
      "cell_type": "markdown",
      "metadata": {
        "id": "g1ZgcLs-TRnp"
      },
      "source": [
        "### Step 8b: Check the number of each class in your training labels (so we can check later SMOTE worked.\n",
        "\n",
        "You can use this code (assuming your training set labels are in a variable called `y_train`:\n",
        "```\n",
        "from collections import Counter\n",
        "print('Original dataset shape {}'.format(Counter(y_train)))\n",
        "```"
      ]
    },
    {
      "cell_type": "code",
      "metadata": {
        "id": "gx5K5f2rva_v",
        "colab": {
          "base_uri": "https://localhost:8080/"
        },
        "outputId": "58f04599-8bb2-49c1-f18f-3dbec754484f"
      },
      "source": [
        "from collections import Counter\n",
        "print('Original dataset shape {}'.format(Counter(y_train)))"
      ],
      "execution_count": 94,
      "outputs": [
        {
          "output_type": "stream",
          "name": "stdout",
          "text": [
            "Original dataset shape Counter({False: 1100, True: 179})\n"
          ]
        }
      ]
    },
    {
      "cell_type": "markdown",
      "metadata": {
        "id": "AO_wAVEXT20A"
      },
      "source": [
        "### Step 8c: Create the SMOTE object.\n",
        "Have a quick look at the documentation to see what parameters exist. In this case, however, the defaults are fine. The **one thing we will set is the random_state = 42** so we all get the same answers and so things do not change due to randomness as we adjust and evaluate the effect of changes to other parts of the algorithm / machine learning pipeline.\n"
      ]
    },
    {
      "cell_type": "code",
      "metadata": {
        "id": "CTCSpp-svb6n"
      },
      "source": [
        "sm = SMOTE(sampling_strategy='auto', random_state=42)"
      ],
      "execution_count": 100,
      "outputs": []
    },
    {
      "cell_type": "markdown",
      "metadata": {
        "id": "1Y6tAXWCUmbu"
      },
      "source": [
        "### Step 8d: Create the new (balanced) training set using SMOTE\n",
        "Unfortunately SMOTE does not handle missing values. Given what you were taught in the lecture can you think of why?\n",
        "\n",
        "As such we need to impute our data first. We could use a pipeline, but for simplicilty let's just fit a stand-alone KNNImputer and fit it using the training data and then transform the training data to return us a training set with the missing values filled in.\n",
        "\n",
        "Use a KNNImputer to create a new set of input features for training (**let's call it `X_trainI`**)."
      ]
    },
    {
      "cell_type": "code",
      "metadata": {
        "id": "S65GUpf4ydNR"
      },
      "source": [
        "imputed_data = imputer.fit_transform(X_train)\n",
        "\n",
        "# Convert the imputed data back to a DataFrame\n",
        "X_trainI = pd.DataFrame(imputed_data, columns=X_train.columns)"
      ],
      "execution_count": 101,
      "outputs": []
    },
    {
      "cell_type": "code",
      "source": [
        "X_trainI.isna().sum()"
      ],
      "metadata": {
        "colab": {
          "base_uri": "https://localhost:8080/"
        },
        "id": "Dn3HS69c6uUl",
        "outputId": "24ed5b51-8d88-4883-e31b-b71a87827770"
      },
      "execution_count": 102,
      "outputs": [
        {
          "output_type": "execute_result",
          "data": {
            "text/plain": [
              "fixed acidity           0\n",
              "volatile acidity        0\n",
              "citric acid             0\n",
              "residual sugar          0\n",
              "chlorides               0\n",
              "free sulfur dioxide     0\n",
              "total sulfur dioxide    0\n",
              "density                 0\n",
              "pH                      0\n",
              "sulphates               0\n",
              "alcohol                 0\n",
              "dtype: int64"
            ]
          },
          "metadata": {},
          "execution_count": 102
        }
      ]
    },
    {
      "cell_type": "markdown",
      "metadata": {
        "id": "0Tg-Lq2OW-i0"
      },
      "source": [
        "Now we have a dataset (`X_trainI`, `y_train`) without missing values we can fit the SMOTE object and call resample. We can do this as two steps or a single step using the function `.fit_sample(..)`. Given `.fit()` doesn't really do anything (it is included mainly to follow the sklearn interface) we should **always use `.fit_sample(..)`.\n",
        "\n",
        "If you read the documents you will find that: `.fit_sample(...)` takes the input features and the output labels for the set we want to resample and returns two things - a `new input feature matrix` and a `new output label list`.\n",
        "\n",
        "In otherwords the way we call is it is (assuming your SMOTE object you created is called `sm`):\n",
        "\n",
        "`X_res, y_res = sm.fit_resample(X_trainI, y_train)`\n",
        "\n",
        "Ok, now create the resampled training set! Ensure you are passing the right variable given you may have different variable names. After use the code I gave you before (the one using `Counter`) to check if the training data set is now balanced or not - i.e to see what SMOTE has done."
      ]
    },
    {
      "cell_type": "code",
      "metadata": {
        "id": "4B5E-3FoW5CT"
      },
      "source": [
        "X_res, y_res = sm.fit_resample(X_trainI, y_train)"
      ],
      "execution_count": 103,
      "outputs": []
    },
    {
      "cell_type": "markdown",
      "metadata": {
        "id": "wDdlyzZVYs1V"
      },
      "source": [
        "### Step 8e: Train and evaluate our classifier using our new SMOTE training dataset.\n",
        "\n",
        "Go ahead. You should know what to do by now. If not, ask!\n",
        "\n",
        "You should compute:\n",
        "1. The accuracy, recall, specificity, balanced accuracy for the classifier without considering changing the probability thesholds\n",
        "2. Vary the probability threshold and print the table as before as well as the ROC graph."
      ]
    },
    {
      "cell_type": "code",
      "metadata": {
        "id": "JssZ7bjrzLzF",
        "colab": {
          "base_uri": "https://localhost:8080/"
        },
        "outputId": "7a364d8b-6018-4ff5-cc4d-55668a669d57"
      },
      "source": [
        "# Split the resampled data into training and testing sets\n",
        "X_train, X_test, y_train, y_test = train_test_split(X_res, y_res, test_size=0.2, random_state=42)\n",
        "\n",
        "# Instantiate the classifier (for example, RandomForestClassifier)\n",
        "clf = RandomForestClassifier()\n",
        "\n",
        "# Train the classifier\n",
        "clf.fit(X_train, y_train)\n",
        "\n",
        "# Evaluate the classifier\n",
        "y_pred = clf.predict(X_test)\n",
        "print(classification_report(y_test, y_pred))\n",
        "\n",
        "accuracy = accuracy_score(y_test, y_pred)\n",
        "print(\"Model Accuracy:\", accuracy)"
      ],
      "execution_count": 105,
      "outputs": [
        {
          "output_type": "stream",
          "name": "stdout",
          "text": [
            "              precision    recall  f1-score   support\n",
            "\n",
            "       False       0.96      0.85      0.90       223\n",
            "        True       0.86      0.97      0.91       217\n",
            "\n",
            "    accuracy                           0.91       440\n",
            "   macro avg       0.91      0.91      0.91       440\n",
            "weighted avg       0.92      0.91      0.91       440\n",
            "\n",
            "Model Accuracy: 0.9090909090909091\n"
          ]
        }
      ]
    },
    {
      "cell_type": "code",
      "metadata": {
        "id": "lCQU7InVzpDJ"
      },
      "source": [
        "#Why have we used just X_train not not the whole dataset above?"
      ],
      "execution_count": 111,
      "outputs": []
    },
    {
      "cell_type": "markdown",
      "source": [
        "**SMOTE using the whole dataset**"
      ],
      "metadata": {
        "id": "AfThBDK48opF"
      }
    },
    {
      "cell_type": "code",
      "metadata": {
        "id": "bMvZZgrzzrb3"
      },
      "source": [
        "sm = SMOTE(sampling_strategy='auto', random_state=42)\n",
        "\n",
        "imputed_data = imputer.fit_transform(df_new)\n",
        "\n",
        "# Convert the imputed data back to a DataFrame\n",
        "imputed_new_df = pd.DataFrame(imputed_data, columns=df_new.columns)"
      ],
      "execution_count": 139,
      "outputs": []
    },
    {
      "cell_type": "code",
      "metadata": {
        "id": "lke0jM0xaC4E"
      },
      "source": [
        "X = imputed_new_df.drop(columns = ['quality'])\n",
        "y = imputed_new_df.quality >= 7"
      ],
      "execution_count": 140,
      "outputs": []
    },
    {
      "cell_type": "code",
      "metadata": {
        "id": "0-aTemtaztZu"
      },
      "source": [
        "X_res, y_res = sm.fit_resample(X, y)"
      ],
      "execution_count": 141,
      "outputs": []
    },
    {
      "cell_type": "code",
      "source": [
        "X_train, X_test, y_train, y_test = train_test_split(X_res, y_res, test_size=0.2, random_state=42)\n",
        "\n",
        "# Instantiate the classifier (for example, RandomForestClassifier)\n",
        "clf = RandomForestClassifier()\n",
        "\n",
        "# Train the classifier\n",
        "clf.fit(X_train, y_train)\n",
        "\n",
        "# Evaluate the classifier\n",
        "y_pred = clf.predict(X_test)\n",
        "print(classification_report(y_test, y_pred))\n",
        "\n",
        "accuracy = accuracy_score(y_test, y_pred)\n",
        "print(\"Model Accuracy:\", accuracy)"
      ],
      "metadata": {
        "colab": {
          "base_uri": "https://localhost:8080/"
        },
        "id": "-jZ7PXyl8hXu",
        "outputId": "c2dacd61-5baa-4d3b-b988-d9f5f75c7051"
      },
      "execution_count": 142,
      "outputs": [
        {
          "output_type": "stream",
          "name": "stdout",
          "text": [
            "              precision    recall  f1-score   support\n",
            "\n",
            "       False       0.97      0.94      0.95       284\n",
            "        True       0.94      0.97      0.95       269\n",
            "\n",
            "    accuracy                           0.95       553\n",
            "   macro avg       0.95      0.95      0.95       553\n",
            "weighted avg       0.95      0.95      0.95       553\n",
            "\n",
            "Model Accuracy: 0.9529837251356239\n"
          ]
        }
      ]
    },
    {
      "cell_type": "code",
      "source": [
        "y_pred_proba_rf = clf.predict_proba(X_test)\n",
        "\n",
        "y_prob_rf_true = y_pred_proba_rf[:, 1]\n",
        "\n",
        "fpr, tpr, thresholds = roc_curve(y_test, y_prob_rf_true)\n",
        "\n",
        "# AUC score\n",
        "roc_auc_rf = auc(fpr, tpr)"
      ],
      "metadata": {
        "id": "8WMPkKZp82sb"
      },
      "execution_count": 143,
      "outputs": []
    },
    {
      "cell_type": "code",
      "source": [
        "# Create a pandas DataFrame with the ROC curve data\n",
        "roc_curve_data_rf = pd.DataFrame({'Thresholds': thresholds, 'Recall': tpr, 'Fallout': 1 - fpr, 'Balanced Accuracy': (tpr + (1 - fpr)) / 2})\n",
        "\n",
        "# Print the ROC curve data table\n",
        "roc_curve_data_rf.head()"
      ],
      "metadata": {
        "colab": {
          "base_uri": "https://localhost:8080/",
          "height": 206
        },
        "id": "DJa2Uhtt9J8V",
        "outputId": "f309350f-2c8f-4e53-84fc-8b409ed2ba7d"
      },
      "execution_count": 144,
      "outputs": [
        {
          "output_type": "execute_result",
          "data": {
            "text/plain": [
              "   Thresholds    Recall  Fallout  Balanced Accuracy\n",
              "0        2.00  0.000000      1.0           0.500000\n",
              "1        1.00  0.126394      1.0           0.563197\n",
              "2        0.99  0.219331      1.0           0.609665\n",
              "3        0.98  0.301115      1.0           0.650558\n",
              "4        0.97  0.349442      1.0           0.674721"
            ],
            "text/html": [
              "\n",
              "  <div id=\"df-d7b6eac9-9ef3-49bb-9769-06210460a86d\" class=\"colab-df-container\">\n",
              "    <div>\n",
              "<style scoped>\n",
              "    .dataframe tbody tr th:only-of-type {\n",
              "        vertical-align: middle;\n",
              "    }\n",
              "\n",
              "    .dataframe tbody tr th {\n",
              "        vertical-align: top;\n",
              "    }\n",
              "\n",
              "    .dataframe thead th {\n",
              "        text-align: right;\n",
              "    }\n",
              "</style>\n",
              "<table border=\"1\" class=\"dataframe\">\n",
              "  <thead>\n",
              "    <tr style=\"text-align: right;\">\n",
              "      <th></th>\n",
              "      <th>Thresholds</th>\n",
              "      <th>Recall</th>\n",
              "      <th>Fallout</th>\n",
              "      <th>Balanced Accuracy</th>\n",
              "    </tr>\n",
              "  </thead>\n",
              "  <tbody>\n",
              "    <tr>\n",
              "      <th>0</th>\n",
              "      <td>2.00</td>\n",
              "      <td>0.000000</td>\n",
              "      <td>1.0</td>\n",
              "      <td>0.500000</td>\n",
              "    </tr>\n",
              "    <tr>\n",
              "      <th>1</th>\n",
              "      <td>1.00</td>\n",
              "      <td>0.126394</td>\n",
              "      <td>1.0</td>\n",
              "      <td>0.563197</td>\n",
              "    </tr>\n",
              "    <tr>\n",
              "      <th>2</th>\n",
              "      <td>0.99</td>\n",
              "      <td>0.219331</td>\n",
              "      <td>1.0</td>\n",
              "      <td>0.609665</td>\n",
              "    </tr>\n",
              "    <tr>\n",
              "      <th>3</th>\n",
              "      <td>0.98</td>\n",
              "      <td>0.301115</td>\n",
              "      <td>1.0</td>\n",
              "      <td>0.650558</td>\n",
              "    </tr>\n",
              "    <tr>\n",
              "      <th>4</th>\n",
              "      <td>0.97</td>\n",
              "      <td>0.349442</td>\n",
              "      <td>1.0</td>\n",
              "      <td>0.674721</td>\n",
              "    </tr>\n",
              "  </tbody>\n",
              "</table>\n",
              "</div>\n",
              "    <div class=\"colab-df-buttons\">\n",
              "\n",
              "  <div class=\"colab-df-container\">\n",
              "    <button class=\"colab-df-convert\" onclick=\"convertToInteractive('df-d7b6eac9-9ef3-49bb-9769-06210460a86d')\"\n",
              "            title=\"Convert this dataframe to an interactive table.\"\n",
              "            style=\"display:none;\">\n",
              "\n",
              "  <svg xmlns=\"http://www.w3.org/2000/svg\" height=\"24px\" viewBox=\"0 -960 960 960\">\n",
              "    <path d=\"M120-120v-720h720v720H120Zm60-500h600v-160H180v160Zm220 220h160v-160H400v160Zm0 220h160v-160H400v160ZM180-400h160v-160H180v160Zm440 0h160v-160H620v160ZM180-180h160v-160H180v160Zm440 0h160v-160H620v160Z\"/>\n",
              "  </svg>\n",
              "    </button>\n",
              "\n",
              "  <style>\n",
              "    .colab-df-container {\n",
              "      display:flex;\n",
              "      gap: 12px;\n",
              "    }\n",
              "\n",
              "    .colab-df-convert {\n",
              "      background-color: #E8F0FE;\n",
              "      border: none;\n",
              "      border-radius: 50%;\n",
              "      cursor: pointer;\n",
              "      display: none;\n",
              "      fill: #1967D2;\n",
              "      height: 32px;\n",
              "      padding: 0 0 0 0;\n",
              "      width: 32px;\n",
              "    }\n",
              "\n",
              "    .colab-df-convert:hover {\n",
              "      background-color: #E2EBFA;\n",
              "      box-shadow: 0px 1px 2px rgba(60, 64, 67, 0.3), 0px 1px 3px 1px rgba(60, 64, 67, 0.15);\n",
              "      fill: #174EA6;\n",
              "    }\n",
              "\n",
              "    .colab-df-buttons div {\n",
              "      margin-bottom: 4px;\n",
              "    }\n",
              "\n",
              "    [theme=dark] .colab-df-convert {\n",
              "      background-color: #3B4455;\n",
              "      fill: #D2E3FC;\n",
              "    }\n",
              "\n",
              "    [theme=dark] .colab-df-convert:hover {\n",
              "      background-color: #434B5C;\n",
              "      box-shadow: 0px 1px 3px 1px rgba(0, 0, 0, 0.15);\n",
              "      filter: drop-shadow(0px 1px 2px rgba(0, 0, 0, 0.3));\n",
              "      fill: #FFFFFF;\n",
              "    }\n",
              "  </style>\n",
              "\n",
              "    <script>\n",
              "      const buttonEl =\n",
              "        document.querySelector('#df-d7b6eac9-9ef3-49bb-9769-06210460a86d button.colab-df-convert');\n",
              "      buttonEl.style.display =\n",
              "        google.colab.kernel.accessAllowed ? 'block' : 'none';\n",
              "\n",
              "      async function convertToInteractive(key) {\n",
              "        const element = document.querySelector('#df-d7b6eac9-9ef3-49bb-9769-06210460a86d');\n",
              "        const dataTable =\n",
              "          await google.colab.kernel.invokeFunction('convertToInteractive',\n",
              "                                                    [key], {});\n",
              "        if (!dataTable) return;\n",
              "\n",
              "        const docLinkHtml = 'Like what you see? Visit the ' +\n",
              "          '<a target=\"_blank\" href=https://colab.research.google.com/notebooks/data_table.ipynb>data table notebook</a>'\n",
              "          + ' to learn more about interactive tables.';\n",
              "        element.innerHTML = '';\n",
              "        dataTable['output_type'] = 'display_data';\n",
              "        await google.colab.output.renderOutput(dataTable, element);\n",
              "        const docLink = document.createElement('div');\n",
              "        docLink.innerHTML = docLinkHtml;\n",
              "        element.appendChild(docLink);\n",
              "      }\n",
              "    </script>\n",
              "  </div>\n",
              "\n",
              "\n",
              "<div id=\"df-7080ce07-682f-49e2-af08-c0ebdb9f7f7b\">\n",
              "  <button class=\"colab-df-quickchart\" onclick=\"quickchart('df-7080ce07-682f-49e2-af08-c0ebdb9f7f7b')\"\n",
              "            title=\"Suggest charts\"\n",
              "            style=\"display:none;\">\n",
              "\n",
              "<svg xmlns=\"http://www.w3.org/2000/svg\" height=\"24px\"viewBox=\"0 0 24 24\"\n",
              "     width=\"24px\">\n",
              "    <g>\n",
              "        <path d=\"M19 3H5c-1.1 0-2 .9-2 2v14c0 1.1.9 2 2 2h14c1.1 0 2-.9 2-2V5c0-1.1-.9-2-2-2zM9 17H7v-7h2v7zm4 0h-2V7h2v10zm4 0h-2v-4h2v4z\"/>\n",
              "    </g>\n",
              "</svg>\n",
              "  </button>\n",
              "\n",
              "<style>\n",
              "  .colab-df-quickchart {\n",
              "      --bg-color: #E8F0FE;\n",
              "      --fill-color: #1967D2;\n",
              "      --hover-bg-color: #E2EBFA;\n",
              "      --hover-fill-color: #174EA6;\n",
              "      --disabled-fill-color: #AAA;\n",
              "      --disabled-bg-color: #DDD;\n",
              "  }\n",
              "\n",
              "  [theme=dark] .colab-df-quickchart {\n",
              "      --bg-color: #3B4455;\n",
              "      --fill-color: #D2E3FC;\n",
              "      --hover-bg-color: #434B5C;\n",
              "      --hover-fill-color: #FFFFFF;\n",
              "      --disabled-bg-color: #3B4455;\n",
              "      --disabled-fill-color: #666;\n",
              "  }\n",
              "\n",
              "  .colab-df-quickchart {\n",
              "    background-color: var(--bg-color);\n",
              "    border: none;\n",
              "    border-radius: 50%;\n",
              "    cursor: pointer;\n",
              "    display: none;\n",
              "    fill: var(--fill-color);\n",
              "    height: 32px;\n",
              "    padding: 0;\n",
              "    width: 32px;\n",
              "  }\n",
              "\n",
              "  .colab-df-quickchart:hover {\n",
              "    background-color: var(--hover-bg-color);\n",
              "    box-shadow: 0 1px 2px rgba(60, 64, 67, 0.3), 0 1px 3px 1px rgba(60, 64, 67, 0.15);\n",
              "    fill: var(--button-hover-fill-color);\n",
              "  }\n",
              "\n",
              "  .colab-df-quickchart-complete:disabled,\n",
              "  .colab-df-quickchart-complete:disabled:hover {\n",
              "    background-color: var(--disabled-bg-color);\n",
              "    fill: var(--disabled-fill-color);\n",
              "    box-shadow: none;\n",
              "  }\n",
              "\n",
              "  .colab-df-spinner {\n",
              "    border: 2px solid var(--fill-color);\n",
              "    border-color: transparent;\n",
              "    border-bottom-color: var(--fill-color);\n",
              "    animation:\n",
              "      spin 1s steps(1) infinite;\n",
              "  }\n",
              "\n",
              "  @keyframes spin {\n",
              "    0% {\n",
              "      border-color: transparent;\n",
              "      border-bottom-color: var(--fill-color);\n",
              "      border-left-color: var(--fill-color);\n",
              "    }\n",
              "    20% {\n",
              "      border-color: transparent;\n",
              "      border-left-color: var(--fill-color);\n",
              "      border-top-color: var(--fill-color);\n",
              "    }\n",
              "    30% {\n",
              "      border-color: transparent;\n",
              "      border-left-color: var(--fill-color);\n",
              "      border-top-color: var(--fill-color);\n",
              "      border-right-color: var(--fill-color);\n",
              "    }\n",
              "    40% {\n",
              "      border-color: transparent;\n",
              "      border-right-color: var(--fill-color);\n",
              "      border-top-color: var(--fill-color);\n",
              "    }\n",
              "    60% {\n",
              "      border-color: transparent;\n",
              "      border-right-color: var(--fill-color);\n",
              "    }\n",
              "    80% {\n",
              "      border-color: transparent;\n",
              "      border-right-color: var(--fill-color);\n",
              "      border-bottom-color: var(--fill-color);\n",
              "    }\n",
              "    90% {\n",
              "      border-color: transparent;\n",
              "      border-bottom-color: var(--fill-color);\n",
              "    }\n",
              "  }\n",
              "</style>\n",
              "\n",
              "  <script>\n",
              "    async function quickchart(key) {\n",
              "      const quickchartButtonEl =\n",
              "        document.querySelector('#' + key + ' button');\n",
              "      quickchartButtonEl.disabled = true;  // To prevent multiple clicks.\n",
              "      quickchartButtonEl.classList.add('colab-df-spinner');\n",
              "      try {\n",
              "        const charts = await google.colab.kernel.invokeFunction(\n",
              "            'suggestCharts', [key], {});\n",
              "      } catch (error) {\n",
              "        console.error('Error during call to suggestCharts:', error);\n",
              "      }\n",
              "      quickchartButtonEl.classList.remove('colab-df-spinner');\n",
              "      quickchartButtonEl.classList.add('colab-df-quickchart-complete');\n",
              "    }\n",
              "    (() => {\n",
              "      let quickchartButtonEl =\n",
              "        document.querySelector('#df-7080ce07-682f-49e2-af08-c0ebdb9f7f7b button');\n",
              "      quickchartButtonEl.style.display =\n",
              "        google.colab.kernel.accessAllowed ? 'block' : 'none';\n",
              "    })();\n",
              "  </script>\n",
              "</div>\n",
              "    </div>\n",
              "  </div>\n"
            ],
            "application/vnd.google.colaboratory.intrinsic+json": {
              "type": "dataframe",
              "variable_name": "roc_curve_data_rf",
              "summary": "{\n  \"name\": \"roc_curve_data_rf\",\n  \"rows\": 81,\n  \"fields\": [\n    {\n      \"column\": \"Thresholds\",\n      \"properties\": {\n        \"dtype\": \"number\",\n        \"std\": 0.3475828349623926,\n        \"min\": 0.0,\n        \"max\": 2.0,\n        \"samples\": [\n          0.69,\n          2.0,\n          0.78\n        ],\n        \"num_unique_values\": 81,\n        \"semantic_type\": \"\",\n        \"description\": \"\"\n      }\n    },\n    {\n      \"column\": \"Recall\",\n      \"properties\": {\n        \"dtype\": \"number\",\n        \"std\": 0.22378140924096435,\n        \"min\": 0.0,\n        \"max\": 1.0,\n        \"samples\": [\n          0.8773234200743495,\n          0.9702602230483272,\n          0.8736059479553904\n        ],\n        \"num_unique_values\": 47,\n        \"semantic_type\": \"\",\n        \"description\": \"\"\n      }\n    },\n    {\n      \"column\": \"Fallout\",\n      \"properties\": {\n        \"dtype\": \"number\",\n        \"std\": 0.20607293140123087,\n        \"min\": 0.0,\n        \"max\": 1.0,\n        \"samples\": [\n          0.8908450704225352,\n          0.6690140845070423,\n          0.4154929577464789\n        ],\n        \"num_unique_values\": 52,\n        \"semantic_type\": \"\",\n        \"description\": \"\"\n      }\n    },\n    {\n      \"column\": \"Balanced Accuracy\",\n      \"properties\": {\n        \"dtype\": \"number\",\n        \"std\": 0.1137496248220687,\n        \"min\": 0.5,\n        \"max\": 0.9567647520812608,\n        \"samples\": [\n          0.942968218231321,\n          0.5,\n          0.9110751871825751\n        ],\n        \"num_unique_values\": 80,\n        \"semantic_type\": \"\",\n        \"description\": \"\"\n      }\n    }\n  ]\n}"
            }
          },
          "metadata": {},
          "execution_count": 144
        }
      ]
    },
    {
      "cell_type": "code",
      "source": [
        "# Plot the ROC curve\n",
        "plt.figure(figsize=(8, 6))\n",
        "plt.plot(fpr, tpr, label='ROC curve (area = %0.2f)' % roc_auc_rf, color = 'orange')\n",
        "plt.plot([0, 1], [0, 1], color='navy', linestyle='--')\n",
        "plt.xlabel('Fallout')\n",
        "plt.ylabel('Recall')\n",
        "plt.legend(loc=\"lower right\")\n",
        "plt.show()"
      ],
      "metadata": {
        "colab": {
          "base_uri": "https://localhost:8080/",
          "height": 542
        },
        "id": "Xs2WXyk79PYs",
        "outputId": "817e4e5a-d30d-46ac-a51c-5cb385e73300"
      },
      "execution_count": 145,
      "outputs": [
        {
          "output_type": "display_data",
          "data": {
            "text/plain": [
              "<Figure size 800x600 with 1 Axes>"
            ],
            "image/png": "[encoded data removed]"
          },
          "metadata": {}
        }
      ]
    },
    {
      "cell_type": "markdown",
      "metadata": {
        "id": "FEaXQtmHz9fY"
      },
      "source": [
        "Did this help?"
      ]
    },
    {
      "cell_type": "markdown",
      "metadata": {
        "id": "Rzs_DCywz--o"
      },
      "source": [
        "# Optional Extras\n",
        "1. Read this [documentation](https://imbalanced-learn.readthedocs.io/en/stable/generated/imblearn.pipeline.Pipeline.html#imblearn.pipeline.Pipeline) and include SMOTE in a pipeline. HINT: A key statement is \"The samplers are only applied during fit\".\n",
        "2. If we use the reweighting method we can trade-off accuacy between classes (recall and specificity in the binary case) by varying our weights as an alternative to varying the probability thresholds. Doing this systematically we can generate a plot similar to the ROC plots. Do this and compare your results. Did you get better results than looking at the probability thresholds (just for the reweighting case)?\n",
        "3. Follow up you best case with an analytis of the probability thresholds. How does your results compare to all other results?\n",
        "4. Read more on how SMOTE actually works [here](http://rikunert.com/SMOTE_explained)\n"
      ]
    }
  ]
}